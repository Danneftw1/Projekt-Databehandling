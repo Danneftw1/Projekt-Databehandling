{
 "cells": [
  {
   "cell_type": "code",
   "execution_count": 2,
   "metadata": {},
   "outputs": [
    {
     "data": {
      "text/html": [
       "<div>\n",
       "<style scoped>\n",
       "    .dataframe tbody tr th:only-of-type {\n",
       "        vertical-align: middle;\n",
       "    }\n",
       "\n",
       "    .dataframe tbody tr th {\n",
       "        vertical-align: top;\n",
       "    }\n",
       "\n",
       "    .dataframe thead th {\n",
       "        text-align: right;\n",
       "    }\n",
       "</style>\n",
       "<table border=\"1\" class=\"dataframe\">\n",
       "  <thead>\n",
       "    <tr style=\"text-align: right;\">\n",
       "      <th></th>\n",
       "      <th>ID</th>\n",
       "      <th>Name</th>\n",
       "      <th>Sex</th>\n",
       "      <th>Age</th>\n",
       "      <th>Height</th>\n",
       "      <th>Weight</th>\n",
       "      <th>Team</th>\n",
       "      <th>NOC</th>\n",
       "      <th>Games</th>\n",
       "      <th>Year</th>\n",
       "      <th>Season</th>\n",
       "      <th>City</th>\n",
       "      <th>Sport</th>\n",
       "      <th>Event</th>\n",
       "      <th>Medal</th>\n",
       "    </tr>\n",
       "  </thead>\n",
       "  <tbody>\n",
       "    <tr>\n",
       "      <th>0</th>\n",
       "      <td>1</td>\n",
       "      <td>3a4eef48434c66b3f14ab0221f6762d0ef7c6135ab2790...</td>\n",
       "      <td>M</td>\n",
       "      <td>24.0</td>\n",
       "      <td>180.0</td>\n",
       "      <td>80.0</td>\n",
       "      <td>China</td>\n",
       "      <td>CHN</td>\n",
       "      <td>1992 Summer</td>\n",
       "      <td>1992</td>\n",
       "      <td>Summer</td>\n",
       "      <td>Barcelona</td>\n",
       "      <td>Basketball</td>\n",
       "      <td>Basketball Men's Basketball</td>\n",
       "      <td>NaN</td>\n",
       "    </tr>\n",
       "    <tr>\n",
       "      <th>1</th>\n",
       "      <td>2</td>\n",
       "      <td>a6430cc6630934275dc6283f7e97e9625e6587cdddec7a...</td>\n",
       "      <td>M</td>\n",
       "      <td>23.0</td>\n",
       "      <td>170.0</td>\n",
       "      <td>60.0</td>\n",
       "      <td>China</td>\n",
       "      <td>CHN</td>\n",
       "      <td>2012 Summer</td>\n",
       "      <td>2012</td>\n",
       "      <td>Summer</td>\n",
       "      <td>London</td>\n",
       "      <td>Judo</td>\n",
       "      <td>Judo Men's Extra-Lightweight</td>\n",
       "      <td>NaN</td>\n",
       "    </tr>\n",
       "    <tr>\n",
       "      <th>2</th>\n",
       "      <td>3</td>\n",
       "      <td>9c198b205332c2c8e1542e0f9534b9e270780a41d978ec...</td>\n",
       "      <td>M</td>\n",
       "      <td>24.0</td>\n",
       "      <td>NaN</td>\n",
       "      <td>NaN</td>\n",
       "      <td>Denmark</td>\n",
       "      <td>DEN</td>\n",
       "      <td>1920 Summer</td>\n",
       "      <td>1920</td>\n",
       "      <td>Summer</td>\n",
       "      <td>Antwerpen</td>\n",
       "      <td>Football</td>\n",
       "      <td>Football Men's Football</td>\n",
       "      <td>NaN</td>\n",
       "    </tr>\n",
       "    <tr>\n",
       "      <th>3</th>\n",
       "      <td>4</td>\n",
       "      <td>0a477bb1c5ad39716f9c775e54d18d16aa8b37ada55548...</td>\n",
       "      <td>M</td>\n",
       "      <td>34.0</td>\n",
       "      <td>NaN</td>\n",
       "      <td>NaN</td>\n",
       "      <td>Denmark/Sweden</td>\n",
       "      <td>DEN</td>\n",
       "      <td>1900 Summer</td>\n",
       "      <td>1900</td>\n",
       "      <td>Summer</td>\n",
       "      <td>Paris</td>\n",
       "      <td>Tug-Of-War</td>\n",
       "      <td>Tug-Of-War Men's Tug-Of-War</td>\n",
       "      <td>Gold</td>\n",
       "    </tr>\n",
       "    <tr>\n",
       "      <th>4</th>\n",
       "      <td>5</td>\n",
       "      <td>5b7be356aa28178096dc6747f0b8e4e393eaceb5f95310...</td>\n",
       "      <td>F</td>\n",
       "      <td>21.0</td>\n",
       "      <td>185.0</td>\n",
       "      <td>82.0</td>\n",
       "      <td>Netherlands</td>\n",
       "      <td>NED</td>\n",
       "      <td>1988 Winter</td>\n",
       "      <td>1988</td>\n",
       "      <td>Winter</td>\n",
       "      <td>Calgary</td>\n",
       "      <td>Speed Skating</td>\n",
       "      <td>Speed Skating Women's 500 metres</td>\n",
       "      <td>NaN</td>\n",
       "    </tr>\n",
       "    <tr>\n",
       "      <th>...</th>\n",
       "      <td>...</td>\n",
       "      <td>...</td>\n",
       "      <td>...</td>\n",
       "      <td>...</td>\n",
       "      <td>...</td>\n",
       "      <td>...</td>\n",
       "      <td>...</td>\n",
       "      <td>...</td>\n",
       "      <td>...</td>\n",
       "      <td>...</td>\n",
       "      <td>...</td>\n",
       "      <td>...</td>\n",
       "      <td>...</td>\n",
       "      <td>...</td>\n",
       "      <td>...</td>\n",
       "    </tr>\n",
       "    <tr>\n",
       "      <th>271111</th>\n",
       "      <td>135569</td>\n",
       "      <td>07f491e055f56a7a7be133c9cf6563c253d3aa0d137630...</td>\n",
       "      <td>M</td>\n",
       "      <td>29.0</td>\n",
       "      <td>179.0</td>\n",
       "      <td>89.0</td>\n",
       "      <td>Poland-1</td>\n",
       "      <td>POL</td>\n",
       "      <td>1976 Winter</td>\n",
       "      <td>1976</td>\n",
       "      <td>Winter</td>\n",
       "      <td>Innsbruck</td>\n",
       "      <td>Luge</td>\n",
       "      <td>Luge Mixed (Men)'s Doubles</td>\n",
       "      <td>NaN</td>\n",
       "    </tr>\n",
       "    <tr>\n",
       "      <th>271112</th>\n",
       "      <td>135570</td>\n",
       "      <td>2f748d07ca91a5a1a6871b8f05cdd4d69f194615a82ca5...</td>\n",
       "      <td>M</td>\n",
       "      <td>27.0</td>\n",
       "      <td>176.0</td>\n",
       "      <td>59.0</td>\n",
       "      <td>Poland</td>\n",
       "      <td>POL</td>\n",
       "      <td>2014 Winter</td>\n",
       "      <td>2014</td>\n",
       "      <td>Winter</td>\n",
       "      <td>Sochi</td>\n",
       "      <td>Ski Jumping</td>\n",
       "      <td>Ski Jumping Men's Large Hill, Individual</td>\n",
       "      <td>NaN</td>\n",
       "    </tr>\n",
       "    <tr>\n",
       "      <th>271113</th>\n",
       "      <td>135570</td>\n",
       "      <td>2f748d07ca91a5a1a6871b8f05cdd4d69f194615a82ca5...</td>\n",
       "      <td>M</td>\n",
       "      <td>27.0</td>\n",
       "      <td>176.0</td>\n",
       "      <td>59.0</td>\n",
       "      <td>Poland</td>\n",
       "      <td>POL</td>\n",
       "      <td>2014 Winter</td>\n",
       "      <td>2014</td>\n",
       "      <td>Winter</td>\n",
       "      <td>Sochi</td>\n",
       "      <td>Ski Jumping</td>\n",
       "      <td>Ski Jumping Men's Large Hill, Team</td>\n",
       "      <td>NaN</td>\n",
       "    </tr>\n",
       "    <tr>\n",
       "      <th>271114</th>\n",
       "      <td>135571</td>\n",
       "      <td>e7fd567d163933f9b76a0094f18afbf8e8291b179c5487...</td>\n",
       "      <td>M</td>\n",
       "      <td>30.0</td>\n",
       "      <td>185.0</td>\n",
       "      <td>96.0</td>\n",
       "      <td>Poland</td>\n",
       "      <td>POL</td>\n",
       "      <td>1998 Winter</td>\n",
       "      <td>1998</td>\n",
       "      <td>Winter</td>\n",
       "      <td>Nagano</td>\n",
       "      <td>Bobsleigh</td>\n",
       "      <td>Bobsleigh Men's Four</td>\n",
       "      <td>NaN</td>\n",
       "    </tr>\n",
       "    <tr>\n",
       "      <th>271115</th>\n",
       "      <td>135571</td>\n",
       "      <td>e7fd567d163933f9b76a0094f18afbf8e8291b179c5487...</td>\n",
       "      <td>M</td>\n",
       "      <td>34.0</td>\n",
       "      <td>185.0</td>\n",
       "      <td>96.0</td>\n",
       "      <td>Poland</td>\n",
       "      <td>POL</td>\n",
       "      <td>2002 Winter</td>\n",
       "      <td>2002</td>\n",
       "      <td>Winter</td>\n",
       "      <td>Salt Lake City</td>\n",
       "      <td>Bobsleigh</td>\n",
       "      <td>Bobsleigh Men's Four</td>\n",
       "      <td>NaN</td>\n",
       "    </tr>\n",
       "  </tbody>\n",
       "</table>\n",
       "<p>271116 rows × 15 columns</p>\n",
       "</div>"
      ],
      "text/plain": [
       "            ID                                               Name Sex   Age  \\\n",
       "0            1  3a4eef48434c66b3f14ab0221f6762d0ef7c6135ab2790...   M  24.0   \n",
       "1            2  a6430cc6630934275dc6283f7e97e9625e6587cdddec7a...   M  23.0   \n",
       "2            3  9c198b205332c2c8e1542e0f9534b9e270780a41d978ec...   M  24.0   \n",
       "3            4  0a477bb1c5ad39716f9c775e54d18d16aa8b37ada55548...   M  34.0   \n",
       "4            5  5b7be356aa28178096dc6747f0b8e4e393eaceb5f95310...   F  21.0   \n",
       "...        ...                                                ...  ..   ...   \n",
       "271111  135569  07f491e055f56a7a7be133c9cf6563c253d3aa0d137630...   M  29.0   \n",
       "271112  135570  2f748d07ca91a5a1a6871b8f05cdd4d69f194615a82ca5...   M  27.0   \n",
       "271113  135570  2f748d07ca91a5a1a6871b8f05cdd4d69f194615a82ca5...   M  27.0   \n",
       "271114  135571  e7fd567d163933f9b76a0094f18afbf8e8291b179c5487...   M  30.0   \n",
       "271115  135571  e7fd567d163933f9b76a0094f18afbf8e8291b179c5487...   M  34.0   \n",
       "\n",
       "        Height  Weight            Team  NOC        Games  Year  Season  \\\n",
       "0        180.0    80.0           China  CHN  1992 Summer  1992  Summer   \n",
       "1        170.0    60.0           China  CHN  2012 Summer  2012  Summer   \n",
       "2          NaN     NaN         Denmark  DEN  1920 Summer  1920  Summer   \n",
       "3          NaN     NaN  Denmark/Sweden  DEN  1900 Summer  1900  Summer   \n",
       "4        185.0    82.0     Netherlands  NED  1988 Winter  1988  Winter   \n",
       "...        ...     ...             ...  ...          ...   ...     ...   \n",
       "271111   179.0    89.0        Poland-1  POL  1976 Winter  1976  Winter   \n",
       "271112   176.0    59.0          Poland  POL  2014 Winter  2014  Winter   \n",
       "271113   176.0    59.0          Poland  POL  2014 Winter  2014  Winter   \n",
       "271114   185.0    96.0          Poland  POL  1998 Winter  1998  Winter   \n",
       "271115   185.0    96.0          Poland  POL  2002 Winter  2002  Winter   \n",
       "\n",
       "                  City          Sport  \\\n",
       "0            Barcelona     Basketball   \n",
       "1               London           Judo   \n",
       "2            Antwerpen       Football   \n",
       "3                Paris     Tug-Of-War   \n",
       "4              Calgary  Speed Skating   \n",
       "...                ...            ...   \n",
       "271111       Innsbruck           Luge   \n",
       "271112           Sochi    Ski Jumping   \n",
       "271113           Sochi    Ski Jumping   \n",
       "271114          Nagano      Bobsleigh   \n",
       "271115  Salt Lake City      Bobsleigh   \n",
       "\n",
       "                                           Event Medal  \n",
       "0                    Basketball Men's Basketball   NaN  \n",
       "1                   Judo Men's Extra-Lightweight   NaN  \n",
       "2                        Football Men's Football   NaN  \n",
       "3                    Tug-Of-War Men's Tug-Of-War  Gold  \n",
       "4               Speed Skating Women's 500 metres   NaN  \n",
       "...                                          ...   ...  \n",
       "271111                Luge Mixed (Men)'s Doubles   NaN  \n",
       "271112  Ski Jumping Men's Large Hill, Individual   NaN  \n",
       "271113        Ski Jumping Men's Large Hill, Team   NaN  \n",
       "271114                      Bobsleigh Men's Four   NaN  \n",
       "271115                      Bobsleigh Men's Four   NaN  \n",
       "\n",
       "[271116 rows x 15 columns]"
      ]
     },
     "execution_count": 2,
     "metadata": {},
     "output_type": "execute_result"
    }
   ],
   "source": [
    "import pandas as pd\n",
    "import plotly_express as px\n",
    "from hash_data import Hash_DataFrame as hd\n",
    "\n",
    "# file path \n",
    "file_path = \"Data/athlete_events.csv\"\n",
    "\n",
    "# load the data as a dataFrame \n",
    "df_data = pd.read_csv(file_path)\n",
    "\n",
    "# encrypt the athletes names. TODO check why error message is not working.\n",
    "df_data = hd.hash_Columns(df_data, [\"Name\"])\n",
    "\n",
    "df_data\n"
   ]
  },
  {
   "cell_type": "code",
   "execution_count": 3,
   "metadata": {},
   "outputs": [
    {
     "data": {
      "application/vnd.plotly.v1+json": {
       "config": {
        "plotlyServerURL": "https://plot.ly"
       },
       "data": [
        {
         "alignmentgroup": "True",
         "hovertemplate": "Sport=%{x}<br>Medal=%{y}<extra></extra>",
         "legendgroup": "",
         "marker": {
          "color": "#636efa",
          "pattern": {
           "shape": ""
          }
         },
         "name": "",
         "offsetgroup": "",
         "orientation": "v",
         "showlegend": false,
         "textposition": "auto",
         "type": "bar",
         "x": [
          "Wrestling",
          "Athletics",
          "Cross Country Skiing",
          "Shooting",
          "Swimming",
          "Equestrianism",
          "Diving",
          "Modern Pentathlon",
          "Speed Skating",
          "Alpine Skiing"
         ],
         "xaxis": "x",
         "y": [
          86,
          84,
          53,
          41,
          30,
          25,
          21,
          19,
          16,
          16
         ],
         "yaxis": "y"
        }
       ],
       "layout": {
        "barmode": "relative",
        "legend": {
         "tracegroupgap": 0
        },
        "margin": {
         "t": 60
        },
        "template": {
         "data": {
          "bar": [
           {
            "error_x": {
             "color": "#2a3f5f"
            },
            "error_y": {
             "color": "#2a3f5f"
            },
            "marker": {
             "line": {
              "color": "#E5ECF6",
              "width": 0.5
             },
             "pattern": {
              "fillmode": "overlay",
              "size": 10,
              "solidity": 0.2
             }
            },
            "type": "bar"
           }
          ],
          "barpolar": [
           {
            "marker": {
             "line": {
              "color": "#E5ECF6",
              "width": 0.5
             },
             "pattern": {
              "fillmode": "overlay",
              "size": 10,
              "solidity": 0.2
             }
            },
            "type": "barpolar"
           }
          ],
          "carpet": [
           {
            "aaxis": {
             "endlinecolor": "#2a3f5f",
             "gridcolor": "white",
             "linecolor": "white",
             "minorgridcolor": "white",
             "startlinecolor": "#2a3f5f"
            },
            "baxis": {
             "endlinecolor": "#2a3f5f",
             "gridcolor": "white",
             "linecolor": "white",
             "minorgridcolor": "white",
             "startlinecolor": "#2a3f5f"
            },
            "type": "carpet"
           }
          ],
          "choropleth": [
           {
            "colorbar": {
             "outlinewidth": 0,
             "ticks": ""
            },
            "type": "choropleth"
           }
          ],
          "contour": [
           {
            "colorbar": {
             "outlinewidth": 0,
             "ticks": ""
            },
            "colorscale": [
             [
              0,
              "#0d0887"
             ],
             [
              0.1111111111111111,
              "#46039f"
             ],
             [
              0.2222222222222222,
              "#7201a8"
             ],
             [
              0.3333333333333333,
              "#9c179e"
             ],
             [
              0.4444444444444444,
              "#bd3786"
             ],
             [
              0.5555555555555556,
              "#d8576b"
             ],
             [
              0.6666666666666666,
              "#ed7953"
             ],
             [
              0.7777777777777778,
              "#fb9f3a"
             ],
             [
              0.8888888888888888,
              "#fdca26"
             ],
             [
              1,
              "#f0f921"
             ]
            ],
            "type": "contour"
           }
          ],
          "contourcarpet": [
           {
            "colorbar": {
             "outlinewidth": 0,
             "ticks": ""
            },
            "type": "contourcarpet"
           }
          ],
          "heatmap": [
           {
            "colorbar": {
             "outlinewidth": 0,
             "ticks": ""
            },
            "colorscale": [
             [
              0,
              "#0d0887"
             ],
             [
              0.1111111111111111,
              "#46039f"
             ],
             [
              0.2222222222222222,
              "#7201a8"
             ],
             [
              0.3333333333333333,
              "#9c179e"
             ],
             [
              0.4444444444444444,
              "#bd3786"
             ],
             [
              0.5555555555555556,
              "#d8576b"
             ],
             [
              0.6666666666666666,
              "#ed7953"
             ],
             [
              0.7777777777777778,
              "#fb9f3a"
             ],
             [
              0.8888888888888888,
              "#fdca26"
             ],
             [
              1,
              "#f0f921"
             ]
            ],
            "type": "heatmap"
           }
          ],
          "heatmapgl": [
           {
            "colorbar": {
             "outlinewidth": 0,
             "ticks": ""
            },
            "colorscale": [
             [
              0,
              "#0d0887"
             ],
             [
              0.1111111111111111,
              "#46039f"
             ],
             [
              0.2222222222222222,
              "#7201a8"
             ],
             [
              0.3333333333333333,
              "#9c179e"
             ],
             [
              0.4444444444444444,
              "#bd3786"
             ],
             [
              0.5555555555555556,
              "#d8576b"
             ],
             [
              0.6666666666666666,
              "#ed7953"
             ],
             [
              0.7777777777777778,
              "#fb9f3a"
             ],
             [
              0.8888888888888888,
              "#fdca26"
             ],
             [
              1,
              "#f0f921"
             ]
            ],
            "type": "heatmapgl"
           }
          ],
          "histogram": [
           {
            "marker": {
             "pattern": {
              "fillmode": "overlay",
              "size": 10,
              "solidity": 0.2
             }
            },
            "type": "histogram"
           }
          ],
          "histogram2d": [
           {
            "colorbar": {
             "outlinewidth": 0,
             "ticks": ""
            },
            "colorscale": [
             [
              0,
              "#0d0887"
             ],
             [
              0.1111111111111111,
              "#46039f"
             ],
             [
              0.2222222222222222,
              "#7201a8"
             ],
             [
              0.3333333333333333,
              "#9c179e"
             ],
             [
              0.4444444444444444,
              "#bd3786"
             ],
             [
              0.5555555555555556,
              "#d8576b"
             ],
             [
              0.6666666666666666,
              "#ed7953"
             ],
             [
              0.7777777777777778,
              "#fb9f3a"
             ],
             [
              0.8888888888888888,
              "#fdca26"
             ],
             [
              1,
              "#f0f921"
             ]
            ],
            "type": "histogram2d"
           }
          ],
          "histogram2dcontour": [
           {
            "colorbar": {
             "outlinewidth": 0,
             "ticks": ""
            },
            "colorscale": [
             [
              0,
              "#0d0887"
             ],
             [
              0.1111111111111111,
              "#46039f"
             ],
             [
              0.2222222222222222,
              "#7201a8"
             ],
             [
              0.3333333333333333,
              "#9c179e"
             ],
             [
              0.4444444444444444,
              "#bd3786"
             ],
             [
              0.5555555555555556,
              "#d8576b"
             ],
             [
              0.6666666666666666,
              "#ed7953"
             ],
             [
              0.7777777777777778,
              "#fb9f3a"
             ],
             [
              0.8888888888888888,
              "#fdca26"
             ],
             [
              1,
              "#f0f921"
             ]
            ],
            "type": "histogram2dcontour"
           }
          ],
          "mesh3d": [
           {
            "colorbar": {
             "outlinewidth": 0,
             "ticks": ""
            },
            "type": "mesh3d"
           }
          ],
          "parcoords": [
           {
            "line": {
             "colorbar": {
              "outlinewidth": 0,
              "ticks": ""
             }
            },
            "type": "parcoords"
           }
          ],
          "pie": [
           {
            "automargin": true,
            "type": "pie"
           }
          ],
          "scatter": [
           {
            "fillpattern": {
             "fillmode": "overlay",
             "size": 10,
             "solidity": 0.2
            },
            "type": "scatter"
           }
          ],
          "scatter3d": [
           {
            "line": {
             "colorbar": {
              "outlinewidth": 0,
              "ticks": ""
             }
            },
            "marker": {
             "colorbar": {
              "outlinewidth": 0,
              "ticks": ""
             }
            },
            "type": "scatter3d"
           }
          ],
          "scattercarpet": [
           {
            "marker": {
             "colorbar": {
              "outlinewidth": 0,
              "ticks": ""
             }
            },
            "type": "scattercarpet"
           }
          ],
          "scattergeo": [
           {
            "marker": {
             "colorbar": {
              "outlinewidth": 0,
              "ticks": ""
             }
            },
            "type": "scattergeo"
           }
          ],
          "scattergl": [
           {
            "marker": {
             "colorbar": {
              "outlinewidth": 0,
              "ticks": ""
             }
            },
            "type": "scattergl"
           }
          ],
          "scattermapbox": [
           {
            "marker": {
             "colorbar": {
              "outlinewidth": 0,
              "ticks": ""
             }
            },
            "type": "scattermapbox"
           }
          ],
          "scatterpolar": [
           {
            "marker": {
             "colorbar": {
              "outlinewidth": 0,
              "ticks": ""
             }
            },
            "type": "scatterpolar"
           }
          ],
          "scatterpolargl": [
           {
            "marker": {
             "colorbar": {
              "outlinewidth": 0,
              "ticks": ""
             }
            },
            "type": "scatterpolargl"
           }
          ],
          "scatterternary": [
           {
            "marker": {
             "colorbar": {
              "outlinewidth": 0,
              "ticks": ""
             }
            },
            "type": "scatterternary"
           }
          ],
          "surface": [
           {
            "colorbar": {
             "outlinewidth": 0,
             "ticks": ""
            },
            "colorscale": [
             [
              0,
              "#0d0887"
             ],
             [
              0.1111111111111111,
              "#46039f"
             ],
             [
              0.2222222222222222,
              "#7201a8"
             ],
             [
              0.3333333333333333,
              "#9c179e"
             ],
             [
              0.4444444444444444,
              "#bd3786"
             ],
             [
              0.5555555555555556,
              "#d8576b"
             ],
             [
              0.6666666666666666,
              "#ed7953"
             ],
             [
              0.7777777777777778,
              "#fb9f3a"
             ],
             [
              0.8888888888888888,
              "#fdca26"
             ],
             [
              1,
              "#f0f921"
             ]
            ],
            "type": "surface"
           }
          ],
          "table": [
           {
            "cells": {
             "fill": {
              "color": "#EBF0F8"
             },
             "line": {
              "color": "white"
             }
            },
            "header": {
             "fill": {
              "color": "#C8D4E3"
             },
             "line": {
              "color": "white"
             }
            },
            "type": "table"
           }
          ]
         },
         "layout": {
          "annotationdefaults": {
           "arrowcolor": "#2a3f5f",
           "arrowhead": 0,
           "arrowwidth": 1
          },
          "autotypenumbers": "strict",
          "coloraxis": {
           "colorbar": {
            "outlinewidth": 0,
            "ticks": ""
           }
          },
          "colorscale": {
           "diverging": [
            [
             0,
             "#8e0152"
            ],
            [
             0.1,
             "#c51b7d"
            ],
            [
             0.2,
             "#de77ae"
            ],
            [
             0.3,
             "#f1b6da"
            ],
            [
             0.4,
             "#fde0ef"
            ],
            [
             0.5,
             "#f7f7f7"
            ],
            [
             0.6,
             "#e6f5d0"
            ],
            [
             0.7,
             "#b8e186"
            ],
            [
             0.8,
             "#7fbc41"
            ],
            [
             0.9,
             "#4d9221"
            ],
            [
             1,
             "#276419"
            ]
           ],
           "sequential": [
            [
             0,
             "#0d0887"
            ],
            [
             0.1111111111111111,
             "#46039f"
            ],
            [
             0.2222222222222222,
             "#7201a8"
            ],
            [
             0.3333333333333333,
             "#9c179e"
            ],
            [
             0.4444444444444444,
             "#bd3786"
            ],
            [
             0.5555555555555556,
             "#d8576b"
            ],
            [
             0.6666666666666666,
             "#ed7953"
            ],
            [
             0.7777777777777778,
             "#fb9f3a"
            ],
            [
             0.8888888888888888,
             "#fdca26"
            ],
            [
             1,
             "#f0f921"
            ]
           ],
           "sequentialminus": [
            [
             0,
             "#0d0887"
            ],
            [
             0.1111111111111111,
             "#46039f"
            ],
            [
             0.2222222222222222,
             "#7201a8"
            ],
            [
             0.3333333333333333,
             "#9c179e"
            ],
            [
             0.4444444444444444,
             "#bd3786"
            ],
            [
             0.5555555555555556,
             "#d8576b"
            ],
            [
             0.6666666666666666,
             "#ed7953"
            ],
            [
             0.7777777777777778,
             "#fb9f3a"
            ],
            [
             0.8888888888888888,
             "#fdca26"
            ],
            [
             1,
             "#f0f921"
            ]
           ]
          },
          "colorway": [
           "#636efa",
           "#EF553B",
           "#00cc96",
           "#ab63fa",
           "#FFA15A",
           "#19d3f3",
           "#FF6692",
           "#B6E880",
           "#FF97FF",
           "#FECB52"
          ],
          "font": {
           "color": "#2a3f5f"
          },
          "geo": {
           "bgcolor": "white",
           "lakecolor": "white",
           "landcolor": "#E5ECF6",
           "showlakes": true,
           "showland": true,
           "subunitcolor": "white"
          },
          "hoverlabel": {
           "align": "left"
          },
          "hovermode": "closest",
          "mapbox": {
           "style": "light"
          },
          "paper_bgcolor": "white",
          "plot_bgcolor": "#E5ECF6",
          "polar": {
           "angularaxis": {
            "gridcolor": "white",
            "linecolor": "white",
            "ticks": ""
           },
           "bgcolor": "#E5ECF6",
           "radialaxis": {
            "gridcolor": "white",
            "linecolor": "white",
            "ticks": ""
           }
          },
          "scene": {
           "xaxis": {
            "backgroundcolor": "#E5ECF6",
            "gridcolor": "white",
            "gridwidth": 2,
            "linecolor": "white",
            "showbackground": true,
            "ticks": "",
            "zerolinecolor": "white"
           },
           "yaxis": {
            "backgroundcolor": "#E5ECF6",
            "gridcolor": "white",
            "gridwidth": 2,
            "linecolor": "white",
            "showbackground": true,
            "ticks": "",
            "zerolinecolor": "white"
           },
           "zaxis": {
            "backgroundcolor": "#E5ECF6",
            "gridcolor": "white",
            "gridwidth": 2,
            "linecolor": "white",
            "showbackground": true,
            "ticks": "",
            "zerolinecolor": "white"
           }
          },
          "shapedefaults": {
           "line": {
            "color": "#2a3f5f"
           }
          },
          "ternary": {
           "aaxis": {
            "gridcolor": "white",
            "linecolor": "white",
            "ticks": ""
           },
           "baxis": {
            "gridcolor": "white",
            "linecolor": "white",
            "ticks": ""
           },
           "bgcolor": "#E5ECF6",
           "caxis": {
            "gridcolor": "white",
            "linecolor": "white",
            "ticks": ""
           }
          },
          "title": {
           "x": 0.05
          },
          "xaxis": {
           "automargin": true,
           "gridcolor": "white",
           "linecolor": "white",
           "ticks": "",
           "title": {
            "standoff": 15
           },
           "zerolinecolor": "white",
           "zerolinewidth": 2
          },
          "yaxis": {
           "automargin": true,
           "gridcolor": "white",
           "linecolor": "white",
           "ticks": "",
           "title": {
            "standoff": 15
           },
           "zerolinecolor": "white",
           "zerolinewidth": 2
          }
         }
        },
        "xaxis": {
         "anchor": "y",
         "domain": [
          0,
          1
         ],
         "title": {
          "text": "Sport"
         }
        },
        "yaxis": {
         "anchor": "x",
         "domain": [
          0,
          1
         ],
         "title": {
          "text": "Medal"
         }
        }
       }
      }
     },
     "metadata": {},
     "output_type": "display_data"
    }
   ],
   "source": [
    "# de sporter landet fått flest medaljer i\n",
    "\n",
    "# get all swe data from dataframe\n",
    "df_data_sweden = df_data.loc[df_data[\"Team\"] == \"Sweden\"]\n",
    "\n",
    "# sort out team sports\n",
    "df_data_sweden = df_data_sweden.groupby([\"Games\", \"Event\", \"Medal\", \"Team\", \"Year\"]).sum(numeric_only= False).reset_index()\n",
    "\n",
    "# groupby sport and count medals \n",
    "df_sport_medal = df_data_sweden[[\"Sport\", \"Medal\"]].groupby(\"Sport\").count().reset_index().sort_values(by= \"Medal\", ascending= False).head(10)\n",
    "\n",
    "# NOTE i lag sport är det en medalj per lag medlem.\n",
    "fig = px.bar(df_sport_medal, x= \"Sport\", y= \"Medal\")\n",
    "fig.show()"
   ]
  },
  {
   "cell_type": "code",
   "execution_count": 4,
   "metadata": {},
   "outputs": [
    {
     "data": {
      "application/vnd.plotly.v1+json": {
       "config": {
        "plotlyServerURL": "https://plot.ly"
       },
       "data": [
        {
         "alignmentgroup": "True",
         "hovertemplate": "variable=Summer medals<br>Year=%{x}<br>value=%{y}<extra></extra>",
         "legendgroup": "Summer medals",
         "marker": {
          "color": "#636efa",
          "pattern": {
           "shape": ""
          }
         },
         "name": "Summer medals",
         "offsetgroup": "Summer medals",
         "orientation": "v",
         "showlegend": true,
         "textposition": "auto",
         "type": "bar",
         "x": [
          1900,
          1906,
          1908,
          1912,
          1920,
          1924,
          1928,
          1932,
          1936,
          1948,
          1952,
          1956,
          1960,
          1964,
          1968,
          1972,
          1976,
          1980,
          1984,
          1988,
          1992,
          1994,
          1996,
          1998,
          2000,
          2002,
          2004,
          2006,
          2008,
          2010,
          2012,
          2014,
          2016
         ],
         "xaxis": "x",
         "y": [
          1,
          13,
          18,
          41,
          45,
          20,
          21,
          20,
          15,
          38,
          25,
          14,
          5,
          4,
          2,
          13,
          3,
          9,
          13,
          8,
          7,
          null,
          3,
          null,
          9,
          null,
          4,
          null,
          3,
          null,
          6,
          null,
          10
         ],
         "yaxis": "y"
        },
        {
         "alignmentgroup": "True",
         "hovertemplate": "variable=Winter medals<br>Year=%{x}<br>value=%{y}<extra></extra>",
         "legendgroup": "Winter medals",
         "marker": {
          "color": "#EF553B",
          "pattern": {
           "shape": ""
          }
         },
         "name": "Winter medals",
         "offsetgroup": "Winter medals",
         "orientation": "v",
         "showlegend": true,
         "textposition": "auto",
         "type": "bar",
         "x": [
          1900,
          1906,
          1908,
          1912,
          1920,
          1924,
          1928,
          1932,
          1936,
          1948,
          1952,
          1956,
          1960,
          1964,
          1968,
          1972,
          1976,
          1980,
          1984,
          1988,
          1992,
          1994,
          1996,
          1998,
          2000,
          2002,
          2004,
          2006,
          2008,
          2010,
          2012,
          2014,
          2016
         ],
         "xaxis": "x",
         "y": [
          null,
          null,
          null,
          null,
          null,
          1,
          4,
          3,
          6,
          9,
          2,
          8,
          6,
          4,
          5,
          4,
          2,
          3,
          6,
          4,
          3,
          2,
          null,
          2,
          null,
          6,
          null,
          8,
          null,
          8,
          null,
          8,
          null
         ],
         "yaxis": "y"
        }
       ],
       "layout": {
        "barmode": "group",
        "legend": {
         "title": {
          "text": "variable"
         },
         "tracegroupgap": 0
        },
        "template": {
         "data": {
          "bar": [
           {
            "error_x": {
             "color": "#2a3f5f"
            },
            "error_y": {
             "color": "#2a3f5f"
            },
            "marker": {
             "line": {
              "color": "#E5ECF6",
              "width": 0.5
             },
             "pattern": {
              "fillmode": "overlay",
              "size": 10,
              "solidity": 0.2
             }
            },
            "type": "bar"
           }
          ],
          "barpolar": [
           {
            "marker": {
             "line": {
              "color": "#E5ECF6",
              "width": 0.5
             },
             "pattern": {
              "fillmode": "overlay",
              "size": 10,
              "solidity": 0.2
             }
            },
            "type": "barpolar"
           }
          ],
          "carpet": [
           {
            "aaxis": {
             "endlinecolor": "#2a3f5f",
             "gridcolor": "white",
             "linecolor": "white",
             "minorgridcolor": "white",
             "startlinecolor": "#2a3f5f"
            },
            "baxis": {
             "endlinecolor": "#2a3f5f",
             "gridcolor": "white",
             "linecolor": "white",
             "minorgridcolor": "white",
             "startlinecolor": "#2a3f5f"
            },
            "type": "carpet"
           }
          ],
          "choropleth": [
           {
            "colorbar": {
             "outlinewidth": 0,
             "ticks": ""
            },
            "type": "choropleth"
           }
          ],
          "contour": [
           {
            "colorbar": {
             "outlinewidth": 0,
             "ticks": ""
            },
            "colorscale": [
             [
              0,
              "#0d0887"
             ],
             [
              0.1111111111111111,
              "#46039f"
             ],
             [
              0.2222222222222222,
              "#7201a8"
             ],
             [
              0.3333333333333333,
              "#9c179e"
             ],
             [
              0.4444444444444444,
              "#bd3786"
             ],
             [
              0.5555555555555556,
              "#d8576b"
             ],
             [
              0.6666666666666666,
              "#ed7953"
             ],
             [
              0.7777777777777778,
              "#fb9f3a"
             ],
             [
              0.8888888888888888,
              "#fdca26"
             ],
             [
              1,
              "#f0f921"
             ]
            ],
            "type": "contour"
           }
          ],
          "contourcarpet": [
           {
            "colorbar": {
             "outlinewidth": 0,
             "ticks": ""
            },
            "type": "contourcarpet"
           }
          ],
          "heatmap": [
           {
            "colorbar": {
             "outlinewidth": 0,
             "ticks": ""
            },
            "colorscale": [
             [
              0,
              "#0d0887"
             ],
             [
              0.1111111111111111,
              "#46039f"
             ],
             [
              0.2222222222222222,
              "#7201a8"
             ],
             [
              0.3333333333333333,
              "#9c179e"
             ],
             [
              0.4444444444444444,
              "#bd3786"
             ],
             [
              0.5555555555555556,
              "#d8576b"
             ],
             [
              0.6666666666666666,
              "#ed7953"
             ],
             [
              0.7777777777777778,
              "#fb9f3a"
             ],
             [
              0.8888888888888888,
              "#fdca26"
             ],
             [
              1,
              "#f0f921"
             ]
            ],
            "type": "heatmap"
           }
          ],
          "heatmapgl": [
           {
            "colorbar": {
             "outlinewidth": 0,
             "ticks": ""
            },
            "colorscale": [
             [
              0,
              "#0d0887"
             ],
             [
              0.1111111111111111,
              "#46039f"
             ],
             [
              0.2222222222222222,
              "#7201a8"
             ],
             [
              0.3333333333333333,
              "#9c179e"
             ],
             [
              0.4444444444444444,
              "#bd3786"
             ],
             [
              0.5555555555555556,
              "#d8576b"
             ],
             [
              0.6666666666666666,
              "#ed7953"
             ],
             [
              0.7777777777777778,
              "#fb9f3a"
             ],
             [
              0.8888888888888888,
              "#fdca26"
             ],
             [
              1,
              "#f0f921"
             ]
            ],
            "type": "heatmapgl"
           }
          ],
          "histogram": [
           {
            "marker": {
             "pattern": {
              "fillmode": "overlay",
              "size": 10,
              "solidity": 0.2
             }
            },
            "type": "histogram"
           }
          ],
          "histogram2d": [
           {
            "colorbar": {
             "outlinewidth": 0,
             "ticks": ""
            },
            "colorscale": [
             [
              0,
              "#0d0887"
             ],
             [
              0.1111111111111111,
              "#46039f"
             ],
             [
              0.2222222222222222,
              "#7201a8"
             ],
             [
              0.3333333333333333,
              "#9c179e"
             ],
             [
              0.4444444444444444,
              "#bd3786"
             ],
             [
              0.5555555555555556,
              "#d8576b"
             ],
             [
              0.6666666666666666,
              "#ed7953"
             ],
             [
              0.7777777777777778,
              "#fb9f3a"
             ],
             [
              0.8888888888888888,
              "#fdca26"
             ],
             [
              1,
              "#f0f921"
             ]
            ],
            "type": "histogram2d"
           }
          ],
          "histogram2dcontour": [
           {
            "colorbar": {
             "outlinewidth": 0,
             "ticks": ""
            },
            "colorscale": [
             [
              0,
              "#0d0887"
             ],
             [
              0.1111111111111111,
              "#46039f"
             ],
             [
              0.2222222222222222,
              "#7201a8"
             ],
             [
              0.3333333333333333,
              "#9c179e"
             ],
             [
              0.4444444444444444,
              "#bd3786"
             ],
             [
              0.5555555555555556,
              "#d8576b"
             ],
             [
              0.6666666666666666,
              "#ed7953"
             ],
             [
              0.7777777777777778,
              "#fb9f3a"
             ],
             [
              0.8888888888888888,
              "#fdca26"
             ],
             [
              1,
              "#f0f921"
             ]
            ],
            "type": "histogram2dcontour"
           }
          ],
          "mesh3d": [
           {
            "colorbar": {
             "outlinewidth": 0,
             "ticks": ""
            },
            "type": "mesh3d"
           }
          ],
          "parcoords": [
           {
            "line": {
             "colorbar": {
              "outlinewidth": 0,
              "ticks": ""
             }
            },
            "type": "parcoords"
           }
          ],
          "pie": [
           {
            "automargin": true,
            "type": "pie"
           }
          ],
          "scatter": [
           {
            "fillpattern": {
             "fillmode": "overlay",
             "size": 10,
             "solidity": 0.2
            },
            "type": "scatter"
           }
          ],
          "scatter3d": [
           {
            "line": {
             "colorbar": {
              "outlinewidth": 0,
              "ticks": ""
             }
            },
            "marker": {
             "colorbar": {
              "outlinewidth": 0,
              "ticks": ""
             }
            },
            "type": "scatter3d"
           }
          ],
          "scattercarpet": [
           {
            "marker": {
             "colorbar": {
              "outlinewidth": 0,
              "ticks": ""
             }
            },
            "type": "scattercarpet"
           }
          ],
          "scattergeo": [
           {
            "marker": {
             "colorbar": {
              "outlinewidth": 0,
              "ticks": ""
             }
            },
            "type": "scattergeo"
           }
          ],
          "scattergl": [
           {
            "marker": {
             "colorbar": {
              "outlinewidth": 0,
              "ticks": ""
             }
            },
            "type": "scattergl"
           }
          ],
          "scattermapbox": [
           {
            "marker": {
             "colorbar": {
              "outlinewidth": 0,
              "ticks": ""
             }
            },
            "type": "scattermapbox"
           }
          ],
          "scatterpolar": [
           {
            "marker": {
             "colorbar": {
              "outlinewidth": 0,
              "ticks": ""
             }
            },
            "type": "scatterpolar"
           }
          ],
          "scatterpolargl": [
           {
            "marker": {
             "colorbar": {
              "outlinewidth": 0,
              "ticks": ""
             }
            },
            "type": "scatterpolargl"
           }
          ],
          "scatterternary": [
           {
            "marker": {
             "colorbar": {
              "outlinewidth": 0,
              "ticks": ""
             }
            },
            "type": "scatterternary"
           }
          ],
          "surface": [
           {
            "colorbar": {
             "outlinewidth": 0,
             "ticks": ""
            },
            "colorscale": [
             [
              0,
              "#0d0887"
             ],
             [
              0.1111111111111111,
              "#46039f"
             ],
             [
              0.2222222222222222,
              "#7201a8"
             ],
             [
              0.3333333333333333,
              "#9c179e"
             ],
             [
              0.4444444444444444,
              "#bd3786"
             ],
             [
              0.5555555555555556,
              "#d8576b"
             ],
             [
              0.6666666666666666,
              "#ed7953"
             ],
             [
              0.7777777777777778,
              "#fb9f3a"
             ],
             [
              0.8888888888888888,
              "#fdca26"
             ],
             [
              1,
              "#f0f921"
             ]
            ],
            "type": "surface"
           }
          ],
          "table": [
           {
            "cells": {
             "fill": {
              "color": "#EBF0F8"
             },
             "line": {
              "color": "white"
             }
            },
            "header": {
             "fill": {
              "color": "#C8D4E3"
             },
             "line": {
              "color": "white"
             }
            },
            "type": "table"
           }
          ]
         },
         "layout": {
          "annotationdefaults": {
           "arrowcolor": "#2a3f5f",
           "arrowhead": 0,
           "arrowwidth": 1
          },
          "autotypenumbers": "strict",
          "coloraxis": {
           "colorbar": {
            "outlinewidth": 0,
            "ticks": ""
           }
          },
          "colorscale": {
           "diverging": [
            [
             0,
             "#8e0152"
            ],
            [
             0.1,
             "#c51b7d"
            ],
            [
             0.2,
             "#de77ae"
            ],
            [
             0.3,
             "#f1b6da"
            ],
            [
             0.4,
             "#fde0ef"
            ],
            [
             0.5,
             "#f7f7f7"
            ],
            [
             0.6,
             "#e6f5d0"
            ],
            [
             0.7,
             "#b8e186"
            ],
            [
             0.8,
             "#7fbc41"
            ],
            [
             0.9,
             "#4d9221"
            ],
            [
             1,
             "#276419"
            ]
           ],
           "sequential": [
            [
             0,
             "#0d0887"
            ],
            [
             0.1111111111111111,
             "#46039f"
            ],
            [
             0.2222222222222222,
             "#7201a8"
            ],
            [
             0.3333333333333333,
             "#9c179e"
            ],
            [
             0.4444444444444444,
             "#bd3786"
            ],
            [
             0.5555555555555556,
             "#d8576b"
            ],
            [
             0.6666666666666666,
             "#ed7953"
            ],
            [
             0.7777777777777778,
             "#fb9f3a"
            ],
            [
             0.8888888888888888,
             "#fdca26"
            ],
            [
             1,
             "#f0f921"
            ]
           ],
           "sequentialminus": [
            [
             0,
             "#0d0887"
            ],
            [
             0.1111111111111111,
             "#46039f"
            ],
            [
             0.2222222222222222,
             "#7201a8"
            ],
            [
             0.3333333333333333,
             "#9c179e"
            ],
            [
             0.4444444444444444,
             "#bd3786"
            ],
            [
             0.5555555555555556,
             "#d8576b"
            ],
            [
             0.6666666666666666,
             "#ed7953"
            ],
            [
             0.7777777777777778,
             "#fb9f3a"
            ],
            [
             0.8888888888888888,
             "#fdca26"
            ],
            [
             1,
             "#f0f921"
            ]
           ]
          },
          "colorway": [
           "#636efa",
           "#EF553B",
           "#00cc96",
           "#ab63fa",
           "#FFA15A",
           "#19d3f3",
           "#FF6692",
           "#B6E880",
           "#FF97FF",
           "#FECB52"
          ],
          "font": {
           "color": "#2a3f5f"
          },
          "geo": {
           "bgcolor": "white",
           "lakecolor": "white",
           "landcolor": "#E5ECF6",
           "showlakes": true,
           "showland": true,
           "subunitcolor": "white"
          },
          "hoverlabel": {
           "align": "left"
          },
          "hovermode": "closest",
          "mapbox": {
           "style": "light"
          },
          "paper_bgcolor": "white",
          "plot_bgcolor": "#E5ECF6",
          "polar": {
           "angularaxis": {
            "gridcolor": "white",
            "linecolor": "white",
            "ticks": ""
           },
           "bgcolor": "#E5ECF6",
           "radialaxis": {
            "gridcolor": "white",
            "linecolor": "white",
            "ticks": ""
           }
          },
          "scene": {
           "xaxis": {
            "backgroundcolor": "#E5ECF6",
            "gridcolor": "white",
            "gridwidth": 2,
            "linecolor": "white",
            "showbackground": true,
            "ticks": "",
            "zerolinecolor": "white"
           },
           "yaxis": {
            "backgroundcolor": "#E5ECF6",
            "gridcolor": "white",
            "gridwidth": 2,
            "linecolor": "white",
            "showbackground": true,
            "ticks": "",
            "zerolinecolor": "white"
           },
           "zaxis": {
            "backgroundcolor": "#E5ECF6",
            "gridcolor": "white",
            "gridwidth": 2,
            "linecolor": "white",
            "showbackground": true,
            "ticks": "",
            "zerolinecolor": "white"
           }
          },
          "shapedefaults": {
           "line": {
            "color": "#2a3f5f"
           }
          },
          "ternary": {
           "aaxis": {
            "gridcolor": "white",
            "linecolor": "white",
            "ticks": ""
           },
           "baxis": {
            "gridcolor": "white",
            "linecolor": "white",
            "ticks": ""
           },
           "bgcolor": "#E5ECF6",
           "caxis": {
            "gridcolor": "white",
            "linecolor": "white",
            "ticks": ""
           }
          },
          "title": {
           "x": 0.05
          },
          "xaxis": {
           "automargin": true,
           "gridcolor": "white",
           "linecolor": "white",
           "ticks": "",
           "title": {
            "standoff": 15
           },
           "zerolinecolor": "white",
           "zerolinewidth": 2
          },
          "yaxis": {
           "automargin": true,
           "gridcolor": "white",
           "linecolor": "white",
           "ticks": "",
           "title": {
            "standoff": 15
           },
           "zerolinecolor": "white",
           "zerolinewidth": 2
          }
         }
        },
        "title": {
         "text": "Total number of medals per OS"
        },
        "xaxis": {
         "anchor": "y",
         "domain": [
          0,
          1
         ],
         "title": {
          "text": "Year"
         }
        },
        "yaxis": {
         "anchor": "x",
         "domain": [
          0,
          1
         ],
         "title": {
          "text": "number of medals"
         }
        }
       }
      }
     },
     "metadata": {},
     "output_type": "display_data"
    },
    {
     "data": {
      "application/vnd.plotly.v1+json": {
       "config": {
        "plotlyServerURL": "https://plot.ly"
       },
       "data": [
        {
         "alignmentgroup": "True",
         "hovertemplate": "Year=%{x}<br>Summer medals=%{y}<extra></extra>",
         "legendgroup": "",
         "marker": {
          "color": "#636efa",
          "pattern": {
           "shape": ""
          }
         },
         "name": "",
         "offsetgroup": "",
         "orientation": "v",
         "showlegend": false,
         "textposition": "auto",
         "type": "bar",
         "x": [
          1900,
          1906,
          1908,
          1912,
          1920,
          1924,
          1928,
          1932,
          1936,
          1948,
          1952,
          1956,
          1960,
          1964,
          1968,
          1972,
          1976,
          1980,
          1984,
          1988,
          1992,
          1994,
          1996,
          1998,
          2000,
          2002,
          2004,
          2006,
          2008,
          2010,
          2012,
          2014,
          2016
         ],
         "xaxis": "x",
         "y": [
          1,
          13,
          18,
          41,
          45,
          20,
          21,
          20,
          15,
          38,
          25,
          14,
          5,
          4,
          2,
          13,
          3,
          9,
          13,
          8,
          7,
          null,
          3,
          null,
          9,
          null,
          4,
          null,
          3,
          null,
          6,
          null,
          10
         ],
         "yaxis": "y"
        }
       ],
       "layout": {
        "barmode": "group",
        "legend": {
         "tracegroupgap": 0
        },
        "template": {
         "data": {
          "bar": [
           {
            "error_x": {
             "color": "#2a3f5f"
            },
            "error_y": {
             "color": "#2a3f5f"
            },
            "marker": {
             "line": {
              "color": "#E5ECF6",
              "width": 0.5
             },
             "pattern": {
              "fillmode": "overlay",
              "size": 10,
              "solidity": 0.2
             }
            },
            "type": "bar"
           }
          ],
          "barpolar": [
           {
            "marker": {
             "line": {
              "color": "#E5ECF6",
              "width": 0.5
             },
             "pattern": {
              "fillmode": "overlay",
              "size": 10,
              "solidity": 0.2
             }
            },
            "type": "barpolar"
           }
          ],
          "carpet": [
           {
            "aaxis": {
             "endlinecolor": "#2a3f5f",
             "gridcolor": "white",
             "linecolor": "white",
             "minorgridcolor": "white",
             "startlinecolor": "#2a3f5f"
            },
            "baxis": {
             "endlinecolor": "#2a3f5f",
             "gridcolor": "white",
             "linecolor": "white",
             "minorgridcolor": "white",
             "startlinecolor": "#2a3f5f"
            },
            "type": "carpet"
           }
          ],
          "choropleth": [
           {
            "colorbar": {
             "outlinewidth": 0,
             "ticks": ""
            },
            "type": "choropleth"
           }
          ],
          "contour": [
           {
            "colorbar": {
             "outlinewidth": 0,
             "ticks": ""
            },
            "colorscale": [
             [
              0,
              "#0d0887"
             ],
             [
              0.1111111111111111,
              "#46039f"
             ],
             [
              0.2222222222222222,
              "#7201a8"
             ],
             [
              0.3333333333333333,
              "#9c179e"
             ],
             [
              0.4444444444444444,
              "#bd3786"
             ],
             [
              0.5555555555555556,
              "#d8576b"
             ],
             [
              0.6666666666666666,
              "#ed7953"
             ],
             [
              0.7777777777777778,
              "#fb9f3a"
             ],
             [
              0.8888888888888888,
              "#fdca26"
             ],
             [
              1,
              "#f0f921"
             ]
            ],
            "type": "contour"
           }
          ],
          "contourcarpet": [
           {
            "colorbar": {
             "outlinewidth": 0,
             "ticks": ""
            },
            "type": "contourcarpet"
           }
          ],
          "heatmap": [
           {
            "colorbar": {
             "outlinewidth": 0,
             "ticks": ""
            },
            "colorscale": [
             [
              0,
              "#0d0887"
             ],
             [
              0.1111111111111111,
              "#46039f"
             ],
             [
              0.2222222222222222,
              "#7201a8"
             ],
             [
              0.3333333333333333,
              "#9c179e"
             ],
             [
              0.4444444444444444,
              "#bd3786"
             ],
             [
              0.5555555555555556,
              "#d8576b"
             ],
             [
              0.6666666666666666,
              "#ed7953"
             ],
             [
              0.7777777777777778,
              "#fb9f3a"
             ],
             [
              0.8888888888888888,
              "#fdca26"
             ],
             [
              1,
              "#f0f921"
             ]
            ],
            "type": "heatmap"
           }
          ],
          "heatmapgl": [
           {
            "colorbar": {
             "outlinewidth": 0,
             "ticks": ""
            },
            "colorscale": [
             [
              0,
              "#0d0887"
             ],
             [
              0.1111111111111111,
              "#46039f"
             ],
             [
              0.2222222222222222,
              "#7201a8"
             ],
             [
              0.3333333333333333,
              "#9c179e"
             ],
             [
              0.4444444444444444,
              "#bd3786"
             ],
             [
              0.5555555555555556,
              "#d8576b"
             ],
             [
              0.6666666666666666,
              "#ed7953"
             ],
             [
              0.7777777777777778,
              "#fb9f3a"
             ],
             [
              0.8888888888888888,
              "#fdca26"
             ],
             [
              1,
              "#f0f921"
             ]
            ],
            "type": "heatmapgl"
           }
          ],
          "histogram": [
           {
            "marker": {
             "pattern": {
              "fillmode": "overlay",
              "size": 10,
              "solidity": 0.2
             }
            },
            "type": "histogram"
           }
          ],
          "histogram2d": [
           {
            "colorbar": {
             "outlinewidth": 0,
             "ticks": ""
            },
            "colorscale": [
             [
              0,
              "#0d0887"
             ],
             [
              0.1111111111111111,
              "#46039f"
             ],
             [
              0.2222222222222222,
              "#7201a8"
             ],
             [
              0.3333333333333333,
              "#9c179e"
             ],
             [
              0.4444444444444444,
              "#bd3786"
             ],
             [
              0.5555555555555556,
              "#d8576b"
             ],
             [
              0.6666666666666666,
              "#ed7953"
             ],
             [
              0.7777777777777778,
              "#fb9f3a"
             ],
             [
              0.8888888888888888,
              "#fdca26"
             ],
             [
              1,
              "#f0f921"
             ]
            ],
            "type": "histogram2d"
           }
          ],
          "histogram2dcontour": [
           {
            "colorbar": {
             "outlinewidth": 0,
             "ticks": ""
            },
            "colorscale": [
             [
              0,
              "#0d0887"
             ],
             [
              0.1111111111111111,
              "#46039f"
             ],
             [
              0.2222222222222222,
              "#7201a8"
             ],
             [
              0.3333333333333333,
              "#9c179e"
             ],
             [
              0.4444444444444444,
              "#bd3786"
             ],
             [
              0.5555555555555556,
              "#d8576b"
             ],
             [
              0.6666666666666666,
              "#ed7953"
             ],
             [
              0.7777777777777778,
              "#fb9f3a"
             ],
             [
              0.8888888888888888,
              "#fdca26"
             ],
             [
              1,
              "#f0f921"
             ]
            ],
            "type": "histogram2dcontour"
           }
          ],
          "mesh3d": [
           {
            "colorbar": {
             "outlinewidth": 0,
             "ticks": ""
            },
            "type": "mesh3d"
           }
          ],
          "parcoords": [
           {
            "line": {
             "colorbar": {
              "outlinewidth": 0,
              "ticks": ""
             }
            },
            "type": "parcoords"
           }
          ],
          "pie": [
           {
            "automargin": true,
            "type": "pie"
           }
          ],
          "scatter": [
           {
            "fillpattern": {
             "fillmode": "overlay",
             "size": 10,
             "solidity": 0.2
            },
            "type": "scatter"
           }
          ],
          "scatter3d": [
           {
            "line": {
             "colorbar": {
              "outlinewidth": 0,
              "ticks": ""
             }
            },
            "marker": {
             "colorbar": {
              "outlinewidth": 0,
              "ticks": ""
             }
            },
            "type": "scatter3d"
           }
          ],
          "scattercarpet": [
           {
            "marker": {
             "colorbar": {
              "outlinewidth": 0,
              "ticks": ""
             }
            },
            "type": "scattercarpet"
           }
          ],
          "scattergeo": [
           {
            "marker": {
             "colorbar": {
              "outlinewidth": 0,
              "ticks": ""
             }
            },
            "type": "scattergeo"
           }
          ],
          "scattergl": [
           {
            "marker": {
             "colorbar": {
              "outlinewidth": 0,
              "ticks": ""
             }
            },
            "type": "scattergl"
           }
          ],
          "scattermapbox": [
           {
            "marker": {
             "colorbar": {
              "outlinewidth": 0,
              "ticks": ""
             }
            },
            "type": "scattermapbox"
           }
          ],
          "scatterpolar": [
           {
            "marker": {
             "colorbar": {
              "outlinewidth": 0,
              "ticks": ""
             }
            },
            "type": "scatterpolar"
           }
          ],
          "scatterpolargl": [
           {
            "marker": {
             "colorbar": {
              "outlinewidth": 0,
              "ticks": ""
             }
            },
            "type": "scatterpolargl"
           }
          ],
          "scatterternary": [
           {
            "marker": {
             "colorbar": {
              "outlinewidth": 0,
              "ticks": ""
             }
            },
            "type": "scatterternary"
           }
          ],
          "surface": [
           {
            "colorbar": {
             "outlinewidth": 0,
             "ticks": ""
            },
            "colorscale": [
             [
              0,
              "#0d0887"
             ],
             [
              0.1111111111111111,
              "#46039f"
             ],
             [
              0.2222222222222222,
              "#7201a8"
             ],
             [
              0.3333333333333333,
              "#9c179e"
             ],
             [
              0.4444444444444444,
              "#bd3786"
             ],
             [
              0.5555555555555556,
              "#d8576b"
             ],
             [
              0.6666666666666666,
              "#ed7953"
             ],
             [
              0.7777777777777778,
              "#fb9f3a"
             ],
             [
              0.8888888888888888,
              "#fdca26"
             ],
             [
              1,
              "#f0f921"
             ]
            ],
            "type": "surface"
           }
          ],
          "table": [
           {
            "cells": {
             "fill": {
              "color": "#EBF0F8"
             },
             "line": {
              "color": "white"
             }
            },
            "header": {
             "fill": {
              "color": "#C8D4E3"
             },
             "line": {
              "color": "white"
             }
            },
            "type": "table"
           }
          ]
         },
         "layout": {
          "annotationdefaults": {
           "arrowcolor": "#2a3f5f",
           "arrowhead": 0,
           "arrowwidth": 1
          },
          "autotypenumbers": "strict",
          "coloraxis": {
           "colorbar": {
            "outlinewidth": 0,
            "ticks": ""
           }
          },
          "colorscale": {
           "diverging": [
            [
             0,
             "#8e0152"
            ],
            [
             0.1,
             "#c51b7d"
            ],
            [
             0.2,
             "#de77ae"
            ],
            [
             0.3,
             "#f1b6da"
            ],
            [
             0.4,
             "#fde0ef"
            ],
            [
             0.5,
             "#f7f7f7"
            ],
            [
             0.6,
             "#e6f5d0"
            ],
            [
             0.7,
             "#b8e186"
            ],
            [
             0.8,
             "#7fbc41"
            ],
            [
             0.9,
             "#4d9221"
            ],
            [
             1,
             "#276419"
            ]
           ],
           "sequential": [
            [
             0,
             "#0d0887"
            ],
            [
             0.1111111111111111,
             "#46039f"
            ],
            [
             0.2222222222222222,
             "#7201a8"
            ],
            [
             0.3333333333333333,
             "#9c179e"
            ],
            [
             0.4444444444444444,
             "#bd3786"
            ],
            [
             0.5555555555555556,
             "#d8576b"
            ],
            [
             0.6666666666666666,
             "#ed7953"
            ],
            [
             0.7777777777777778,
             "#fb9f3a"
            ],
            [
             0.8888888888888888,
             "#fdca26"
            ],
            [
             1,
             "#f0f921"
            ]
           ],
           "sequentialminus": [
            [
             0,
             "#0d0887"
            ],
            [
             0.1111111111111111,
             "#46039f"
            ],
            [
             0.2222222222222222,
             "#7201a8"
            ],
            [
             0.3333333333333333,
             "#9c179e"
            ],
            [
             0.4444444444444444,
             "#bd3786"
            ],
            [
             0.5555555555555556,
             "#d8576b"
            ],
            [
             0.6666666666666666,
             "#ed7953"
            ],
            [
             0.7777777777777778,
             "#fb9f3a"
            ],
            [
             0.8888888888888888,
             "#fdca26"
            ],
            [
             1,
             "#f0f921"
            ]
           ]
          },
          "colorway": [
           "#636efa",
           "#EF553B",
           "#00cc96",
           "#ab63fa",
           "#FFA15A",
           "#19d3f3",
           "#FF6692",
           "#B6E880",
           "#FF97FF",
           "#FECB52"
          ],
          "font": {
           "color": "#2a3f5f"
          },
          "geo": {
           "bgcolor": "white",
           "lakecolor": "white",
           "landcolor": "#E5ECF6",
           "showlakes": true,
           "showland": true,
           "subunitcolor": "white"
          },
          "hoverlabel": {
           "align": "left"
          },
          "hovermode": "closest",
          "mapbox": {
           "style": "light"
          },
          "paper_bgcolor": "white",
          "plot_bgcolor": "#E5ECF6",
          "polar": {
           "angularaxis": {
            "gridcolor": "white",
            "linecolor": "white",
            "ticks": ""
           },
           "bgcolor": "#E5ECF6",
           "radialaxis": {
            "gridcolor": "white",
            "linecolor": "white",
            "ticks": ""
           }
          },
          "scene": {
           "xaxis": {
            "backgroundcolor": "#E5ECF6",
            "gridcolor": "white",
            "gridwidth": 2,
            "linecolor": "white",
            "showbackground": true,
            "ticks": "",
            "zerolinecolor": "white"
           },
           "yaxis": {
            "backgroundcolor": "#E5ECF6",
            "gridcolor": "white",
            "gridwidth": 2,
            "linecolor": "white",
            "showbackground": true,
            "ticks": "",
            "zerolinecolor": "white"
           },
           "zaxis": {
            "backgroundcolor": "#E5ECF6",
            "gridcolor": "white",
            "gridwidth": 2,
            "linecolor": "white",
            "showbackground": true,
            "ticks": "",
            "zerolinecolor": "white"
           }
          },
          "shapedefaults": {
           "line": {
            "color": "#2a3f5f"
           }
          },
          "ternary": {
           "aaxis": {
            "gridcolor": "white",
            "linecolor": "white",
            "ticks": ""
           },
           "baxis": {
            "gridcolor": "white",
            "linecolor": "white",
            "ticks": ""
           },
           "bgcolor": "#E5ECF6",
           "caxis": {
            "gridcolor": "white",
            "linecolor": "white",
            "ticks": ""
           }
          },
          "title": {
           "x": 0.05
          },
          "xaxis": {
           "automargin": true,
           "gridcolor": "white",
           "linecolor": "white",
           "ticks": "",
           "title": {
            "standoff": 15
           },
           "zerolinecolor": "white",
           "zerolinewidth": 2
          },
          "yaxis": {
           "automargin": true,
           "gridcolor": "white",
           "linecolor": "white",
           "ticks": "",
           "title": {
            "standoff": 15
           },
           "zerolinecolor": "white",
           "zerolinewidth": 2
          }
         }
        },
        "title": {
         "text": "Total number of medals per summer OS"
        },
        "xaxis": {
         "anchor": "y",
         "domain": [
          0,
          1
         ],
         "title": {
          "text": "Year"
         }
        },
        "yaxis": {
         "anchor": "x",
         "domain": [
          0,
          1
         ],
         "title": {
          "text": "number of medals"
         }
        }
       }
      }
     },
     "metadata": {},
     "output_type": "display_data"
    },
    {
     "data": {
      "application/vnd.plotly.v1+json": {
       "config": {
        "plotlyServerURL": "https://plot.ly"
       },
       "data": [
        {
         "alignmentgroup": "True",
         "hovertemplate": "Year=%{x}<br>Winter medals=%{y}<extra></extra>",
         "legendgroup": "",
         "marker": {
          "color": "#636efa",
          "pattern": {
           "shape": ""
          }
         },
         "name": "",
         "offsetgroup": "",
         "orientation": "v",
         "showlegend": false,
         "textposition": "auto",
         "type": "bar",
         "x": [
          1900,
          1906,
          1908,
          1912,
          1920,
          1924,
          1928,
          1932,
          1936,
          1948,
          1952,
          1956,
          1960,
          1964,
          1968,
          1972,
          1976,
          1980,
          1984,
          1988,
          1992,
          1994,
          1996,
          1998,
          2000,
          2002,
          2004,
          2006,
          2008,
          2010,
          2012,
          2014,
          2016
         ],
         "xaxis": "x",
         "y": [
          null,
          null,
          null,
          null,
          null,
          1,
          4,
          3,
          6,
          9,
          2,
          8,
          6,
          4,
          5,
          4,
          2,
          3,
          6,
          4,
          3,
          2,
          null,
          2,
          null,
          6,
          null,
          8,
          null,
          8,
          null,
          8,
          null
         ],
         "yaxis": "y"
        }
       ],
       "layout": {
        "barmode": "group",
        "legend": {
         "tracegroupgap": 0
        },
        "template": {
         "data": {
          "bar": [
           {
            "error_x": {
             "color": "#2a3f5f"
            },
            "error_y": {
             "color": "#2a3f5f"
            },
            "marker": {
             "line": {
              "color": "#E5ECF6",
              "width": 0.5
             },
             "pattern": {
              "fillmode": "overlay",
              "size": 10,
              "solidity": 0.2
             }
            },
            "type": "bar"
           }
          ],
          "barpolar": [
           {
            "marker": {
             "line": {
              "color": "#E5ECF6",
              "width": 0.5
             },
             "pattern": {
              "fillmode": "overlay",
              "size": 10,
              "solidity": 0.2
             }
            },
            "type": "barpolar"
           }
          ],
          "carpet": [
           {
            "aaxis": {
             "endlinecolor": "#2a3f5f",
             "gridcolor": "white",
             "linecolor": "white",
             "minorgridcolor": "white",
             "startlinecolor": "#2a3f5f"
            },
            "baxis": {
             "endlinecolor": "#2a3f5f",
             "gridcolor": "white",
             "linecolor": "white",
             "minorgridcolor": "white",
             "startlinecolor": "#2a3f5f"
            },
            "type": "carpet"
           }
          ],
          "choropleth": [
           {
            "colorbar": {
             "outlinewidth": 0,
             "ticks": ""
            },
            "type": "choropleth"
           }
          ],
          "contour": [
           {
            "colorbar": {
             "outlinewidth": 0,
             "ticks": ""
            },
            "colorscale": [
             [
              0,
              "#0d0887"
             ],
             [
              0.1111111111111111,
              "#46039f"
             ],
             [
              0.2222222222222222,
              "#7201a8"
             ],
             [
              0.3333333333333333,
              "#9c179e"
             ],
             [
              0.4444444444444444,
              "#bd3786"
             ],
             [
              0.5555555555555556,
              "#d8576b"
             ],
             [
              0.6666666666666666,
              "#ed7953"
             ],
             [
              0.7777777777777778,
              "#fb9f3a"
             ],
             [
              0.8888888888888888,
              "#fdca26"
             ],
             [
              1,
              "#f0f921"
             ]
            ],
            "type": "contour"
           }
          ],
          "contourcarpet": [
           {
            "colorbar": {
             "outlinewidth": 0,
             "ticks": ""
            },
            "type": "contourcarpet"
           }
          ],
          "heatmap": [
           {
            "colorbar": {
             "outlinewidth": 0,
             "ticks": ""
            },
            "colorscale": [
             [
              0,
              "#0d0887"
             ],
             [
              0.1111111111111111,
              "#46039f"
             ],
             [
              0.2222222222222222,
              "#7201a8"
             ],
             [
              0.3333333333333333,
              "#9c179e"
             ],
             [
              0.4444444444444444,
              "#bd3786"
             ],
             [
              0.5555555555555556,
              "#d8576b"
             ],
             [
              0.6666666666666666,
              "#ed7953"
             ],
             [
              0.7777777777777778,
              "#fb9f3a"
             ],
             [
              0.8888888888888888,
              "#fdca26"
             ],
             [
              1,
              "#f0f921"
             ]
            ],
            "type": "heatmap"
           }
          ],
          "heatmapgl": [
           {
            "colorbar": {
             "outlinewidth": 0,
             "ticks": ""
            },
            "colorscale": [
             [
              0,
              "#0d0887"
             ],
             [
              0.1111111111111111,
              "#46039f"
             ],
             [
              0.2222222222222222,
              "#7201a8"
             ],
             [
              0.3333333333333333,
              "#9c179e"
             ],
             [
              0.4444444444444444,
              "#bd3786"
             ],
             [
              0.5555555555555556,
              "#d8576b"
             ],
             [
              0.6666666666666666,
              "#ed7953"
             ],
             [
              0.7777777777777778,
              "#fb9f3a"
             ],
             [
              0.8888888888888888,
              "#fdca26"
             ],
             [
              1,
              "#f0f921"
             ]
            ],
            "type": "heatmapgl"
           }
          ],
          "histogram": [
           {
            "marker": {
             "pattern": {
              "fillmode": "overlay",
              "size": 10,
              "solidity": 0.2
             }
            },
            "type": "histogram"
           }
          ],
          "histogram2d": [
           {
            "colorbar": {
             "outlinewidth": 0,
             "ticks": ""
            },
            "colorscale": [
             [
              0,
              "#0d0887"
             ],
             [
              0.1111111111111111,
              "#46039f"
             ],
             [
              0.2222222222222222,
              "#7201a8"
             ],
             [
              0.3333333333333333,
              "#9c179e"
             ],
             [
              0.4444444444444444,
              "#bd3786"
             ],
             [
              0.5555555555555556,
              "#d8576b"
             ],
             [
              0.6666666666666666,
              "#ed7953"
             ],
             [
              0.7777777777777778,
              "#fb9f3a"
             ],
             [
              0.8888888888888888,
              "#fdca26"
             ],
             [
              1,
              "#f0f921"
             ]
            ],
            "type": "histogram2d"
           }
          ],
          "histogram2dcontour": [
           {
            "colorbar": {
             "outlinewidth": 0,
             "ticks": ""
            },
            "colorscale": [
             [
              0,
              "#0d0887"
             ],
             [
              0.1111111111111111,
              "#46039f"
             ],
             [
              0.2222222222222222,
              "#7201a8"
             ],
             [
              0.3333333333333333,
              "#9c179e"
             ],
             [
              0.4444444444444444,
              "#bd3786"
             ],
             [
              0.5555555555555556,
              "#d8576b"
             ],
             [
              0.6666666666666666,
              "#ed7953"
             ],
             [
              0.7777777777777778,
              "#fb9f3a"
             ],
             [
              0.8888888888888888,
              "#fdca26"
             ],
             [
              1,
              "#f0f921"
             ]
            ],
            "type": "histogram2dcontour"
           }
          ],
          "mesh3d": [
           {
            "colorbar": {
             "outlinewidth": 0,
             "ticks": ""
            },
            "type": "mesh3d"
           }
          ],
          "parcoords": [
           {
            "line": {
             "colorbar": {
              "outlinewidth": 0,
              "ticks": ""
             }
            },
            "type": "parcoords"
           }
          ],
          "pie": [
           {
            "automargin": true,
            "type": "pie"
           }
          ],
          "scatter": [
           {
            "fillpattern": {
             "fillmode": "overlay",
             "size": 10,
             "solidity": 0.2
            },
            "type": "scatter"
           }
          ],
          "scatter3d": [
           {
            "line": {
             "colorbar": {
              "outlinewidth": 0,
              "ticks": ""
             }
            },
            "marker": {
             "colorbar": {
              "outlinewidth": 0,
              "ticks": ""
             }
            },
            "type": "scatter3d"
           }
          ],
          "scattercarpet": [
           {
            "marker": {
             "colorbar": {
              "outlinewidth": 0,
              "ticks": ""
             }
            },
            "type": "scattercarpet"
           }
          ],
          "scattergeo": [
           {
            "marker": {
             "colorbar": {
              "outlinewidth": 0,
              "ticks": ""
             }
            },
            "type": "scattergeo"
           }
          ],
          "scattergl": [
           {
            "marker": {
             "colorbar": {
              "outlinewidth": 0,
              "ticks": ""
             }
            },
            "type": "scattergl"
           }
          ],
          "scattermapbox": [
           {
            "marker": {
             "colorbar": {
              "outlinewidth": 0,
              "ticks": ""
             }
            },
            "type": "scattermapbox"
           }
          ],
          "scatterpolar": [
           {
            "marker": {
             "colorbar": {
              "outlinewidth": 0,
              "ticks": ""
             }
            },
            "type": "scatterpolar"
           }
          ],
          "scatterpolargl": [
           {
            "marker": {
             "colorbar": {
              "outlinewidth": 0,
              "ticks": ""
             }
            },
            "type": "scatterpolargl"
           }
          ],
          "scatterternary": [
           {
            "marker": {
             "colorbar": {
              "outlinewidth": 0,
              "ticks": ""
             }
            },
            "type": "scatterternary"
           }
          ],
          "surface": [
           {
            "colorbar": {
             "outlinewidth": 0,
             "ticks": ""
            },
            "colorscale": [
             [
              0,
              "#0d0887"
             ],
             [
              0.1111111111111111,
              "#46039f"
             ],
             [
              0.2222222222222222,
              "#7201a8"
             ],
             [
              0.3333333333333333,
              "#9c179e"
             ],
             [
              0.4444444444444444,
              "#bd3786"
             ],
             [
              0.5555555555555556,
              "#d8576b"
             ],
             [
              0.6666666666666666,
              "#ed7953"
             ],
             [
              0.7777777777777778,
              "#fb9f3a"
             ],
             [
              0.8888888888888888,
              "#fdca26"
             ],
             [
              1,
              "#f0f921"
             ]
            ],
            "type": "surface"
           }
          ],
          "table": [
           {
            "cells": {
             "fill": {
              "color": "#EBF0F8"
             },
             "line": {
              "color": "white"
             }
            },
            "header": {
             "fill": {
              "color": "#C8D4E3"
             },
             "line": {
              "color": "white"
             }
            },
            "type": "table"
           }
          ]
         },
         "layout": {
          "annotationdefaults": {
           "arrowcolor": "#2a3f5f",
           "arrowhead": 0,
           "arrowwidth": 1
          },
          "autotypenumbers": "strict",
          "coloraxis": {
           "colorbar": {
            "outlinewidth": 0,
            "ticks": ""
           }
          },
          "colorscale": {
           "diverging": [
            [
             0,
             "#8e0152"
            ],
            [
             0.1,
             "#c51b7d"
            ],
            [
             0.2,
             "#de77ae"
            ],
            [
             0.3,
             "#f1b6da"
            ],
            [
             0.4,
             "#fde0ef"
            ],
            [
             0.5,
             "#f7f7f7"
            ],
            [
             0.6,
             "#e6f5d0"
            ],
            [
             0.7,
             "#b8e186"
            ],
            [
             0.8,
             "#7fbc41"
            ],
            [
             0.9,
             "#4d9221"
            ],
            [
             1,
             "#276419"
            ]
           ],
           "sequential": [
            [
             0,
             "#0d0887"
            ],
            [
             0.1111111111111111,
             "#46039f"
            ],
            [
             0.2222222222222222,
             "#7201a8"
            ],
            [
             0.3333333333333333,
             "#9c179e"
            ],
            [
             0.4444444444444444,
             "#bd3786"
            ],
            [
             0.5555555555555556,
             "#d8576b"
            ],
            [
             0.6666666666666666,
             "#ed7953"
            ],
            [
             0.7777777777777778,
             "#fb9f3a"
            ],
            [
             0.8888888888888888,
             "#fdca26"
            ],
            [
             1,
             "#f0f921"
            ]
           ],
           "sequentialminus": [
            [
             0,
             "#0d0887"
            ],
            [
             0.1111111111111111,
             "#46039f"
            ],
            [
             0.2222222222222222,
             "#7201a8"
            ],
            [
             0.3333333333333333,
             "#9c179e"
            ],
            [
             0.4444444444444444,
             "#bd3786"
            ],
            [
             0.5555555555555556,
             "#d8576b"
            ],
            [
             0.6666666666666666,
             "#ed7953"
            ],
            [
             0.7777777777777778,
             "#fb9f3a"
            ],
            [
             0.8888888888888888,
             "#fdca26"
            ],
            [
             1,
             "#f0f921"
            ]
           ]
          },
          "colorway": [
           "#636efa",
           "#EF553B",
           "#00cc96",
           "#ab63fa",
           "#FFA15A",
           "#19d3f3",
           "#FF6692",
           "#B6E880",
           "#FF97FF",
           "#FECB52"
          ],
          "font": {
           "color": "#2a3f5f"
          },
          "geo": {
           "bgcolor": "white",
           "lakecolor": "white",
           "landcolor": "#E5ECF6",
           "showlakes": true,
           "showland": true,
           "subunitcolor": "white"
          },
          "hoverlabel": {
           "align": "left"
          },
          "hovermode": "closest",
          "mapbox": {
           "style": "light"
          },
          "paper_bgcolor": "white",
          "plot_bgcolor": "#E5ECF6",
          "polar": {
           "angularaxis": {
            "gridcolor": "white",
            "linecolor": "white",
            "ticks": ""
           },
           "bgcolor": "#E5ECF6",
           "radialaxis": {
            "gridcolor": "white",
            "linecolor": "white",
            "ticks": ""
           }
          },
          "scene": {
           "xaxis": {
            "backgroundcolor": "#E5ECF6",
            "gridcolor": "white",
            "gridwidth": 2,
            "linecolor": "white",
            "showbackground": true,
            "ticks": "",
            "zerolinecolor": "white"
           },
           "yaxis": {
            "backgroundcolor": "#E5ECF6",
            "gridcolor": "white",
            "gridwidth": 2,
            "linecolor": "white",
            "showbackground": true,
            "ticks": "",
            "zerolinecolor": "white"
           },
           "zaxis": {
            "backgroundcolor": "#E5ECF6",
            "gridcolor": "white",
            "gridwidth": 2,
            "linecolor": "white",
            "showbackground": true,
            "ticks": "",
            "zerolinecolor": "white"
           }
          },
          "shapedefaults": {
           "line": {
            "color": "#2a3f5f"
           }
          },
          "ternary": {
           "aaxis": {
            "gridcolor": "white",
            "linecolor": "white",
            "ticks": ""
           },
           "baxis": {
            "gridcolor": "white",
            "linecolor": "white",
            "ticks": ""
           },
           "bgcolor": "#E5ECF6",
           "caxis": {
            "gridcolor": "white",
            "linecolor": "white",
            "ticks": ""
           }
          },
          "title": {
           "x": 0.05
          },
          "xaxis": {
           "automargin": true,
           "gridcolor": "white",
           "linecolor": "white",
           "ticks": "",
           "title": {
            "standoff": 15
           },
           "zerolinecolor": "white",
           "zerolinewidth": 2
          },
          "yaxis": {
           "automargin": true,
           "gridcolor": "white",
           "linecolor": "white",
           "ticks": "",
           "title": {
            "standoff": 15
           },
           "zerolinecolor": "white",
           "zerolinewidth": 2
          }
         }
        },
        "title": {
         "text": "Total number of medals per winter OS"
        },
        "xaxis": {
         "anchor": "y",
         "domain": [
          0,
          1
         ],
         "title": {
          "text": "Year"
         }
        },
        "yaxis": {
         "anchor": "x",
         "domain": [
          0,
          1
         ],
         "title": {
          "text": "number of medals"
         }
        }
       }
      }
     },
     "metadata": {},
     "output_type": "display_data"
    }
   ],
   "source": [
    "# antal medaljer per OS\n",
    "\n",
    "# Create a new dataframe with year and medals \n",
    "df_os_medals = df_data_sweden.groupby(\"Year\")[\"Medal\"].count().reset_index()\n",
    "\n",
    "# rename Medal to toalal medals\n",
    "df_os_medals.rename(columns= {\"Medal\": \"total Medals\"}, inplace= True)\n",
    "\n",
    "# seasons and column names \n",
    "seasons = [\"Summer\", \"Winter\"]\n",
    "column_names = [\"Summer medals\", \"Winter medals\"]\n",
    "\n",
    "# counts medals for winter and summer os and add them to new columns \"Summer medals\" and \"Winter medals\"\n",
    "for i, season in enumerate(seasons):\n",
    "\n",
    "    df_temp = df_data_sweden[[\"Year\",\"Medal\"]].loc[df_data_sweden[\"Season\"] == season].groupby(\"Year\").count().reset_index()\n",
    "    df_temp.rename(columns= {\"Medal\": column_names[i]}, inplace=True)\n",
    "    df_os_medals = pd.merge(df_os_medals, df_temp, how= \"left\", on= \"Year\")\n",
    "\n",
    "# Titels and column names \n",
    "titels = [\"Total number of medals per OS\", \"Total number of medals per summer OS\", \"Total number of medals per winter OS\"]\n",
    "columns = [[\"Summer medals\", \"Winter medals\"], \"Summer medals\", \"Winter medals\"]\n",
    "\n",
    "# plots the graphs\n",
    "for i, titel in enumerate(titels):\n",
    "\n",
    "    fig = px.bar(df_os_medals, x= \"Year\", y=columns[i], barmode=\"group\", title= titel)\n",
    "    fig.update_layout(\n",
    "        yaxis_title=\"number of medals\"\n",
    "    )\n",
    "    fig.show()\n",
    "\n",
    "\n",
    "\n"
   ]
  },
  {
   "cell_type": "code",
   "execution_count": 5,
   "metadata": {},
   "outputs": [
    {
     "data": {
      "application/vnd.plotly.v1+json": {
       "config": {
        "plotlyServerURL": "https://plot.ly"
       },
       "data": [
        {
         "alignmentgroup": "True",
         "bingroup": "x",
         "hovertemplate": "Age=%{x}<br>count=%{y}<extra></extra>",
         "legendgroup": "",
         "marker": {
          "color": "#636efa",
          "pattern": {
           "shape": ""
          }
         },
         "name": "",
         "offsetgroup": "",
         "orientation": "v",
         "showlegend": false,
         "type": "histogram",
         "x": [
          28,
          25,
          17,
          21,
          25,
          25,
          29,
          34,
          24,
          29,
          33,
          26,
          19,
          25,
          32,
          36,
          19,
          41,
          23,
          23,
          27,
          22,
          23,
          20,
          26,
          17,
          26,
          30,
          20,
          24,
          28,
          32,
          29,
          22,
          26,
          22,
          28,
          22,
          28,
          23,
          34,
          38,
          26,
          30,
          28,
          32,
          26,
          25,
          29,
          26,
          28,
          24,
          26,
          30,
          34,
          18,
          28,
          19,
          23,
          21,
          31,
          35,
          24,
          21,
          23,
          19,
          25,
          31,
          35,
          25,
          29,
          27,
          21,
          22,
          27,
          28,
          22,
          26,
          30,
          34,
          38,
          25,
          29,
          23,
          27,
          31,
          25,
          23,
          25,
          28,
          22,
          28,
          24,
          50,
          34,
          46,
          50,
          58,
          21,
          25,
          29,
          20,
          22,
          22,
          22,
          34,
          30,
          23,
          28,
          23,
          26,
          25,
          21,
          21,
          15,
          19,
          27,
          31,
          25,
          25,
          29,
          33,
          20,
          24,
          27,
          23,
          23,
          18,
          19,
          23,
          27,
          31,
          35,
          24,
          31,
          35,
          25,
          26,
          30,
          23,
          35,
          39,
          44,
          52,
          20,
          21,
          20,
          24,
          21,
          26,
          21,
          25,
          28,
          31,
          26,
          30,
          34,
          20,
          22,
          28,
          25,
          29,
          33,
          21,
          25,
          38,
          23,
          20,
          24,
          25,
          29,
          24,
          23,
          26,
          23,
          32,
          21,
          26,
          14,
          18,
          27,
          27,
          25,
          29,
          33,
          25,
          29,
          32,
          25,
          21,
          25,
          25,
          29,
          33,
          19,
          23,
          20,
          23,
          28,
          26,
          32,
          36,
          22,
          24,
          33,
          20,
          25,
          31,
          24,
          18,
          25,
          29,
          20,
          24,
          28,
          32,
          26,
          30,
          32,
          36,
          44,
          29,
          33,
          21,
          25,
          31,
          27,
          22,
          30,
          34,
          16,
          20,
          24,
          27,
          27,
          26,
          18,
          20,
          26,
          25,
          31,
          38,
          22,
          32,
          27,
          29,
          27,
          28,
          24,
          28,
          32,
          29,
          20,
          24,
          25,
          21,
          26,
          25,
          28,
          40,
          28,
          23,
          29,
          33,
          20,
          26,
          31,
          18,
          22,
          26,
          30,
          23,
          27,
          34,
          20,
          24,
          28,
          36,
          47,
          22,
          30,
          24,
          28,
          23,
          27,
          24,
          28,
          32,
          22,
          27,
          25,
          22,
          18,
          22,
          24,
          23,
          26,
          30,
          34,
          19,
          23,
          27,
          26,
          26,
          20,
          20,
          24,
          28,
          24,
          25,
          20,
          26,
          22,
          18,
          28,
          28,
          25,
          31,
          23,
          26,
          30,
          23,
          35,
          33,
          29,
          33,
          25,
          29,
          23,
          27,
          31,
          27,
          23,
          28,
          26,
          30,
          42,
          19,
          23,
          24,
          26,
          24,
          22,
          16,
          24,
          15,
          21,
          22,
          26,
          23,
          19,
          29,
          26,
          30,
          23,
          27,
          27,
          52,
          22,
          26,
          30,
          32,
          19,
          20,
          23,
          27,
          31,
          29,
          23,
          27,
          24,
          26,
          24,
          25,
          18,
          41,
          21,
          23,
          27,
          21,
          24,
          20,
          28,
          32,
          36,
          21,
          21,
          16,
          20,
          24,
          40,
          25,
          24,
          28,
          32,
          24,
          25,
          19,
          27,
          44,
          17,
          26,
          19,
          24,
          24,
          19,
          23,
          22,
          61,
          22,
          24,
          24,
          22,
          30,
          34,
          20,
          24,
          28,
          24,
          38,
          22,
          26,
          34,
          26,
          20,
          18,
          23,
          28,
          32,
          44,
          30,
          34,
          21,
          25,
          27,
          32,
          36,
          28,
          32,
          24,
          20,
          24,
          22,
          31,
          35,
          43,
          47,
          29,
          33,
          30,
          30,
          20,
          23,
          27,
          23,
          26,
          32,
          35,
          25,
          28,
          32,
          23,
          27,
          31,
          20,
          19,
          21,
          19,
          25,
          29,
          24,
          25,
          21,
          25,
          29,
          36,
          42,
          23,
          30,
          34,
          27,
          31,
          23,
          27,
          24,
          26,
          30,
          22,
          24,
          33,
          28,
          32,
          36,
          21,
          23,
          24,
          27,
          20,
          22,
          25,
          23,
          18,
          26,
          30,
          27,
          30,
          20,
          29,
          24,
          28,
          26,
          28,
          20,
          32,
          24,
          28,
          23,
          31,
          35,
          25,
          21,
          25,
          29,
          33,
          23,
          23,
          27,
          22,
          26,
          30,
          34,
          38,
          42,
          46,
          30,
          30,
          34,
          38,
          24,
          28,
          32,
          33,
          41,
          36,
          23,
          32,
          36,
          40,
          23,
          18,
          24,
          23,
          27,
          29,
          21,
          21,
          25,
          23,
          47,
          18,
          22,
          28,
          29,
          19,
          42,
          15,
          19,
          23,
          27,
          26,
          31,
          15,
          29,
          26,
          23,
          24,
          32,
          28,
          22,
          26,
          21,
          27,
          27,
          24,
          26,
          24,
          28,
          23,
          26,
          24,
          32,
          26,
          27,
          41,
          45,
          20,
          32,
          36,
          25,
          29,
          29,
          23,
          24,
          18,
          24,
          27,
          32,
          19,
          26,
          29,
          23,
          33,
          38,
          19,
          25,
          22,
          26,
          30,
          18,
          20,
          35,
          25,
          26,
          30,
          23,
          31,
          22,
          26,
          30,
          34,
          27,
          20,
          22,
          26,
          22,
          24,
          28,
          20,
          24,
          18,
          48,
          25,
          18,
          21,
          25,
          29,
          26,
          22,
          27,
          42,
          22,
          30,
          18,
          22,
          22,
          23,
          28,
          22,
          26,
          20,
          24,
          32,
          18,
          27,
          35,
          27,
          23,
          23,
          27,
          31,
          24,
          28,
          21,
          25,
          23,
          27,
          31,
          27,
          27,
          31,
          28,
          26,
          24,
          24,
          31,
          25,
          19,
          23,
          21,
          27,
          21,
          25,
          29,
          29,
          33,
          37,
          23,
          27,
          31,
          22,
          25,
          28,
          29,
          20,
          24,
          22,
          19,
          21,
          23,
          27,
          35,
          29,
          22,
          26,
          30,
          25,
          37,
          24,
          29,
          29,
          20,
          24,
          28,
          25,
          18,
          26,
          25,
          26,
          20,
          24,
          19,
          20,
          22,
          26,
          20,
          21,
          25,
          29,
          33,
          28,
          25,
          23,
          23,
          19,
          23,
          45,
          26,
          15,
          22,
          26,
          30,
          18,
          58,
          31,
          23,
          27,
          22,
          20,
          24,
          27,
          25,
          26,
          30,
          34,
          25,
          29,
          33,
          27,
          31,
          31,
          18,
          22,
          26,
          23,
          18,
          24,
          25,
          24,
          31,
          35,
          28,
          30,
          34,
          20,
          24,
          28,
          27,
          23,
          27,
          22,
          19,
          23,
          23,
          26,
          42,
          34,
          38,
          23,
          27,
          29,
          18,
          26,
          30,
          20,
          24,
          28,
          28,
          20,
          23,
          34,
          38,
          21,
          25,
          25,
          29,
          30,
          21,
          25,
          22,
          30,
          21,
          29,
          33,
          26,
          23,
          24,
          28,
          32,
          22,
          26,
          42,
          21,
          25,
          28,
          20,
          24,
          28,
          26,
          30,
          22,
          26,
          21,
          26,
          32,
          24,
          27,
          18,
          22,
          26,
          31,
          28,
          28,
          27,
          29,
          46,
          26,
          25,
          29,
          56,
          72,
          19,
          23,
          27,
          19,
          19,
          20,
          28,
          25,
          39,
          19,
          23,
          27,
          26,
          24,
          27,
          27,
          29,
          33,
          41,
          22,
          26,
          24,
          28,
          24,
          23,
          34,
          18,
          23,
          22,
          26,
          26,
          19,
          27,
          31,
          27,
          26,
          22,
          24,
          28,
          25,
          33,
          37,
          25,
          45,
          21,
          23,
          27,
          31,
          20,
          24,
          24,
          22,
          20,
          21,
          22,
          26,
          21,
          25,
          29,
          20,
          24,
          30,
          23,
          24,
          28,
          32,
          36,
          26,
          21,
          29,
          24,
          25,
          29,
          28,
          32,
          36,
          44,
          22,
          19,
          23,
          22,
          39,
          43,
          25,
          20,
          21,
          29,
          33,
          23,
          21,
          25,
          29,
          37,
          27,
          23,
          23,
          20,
          24,
          28,
          23,
          23,
          29,
          21,
          22,
          28,
          16,
          24,
          28,
          19,
          23,
          27,
          31,
          21,
          23,
          28,
          18,
          26,
          19,
          23,
          31,
          22,
          26,
          22,
          27,
          67,
          18,
          31,
          32,
          36,
          25,
          29,
          27,
          23,
          17,
          34,
          42,
          24,
          28,
          24,
          28,
          45,
          21,
          25,
          29,
          24,
          28,
          27,
          26,
          21,
          25,
          23,
          25,
          25,
          29,
          22,
          24,
          28,
          32,
          36,
          23,
          27,
          31,
          19,
          32,
          36,
          40,
          24,
          26,
          29,
          25,
          23,
          23,
          16,
          22,
          20,
          24,
          37,
          34,
          29,
          33,
          23,
          23,
          23,
          23,
          32,
          36,
          22,
          20,
          33,
          25,
          29,
          26,
          24,
          28,
          23,
          27,
          15,
          25,
          33,
          25,
          27,
          18,
          22,
          20,
          25,
          25,
          25,
          19,
          50,
          19,
          24,
          23,
          27,
          26,
          25,
          24,
          23,
          21,
          25,
          22,
          31,
          31,
          29,
          35,
          21,
          21,
          18,
          21,
          39,
          43,
          24,
          23,
          22,
          27,
          23,
          32,
          29,
          33,
          21,
          19,
          23,
          27,
          44,
          33,
          18,
          23,
          18,
          24,
          25,
          29,
          63,
          23,
          29,
          17,
          20,
          24,
          25,
          29,
          18,
          22,
          27,
          31,
          35,
          44,
          25,
          25,
          29,
          33,
          29,
          33,
          23,
          25,
          23,
          27,
          31,
          25,
          23,
          27,
          30,
          24,
          18,
          21,
          41,
          20,
          26,
          26,
          30,
          30,
          35,
          23,
          23,
          38,
          36,
          22,
          26,
          18,
          28,
          19,
          23,
          34,
          23,
          22,
          26,
          24,
          19,
          24,
          33,
          17,
          21,
          25,
          23,
          25,
          27,
          31,
          35,
          22,
          30,
          26,
          19,
          24,
          25,
          29,
          33,
          29,
          23,
          36,
          19,
          23,
          27,
          29,
          28,
          49,
          53,
          46,
          18,
          22,
          26,
          17,
          22,
          24,
          25,
          25,
          27,
          24,
          18,
          22,
          23,
          22,
          30,
          29,
          23,
          30,
          26,
          33,
          37,
          19,
          23,
          34,
          24,
          25,
          17,
          30,
          34,
          26,
          30,
          19,
          26,
          24,
          16,
          29,
          20,
          24,
          23,
          21,
          25,
          34,
          32,
          36,
          22,
          19,
          23,
          27,
          22,
          28,
          22,
          26,
          30,
          24,
          20,
          19,
          24,
          23,
          20,
          16,
          28,
          21,
          31,
          28,
          22,
          29,
          21,
          25,
          35,
          22,
          26,
          17,
          19,
          23,
          29,
          21,
          25,
          26,
          28,
          36,
          23,
          25,
          29,
          33,
          25,
          29,
          22,
          25,
          25,
          24,
          22,
          26,
          26,
          26,
          26,
          25,
          29,
          28,
          25,
          29,
          21,
          37,
          24,
          21,
          25,
          23,
          29,
          30,
          39,
          23,
          24,
          29,
          31,
          28,
          32,
          31,
          20,
          27,
          23,
          27,
          23,
          23,
          25,
          27,
          22,
          19,
          23,
          26,
          30,
          24,
          29,
          32,
          23,
          27,
          16,
          22,
          24,
          65,
          26,
          24,
          26,
          29,
          30,
          24,
          28,
          25,
          25,
          20,
          26,
          28,
          32,
          20,
          24,
          19,
          21,
          22,
          24,
          23,
          29,
          20,
          24,
          33,
          16,
          20,
          40,
          43,
          47,
          15,
          19,
          23,
          27,
          30,
          22,
          27,
          21,
          19,
          20,
          25,
          38,
          42,
          46,
          50,
          23,
          23,
          32,
          22,
          19,
          46,
          54,
          22,
          30,
          31,
          24,
          31,
          35,
          39,
          23,
          26,
          31,
          20,
          25,
          30,
          30,
          20,
          29,
          25,
          27,
          24,
          25,
          29,
          34,
          39,
          24,
          21,
          21,
          17,
          19,
          25,
          16,
          20,
          24,
          28,
          30,
          34,
          21,
          34,
          38,
          20,
          25,
          26,
          53,
          25,
          24,
          24,
          21,
          22,
          27,
          24,
          21,
          28,
          21,
          29,
          46,
          34,
          30,
          26,
          30,
          24,
          27,
          30,
          35,
          39,
          23,
          27,
          24,
          21,
          25,
          29,
          33,
          24,
          20,
          21,
          27,
          22,
          23,
          27,
          24,
          28,
          27,
          47,
          32,
          22,
          25,
          25,
          29,
          23,
          23,
          27,
          27,
          31,
          22,
          20,
          23,
          25,
          23,
          17,
          24,
          32,
          27,
          24,
          61,
          33,
          23,
          29,
          33,
          18,
          22,
          26,
          18,
          23,
          26,
          30,
          34,
          38,
          27,
          24,
          36,
          23,
          22,
          47,
          37,
          46,
          20,
          28,
          44,
          22,
          31,
          25,
          29,
          30,
          34,
          22,
          17,
          26,
          27,
          24,
          28,
          21,
          28,
          24,
          24,
          32,
          23,
          27,
          31,
          22,
          21,
          21,
          25,
          29,
          18,
          27,
          24,
          32,
          26,
          25,
          29,
          33,
          26,
          19,
          24,
          27,
          25,
          27,
          29,
          33,
          29,
          30,
          21,
          24,
          28,
          30,
          22,
          22,
          26,
          30,
          27,
          31,
          26,
          29,
          19,
          27,
          35,
          39,
          21,
          28,
          32,
          36,
          27,
          29,
          26,
          26,
          26,
          32,
          26,
          30,
          17,
          21,
          26,
          30,
          23,
          17,
          28,
          28,
          23,
          20,
          32,
          34,
          31,
          20,
          24,
          28,
          16,
          22,
          26,
          32,
          27,
          31,
          35,
          43,
          51,
          19,
          31,
          28,
          24,
          28,
          32,
          25,
          45,
          16,
          20,
          24,
          28,
          25,
          23,
          30,
          29,
          24,
          28,
          32,
          23,
          20,
          26,
          30,
          34,
          38,
          31,
          18,
          24,
          32,
          36,
          18,
          28,
          19,
          19,
          23,
          21,
          28,
          27,
          23,
          25,
          44,
          25,
          29,
          21,
          21,
          25,
          21,
          25,
          20,
          24,
          18,
          21,
          20,
          25,
          18,
          20,
          24,
          29,
          14,
          23,
          27,
          26,
          20,
          24,
          28,
          32,
          29,
          37,
          22,
          26,
          30,
          22,
          17,
          21,
          30,
          34,
          26,
          30,
          25,
          29,
          20,
          37,
          23,
          27,
          20,
          22,
          15,
          21,
          24,
          22,
          32,
          36,
          24,
          22,
          25,
          20,
          28,
          17,
          28,
          23,
          27,
          26,
          20,
          24,
          25,
          25,
          21,
          20,
          19,
          23,
          27,
          31,
          35,
          23,
          20,
          28,
          27,
          23,
          27,
          19,
          24,
          25,
          26,
          18,
          37,
          39,
          22,
          25,
          29,
          22,
          22,
          24,
          29,
          23,
          24,
          28,
          32,
          36,
          21,
          25,
          29,
          33,
          24,
          23,
          53,
          27,
          18,
          22,
          24,
          25,
          23,
          27,
          31,
          22,
          26,
          23,
          28,
          32,
          33,
          30,
          36,
          27,
          15,
          23,
          23,
          27,
          26,
          26,
          24,
          20,
          27,
          25,
          30,
          23,
          18,
          22,
          20,
          24,
          20,
          32,
          22,
          26,
          30,
          20,
          26,
          30,
          32,
          24,
          22,
          26,
          29,
          33,
          22,
          30,
          21,
          24,
          24,
          26,
          22,
          26,
          30,
          34,
          24,
          27,
          21,
          24,
          33,
          41,
          45,
          49,
          53,
          25,
          33,
          26,
          23,
          26,
          22,
          26,
          25,
          29,
          25,
          34,
          23,
          27,
          32,
          37,
          19,
          19,
          29,
          26,
          39,
          35,
          23,
          24,
          27,
          29,
          33,
          20,
          24,
          21,
          25,
          16,
          24,
          28,
          32,
          22,
          26,
          19,
          23,
          18,
          20,
          37,
          21,
          20,
          24,
          22,
          25,
          21,
          29,
          30,
          34,
          21,
          25,
          25,
          29,
          24,
          36,
          40,
          18,
          22,
          26,
          22,
          22,
          28,
          32,
          40,
          44,
          21,
          30,
          22,
          26,
          16,
          20,
          24,
          24,
          27,
          18,
          22,
          24,
          18,
          25,
          21,
          25,
          29,
          31,
          24,
          22,
          18,
          22,
          26,
          23,
          21,
          25,
          29,
          33,
          21,
          26,
          21,
          22,
          41,
          23,
          16,
          27,
          18,
          22,
          27,
          23,
          31,
          26,
          29,
          27,
          24,
          33,
          25,
          23,
          30,
          24,
          22,
          22,
          26,
          32,
          26,
          18,
          20,
          24,
          23,
          27,
          45,
          42,
          22,
          26,
          28,
          36,
          40,
          44,
          23,
          19,
          24,
          17,
          35,
          23,
          22,
          26,
          22,
          21,
          25,
          29,
          24,
          21,
          27,
          24,
          21,
          25,
          21,
          25,
          29,
          34,
          38,
          28,
          21,
          28,
          32,
          25,
          29,
          27,
          31,
          29,
          29,
          26,
          29,
          27,
          31,
          18,
          24,
          26,
          30,
          30,
          18,
          22,
          26,
          30,
          33,
          25,
          27,
          31,
          20,
          20,
          15,
          23,
          22,
          25,
          22,
          38,
          20,
          16,
          18,
          29,
          28,
          20,
          25,
          23,
          27,
          31,
          35,
          39,
          20,
          24,
          28,
          27,
          22,
          26,
          27,
          29,
          20,
          24,
          25,
          26,
          28,
          32,
          44,
          21,
          21,
          41,
          29,
          28,
          32,
          19,
          38,
          27,
          22,
          26,
          43,
          25,
          29,
          27,
          27,
          27,
          31,
          24,
          25,
          23,
          29,
          25,
          29,
          22,
          21,
          31,
          35,
          33,
          24,
          22,
          31,
          35,
          29,
          37,
          22,
          24,
          27,
          24,
          23,
          32,
          17,
          21,
          25,
          25,
          30,
          20,
          25,
          34,
          38,
          42,
          23,
          20,
          26,
          21,
          25,
          29,
          33,
          23,
          26,
          41,
          19,
          23,
          27,
          17,
          22,
          26,
          27,
          31,
          24,
          28,
          23,
          31,
          30,
          21,
          33,
          33,
          27,
          19,
          19,
          23,
          27,
          26,
          19,
          21,
          19,
          26,
          28,
          32,
          44,
          25,
          22,
          22,
          21,
          25,
          29,
          22,
          25,
          29,
          19,
          27,
          40,
          21,
          25,
          29,
          21,
          25,
          24,
          27,
          31,
          29,
          24,
          28,
          21,
          18,
          24,
          28,
          28,
          32,
          22,
          26,
          29,
          28,
          32,
          36,
          21,
          22,
          26,
          26,
          30,
          34,
          25,
          24,
          24,
          28,
          32,
          36,
          25,
          41,
          43,
          27,
          29,
          23,
          25,
          27,
          17,
          28,
          35,
          22,
          24,
          21,
          25,
          27,
          29,
          28,
          18,
          26,
          23,
          27,
          23,
          21,
          25,
          24,
          26,
          24,
          20,
          24,
          24,
          28,
          18,
          27,
          30,
          22,
          26,
          28,
          23,
          32,
          20,
          24,
          32,
          29,
          33,
          31,
          35,
          27,
          30,
          34,
          34,
          22,
          28,
          20,
          24,
          28,
          32,
          44,
          28,
          32,
          26,
          21,
          25,
          29,
          24,
          28,
          32,
          36,
          22,
          20,
          28,
          24,
          51,
          22,
          26,
          30,
          34,
          29,
          32,
          18,
          22,
          26,
          30,
          25,
          29,
          33,
          37,
          24,
          25,
          19,
          25,
          23,
          19,
          31,
          27,
          31,
          35,
          28,
          27,
          19,
          23,
          19,
          24,
          24,
          22,
          21,
          24,
          28,
          33,
          26,
          24,
          32,
          18,
          22,
          26,
          30,
          17,
          21,
          25,
          26,
          21,
          22,
          22,
          21,
          24,
          25,
          28,
          32,
          36,
          44,
          19,
          40,
          44,
          18,
          24,
          23,
          18,
          30,
          17,
          19,
          23,
          31,
          23,
          35,
          43,
          29,
          33,
          23,
          27,
          31,
          25,
          34,
          23,
          27,
          35,
          23,
          23,
          27,
          20,
          22,
          25,
          29,
          23,
          23,
          20,
          30,
          31,
          25,
          29,
          20,
          24,
          28,
          21,
          26,
          22,
          16,
          24,
          24,
          28,
          25,
          34,
          21,
          25,
          22,
          26,
          21,
          26,
          30,
          28,
          23,
          22,
          19,
          15,
          20,
          29,
          32,
          21,
          28,
          40,
          24,
          32,
          36,
          44,
          48,
          27,
          31,
          24,
          23,
          28,
          20,
          24,
          25,
          27,
          26,
          24,
          24,
          28,
          17,
          21,
          32,
          34,
          38,
          28,
          32,
          25,
          22,
          26,
          30,
          24,
          19,
          23,
          25,
          21,
          19,
          23,
          26,
          20,
          28,
          35,
          68,
          32,
          36,
          23,
          33,
          24,
          22,
          17,
          20,
          22,
          26,
          28,
          19,
          22,
          22,
          25,
          28,
          32,
          24,
          23,
          21,
          25,
          37,
          19,
          23,
          19,
          16,
          18,
          22,
          30,
          28,
          32,
          28,
          32,
          37,
          24,
          31,
          31,
          29,
          33,
          31,
          30,
          24,
          23,
          37,
          25,
          29,
          23,
          27,
          38,
          21,
          25,
          39,
          29,
          34,
          24,
          18,
          23,
          26,
          30,
          29,
          20,
          24,
          26,
          25,
          25,
          27,
          23,
          27,
          20,
          27,
          31,
          18,
          28,
          21,
          25,
          22,
          18,
          22,
          34,
          46,
          54,
          20,
          24,
          28,
          21,
          25,
          29,
          22,
          30,
          34,
          29,
          27,
          31,
          38,
          13,
          25,
          25,
          29,
          26,
          19,
          21,
          25,
          37,
          41,
          45,
          25,
          29,
          21,
          26,
          21,
          27,
          18,
          22,
          26,
          22,
          22,
          24,
          28,
          32,
          22,
          24,
          28,
          32,
          36,
          35,
          39,
          19,
          31,
          35,
          22,
          22,
          26,
          26,
          17,
          22,
          25,
          21,
          19,
          23,
          25,
          29,
          28,
          20,
          20,
          24,
          38,
          32,
          18,
          22,
          30,
          16,
          20,
          24,
          23,
          22,
          26,
          24,
          20,
          24,
          28,
          32,
          28,
          21,
          29,
          22,
          25,
          29,
          23,
          24,
          22,
          26,
          27,
          34,
          38,
          24,
          26,
          30,
          25,
          28,
          21,
          22,
          23,
          28,
          25,
          39,
          43,
          29,
          24,
          17,
          19,
          22,
          23,
          33,
          33,
          42,
          33,
          21,
          25,
          29,
          30,
          34,
          17,
          27,
          26,
          30,
          27,
          24,
          28,
          32,
          36,
          24,
          27,
          19,
          27,
          26,
          26,
          30,
          24,
          18,
          22,
          26,
          30,
          34,
          38,
          40,
          25,
          25,
          19,
          24,
          24,
          20,
          24,
          23,
          27,
          25,
          33,
          37,
          24,
          23,
          27,
          23,
          27,
          31,
          20,
          26,
          30,
          17,
          24,
          26,
          22,
          18,
          29,
          33,
          41,
          49,
          22,
          30,
          25,
          18,
          22,
          26,
          23,
          31,
          35,
          22,
          18,
          24,
          28,
          23,
          31,
          22,
          26,
          26,
          22,
          26,
          30,
          26,
          24,
          28,
          32,
          27,
          27,
          19,
          23,
          22,
          27,
          25,
          28,
          21,
          25,
          29,
          19,
          23,
          27,
          19,
          23,
          27,
          20,
          25,
          28,
          32,
          23,
          49,
          20,
          23,
          26,
          25,
          22,
          18,
          22,
          26,
          30,
          34,
          38,
          42,
          23,
          27,
          41,
          24,
          27,
          17,
          20,
          21,
          30,
          30,
          35,
          27,
          25,
          29,
          24,
          28,
          27,
          29,
          19,
          22,
          24,
          25,
          33,
          20,
          28,
          32,
          19,
          27,
          36,
          29,
          33,
          25,
          25,
          25,
          27,
          44,
          45,
          25,
          27,
          25,
          23,
          31,
          28,
          22,
          26,
          30,
          22,
          26,
          20,
          24,
          40,
          17,
          20,
          28,
          35,
          39,
          18,
          22,
          26,
          27,
          14,
          18,
          22,
          26,
          30,
          28,
          18,
          26,
          19,
          23,
          22,
          21,
          21,
          25,
          30,
          19,
          25,
          25,
          29,
          22,
          21,
          25,
          24,
          28,
          28,
          31,
          33,
          27,
          31,
          35,
          39,
          22,
          21,
          24,
          32,
          23,
          19,
          23,
          19,
          27,
          24,
          28,
          24,
          23,
          24,
          28,
          21,
          25,
          30,
          17,
          23,
          27,
          21,
          18,
          21,
          21,
          25,
          19,
          21,
          25,
          33,
          24,
          21,
          20,
          24,
          17,
          21,
          29,
          28,
          28,
          25,
          25,
          17,
          23,
          27,
          27,
          21,
          25,
          23,
          31,
          24,
          28,
          26,
          32,
          22,
          26,
          20,
          24,
          32,
          36,
          34,
          38,
          43,
          24,
          28,
          32,
          18,
          22,
          25,
          46,
          28,
          25,
          22,
          26,
          30,
          34,
          38,
          42,
          27,
          25,
          29,
          24,
          38,
          46,
          20,
          23,
          27,
          22,
          30,
          18,
          23,
          30,
          22,
          26,
          21,
          24,
          36,
          40,
          17,
          22,
          25,
          28,
          21,
          27,
          31,
          28,
          32,
          22,
          25,
          36,
          24,
          28,
          22,
          25,
          29,
          18,
          22,
          26,
          23,
          25,
          33,
          37,
          17,
          20,
          21,
          25,
          29,
          25,
          27,
          22,
          26,
          23,
          27,
          24,
          17,
          28,
          18,
          17,
          65,
          23,
          27,
          50,
          28,
          22,
          26,
          21,
          25,
          29,
          28,
          26,
          23,
          27,
          31,
          17,
          18,
          26,
          30,
          19,
          23,
          26,
          31,
          26,
          31,
          24,
          23,
          22,
          19,
          23,
          23,
          27,
          31,
          35,
          22,
          27,
          22,
          28,
          32,
          18,
          21,
          22,
          26,
          19,
          25,
          24,
          32,
          38,
          25,
          29,
          22,
          25,
          22,
          43,
          24,
          20,
          25,
          25,
          40,
          29,
          20,
          30,
          26,
          30,
          19,
          23,
          20,
          22,
          20,
          36,
          21,
          20,
          22,
          22,
          17,
          20,
          24,
          29,
          69,
          24,
          18,
          22,
          29,
          33,
          22,
          23,
          19,
          25,
          25,
          19,
          22,
          21,
          25,
          48,
          20,
          25,
          33,
          27,
          23,
          24,
          19,
          26,
          19,
          23,
          20,
          24,
          28,
          28,
          39,
          43,
          48,
          52,
          21,
          29,
          24,
          26,
          22,
          15,
          23,
          22,
          26,
          22,
          18,
          22,
          23,
          23,
          27,
          23,
          23,
          27,
          27,
          17,
          19,
          23,
          22,
          24,
          22,
          34,
          24,
          23,
          26,
          32,
          28,
          23,
          27,
          31,
          35,
          24,
          29,
          37,
          41,
          45,
          49,
          22,
          21,
          25,
          29,
          24,
          28,
          21,
          25,
          27,
          26,
          23,
          21,
          23,
          27,
          30,
          36,
          29,
          22,
          26,
          25,
          29,
          33,
          26,
          29,
          22,
          26,
          20,
          25,
          29,
          21,
          25,
          22,
          28,
          26,
          30,
          22,
          26,
          22,
          37,
          39,
          43,
          24,
          17,
          21,
          34,
          38,
          19,
          23,
          27,
          19,
          22,
          19,
          31,
          35,
          22,
          28,
          25,
          29,
          21,
          23,
          27,
          31,
          26,
          19,
          28,
          28,
          38,
          23,
          41,
          28,
          32,
          36,
          22,
          22,
          24,
          28,
          28,
          27,
          28,
          22,
          26,
          30,
          25,
          24,
          29,
          24,
          28,
          30,
          26,
          23,
          25,
          29,
          33,
          18,
          22,
          20,
          32,
          44,
          17,
          21,
          23,
          30,
          24,
          28,
          30,
          25,
          21,
          25,
          23,
          25,
          29,
          33,
          37,
          41,
          28,
          19,
          20,
          26,
          17,
          23,
          27,
          31,
          33,
          20,
          21,
          25,
          29,
          33,
          24,
          20,
          24,
          28,
          32,
          26,
          25,
          23,
          27,
          26,
          17,
          21,
          24,
          20,
          24,
          24,
          24,
          28,
          23,
          28,
          30,
          22,
          19,
          17,
          20,
          24,
          28,
          20,
          26,
          25,
          23,
          24,
          23,
          27,
          26,
          19,
          23,
          27,
          31,
          32,
          29,
          34,
          25,
          28,
          26,
          34,
          46,
          50,
          54,
          58,
          34,
          23,
          27,
          35,
          21,
          26,
          35,
          23,
          49,
          25,
          30,
          26,
          30,
          21,
          21,
          26,
          18,
          22,
          45,
          33,
          20,
          24,
          30,
          22,
          18,
          21,
          25,
          28,
          21,
          25,
          18,
          26,
          24,
          28,
          24,
          22,
          21,
          25,
          25,
          28,
          32,
          36,
          29,
          27,
          31,
          35,
          22,
          26,
          28,
          27,
          21,
          25,
          20,
          24,
          28,
          32,
          23,
          28,
          25,
          30,
          19,
          26,
          24,
          21,
          25,
          25,
          24,
          28,
          26,
          22,
          26,
          26,
          25,
          23,
          24,
          28,
          32,
          38,
          20,
          24,
          16,
          32,
          36,
          24,
          28,
          19,
          23,
          24,
          28,
          36,
          40,
          16,
          17,
          31,
          25,
          19,
          30,
          42,
          23,
          28,
          34,
          38,
          22,
          29,
          23,
          26,
          30,
          34,
          39,
          21,
          25,
          22,
          23,
          23,
          31,
          25,
          29,
          33,
          31,
          35,
          39,
          21,
          25,
          19,
          23,
          25,
          28,
          18,
          28,
          24,
          24,
          27,
          22,
          20,
          28,
          24,
          18,
          28,
          32,
          27,
          27,
          22,
          27,
          31,
          35,
          23,
          31,
          27,
          26,
          22,
          17,
          20,
          57,
          27,
          26,
          21,
          19,
          28,
          33,
          21,
          26,
          21,
          22,
          24,
          28,
          28,
          19,
          20,
          24,
          24,
          20,
          33,
          21,
          25,
          29,
          18,
          21,
          25,
          23,
          22,
          26,
          30,
          30,
          32,
          25,
          22,
          31,
          20,
          24,
          28,
          32,
          39,
          27,
          18,
          31,
          19,
          25,
          28,
          25,
          34,
          38,
          25,
          22,
          26,
          30,
          32,
          25,
          29,
          33,
          29,
          25,
          23,
          33,
          25,
          33,
          37,
          42,
          21,
          25,
          25,
          35,
          21,
          25,
          29,
          28,
          27,
          33,
          19,
          18,
          20,
          24,
          24,
          28,
          38,
          42,
          46,
          50,
          54,
          58,
          62,
          25,
          33,
          24,
          28,
          29,
          31,
          21,
          16,
          32,
          23,
          28,
          19,
          23,
          27,
          29,
          18,
          26,
          30,
          36,
          26,
          19,
          25,
          26,
          32,
          37,
          40,
          22,
          27,
          26,
          21,
          25,
          23,
          26,
          20,
          27,
          31,
          19,
          19,
          23,
          22,
          26,
          34,
          43,
          27,
          23,
          21,
          21,
          18,
          22,
          24,
          21,
          24,
          28,
          48,
          25,
          26,
          22,
          22,
          27,
          26,
          30,
          21,
          20,
          24,
          19,
          21,
          29,
          22,
          22,
          29,
          22,
          39,
          43,
          21,
          19,
          21,
          31,
          23,
          27,
          23,
          23,
          25,
          28,
          32,
          37,
          31,
          21,
          20,
          24,
          28,
          36,
          32,
          21,
          22,
          23,
          18,
          20,
          24,
          22,
          35,
          39,
          47,
          30,
          21,
          13,
          23,
          38,
          20,
          27,
          23,
          26,
          28,
          25,
          26,
          30,
          22,
          19,
          23,
          22,
          50,
          32,
          34,
          43,
          28,
          40,
          24,
          24,
          23,
          27,
          31,
          35,
          22,
          26,
          21,
          28,
          26,
          36,
          20,
          28,
          22,
          25,
          26,
          21,
          25,
          29,
          18,
          22,
          26,
          26,
          28,
          29,
          34,
          27,
          24,
          20,
          24,
          23,
          27,
          31,
          15,
          18,
          25,
          23,
          18,
          28,
          25,
          24,
          26,
          25,
          27,
          22,
          22,
          21,
          24,
          29,
          23,
          27,
          21,
          25,
          31,
          32,
          26,
          24,
          18,
          25,
          28,
          29,
          17,
          26,
          27,
          31,
          16,
          20,
          23,
          26,
          29,
          37,
          27,
          21,
          25,
          29,
          24,
          26,
          30,
          34,
          27,
          31,
          71,
          19,
          25,
          24,
          23,
          23,
          27,
          35,
          26,
          34,
          25,
          29,
          22,
          26,
          31,
          19,
          21,
          30,
          24,
          25,
          29,
          33,
          29,
          22,
          24,
          31,
          26,
          36,
          42,
          20,
          24,
          28,
          32,
          23,
          24,
          28,
          25,
          29,
          29,
          27,
          32,
          19,
          33,
          40,
          44,
          27,
          22,
          29,
          38,
          25,
          27,
          22,
          26,
          28,
          25,
          29,
          27,
          21,
          25,
          19,
          23,
          28,
          26,
          24,
          28,
          24,
          28,
          32,
          22,
          18,
          22,
          26,
          25,
          21,
          25,
          23,
          22,
          26,
          30,
          24,
          28,
          31,
          35,
          39,
          23,
          27,
          31,
          35,
          31,
          40,
          21,
          20,
          24,
          23,
          27,
          37,
          22,
          38,
          18,
          26,
          29,
          21,
          34,
          38,
          37,
          41,
          45,
          20,
          25,
          32,
          36,
          29,
          26,
          25,
          29,
          33,
          28,
          23,
          40,
          26,
          24,
          28,
          23,
          30,
          24,
          23,
          27,
          31,
          35,
          39,
          26,
          21,
          16,
          24,
          28,
          26,
          48,
          52,
          30,
          22,
          28,
          28,
          19,
          41,
          23,
          20,
          24,
          28,
          32,
          36,
          32,
          23,
          27,
          21,
          21,
          26,
          25,
          23,
          25,
          29,
          26,
          22,
          24,
          28,
          22,
          49,
          21,
          25,
          16,
          18,
          22,
          24,
          23,
          24,
          28,
          32,
          36,
          40,
          28,
          21,
          33,
          32,
          25,
          17,
          27,
          35,
          32,
          20,
          22,
          21,
          22,
          21,
          25,
          28,
          32,
          24,
          16,
          20,
          31,
          35,
          25,
          24,
          28,
          28,
          32,
          37,
          40,
          45,
          24,
          23,
          25,
          29,
          33,
          27,
          29,
          24,
          28,
          27,
          16,
          32,
          24,
          26,
          31,
          35,
          30,
          26,
          17,
          39,
          46,
          21,
          25,
          34,
          26,
          30,
          34,
          19,
          39,
          43,
          22,
          29,
          30,
          34,
          25,
          29,
          21,
          27,
          19,
          33,
          37,
          22,
          28,
          20,
          33,
          23,
          22,
          26,
          30,
          28,
          32,
          20,
          22,
          26,
          30,
          25,
          21,
          25,
          29,
          16,
          20,
          26,
          19,
          23,
          29,
          37,
          41,
          31,
          17,
          18,
          23,
          26,
          23,
          27,
          26,
          31,
          27,
          23,
          23,
          22,
          28,
          21,
          23,
          23,
          27,
          25,
          23,
          35,
          24,
          28,
          33,
          19,
          23,
          22,
          28,
          20,
          24,
          24,
          28,
          20,
          22,
          22,
          33,
          18,
          23,
          22,
          26,
          16,
          17,
          24,
          20,
          24,
          28,
          36,
          25,
          18,
          20,
          20,
          29,
          33,
          37,
          41,
          23,
          29,
          22,
          26,
          22,
          25,
          48,
          21,
          22,
          18,
          22,
          24,
          28,
          23,
          28,
          32,
          37,
          40,
          32,
          36,
          39,
          19,
          27,
          31,
          26,
          23,
          24,
          16,
          20,
          24,
          28,
          32,
          21,
          26,
          24,
          16,
          29,
          23,
          33,
          22,
          26,
          23,
          28,
          27,
          31,
          23,
          27,
          21,
          26,
          42,
          24,
          31,
          32,
          53,
          57,
          24,
          27,
          31,
          24,
          22,
          22,
          23,
          33,
          27,
          31,
          35,
          23,
          25,
          27,
          29,
          26,
          31,
          34,
          26,
          27,
          27,
          28,
          25,
          31,
          21,
          19,
          33,
          22,
          25,
          29,
          34,
          38,
          22,
          29,
          19,
          23,
          27,
          23,
          27,
          31,
          20,
          24,
          26,
          22,
          22,
          30,
          25,
          34,
          26,
          37,
          23,
          56,
          36,
          23,
          27,
          27,
          31,
          33,
          25,
          16,
          20,
          27,
          35,
          39,
          25,
          43,
          22,
          26,
          18,
          21,
          25,
          29,
          23,
          28,
          26,
          24,
          22,
          26,
          18,
          22,
          26,
          20,
          27,
          30,
          20,
          24,
          21,
          32,
          26,
          24,
          22,
          28,
          23,
          22,
          30,
          21,
          36,
          40,
          19,
          20,
          24,
          29,
          20,
          24,
          28,
          32,
          18,
          28,
          52,
          28,
          18,
          25,
          31,
          31,
          44,
          24,
          44,
          32,
          27,
          20,
          32,
          22,
          26,
          25,
          30,
          23,
          27,
          31,
          28,
          32,
          33,
          22,
          26,
          26,
          25,
          20,
          25,
          29,
          37,
          28,
          26,
          30,
          27,
          25,
          20,
          29,
          23,
          27,
          25,
          24,
          25,
          29,
          34,
          38,
          19,
          25,
          22,
          20,
          28,
          24,
          25,
          33,
          22,
          26,
          22,
          43,
          20,
          16,
          27,
          31,
          22,
          40,
          30,
          34,
          24,
          28,
          29,
          27,
          30,
          26,
          25,
          19,
          31,
          25,
          38,
          22,
          26,
          22,
          26,
          51,
          59,
          22,
          26,
          23,
          27,
          24,
          28,
          22,
          26,
          22,
          27,
          31,
          35,
          27,
          19,
          23,
          42,
          46,
          30,
          22,
          26,
          30,
          20,
          44,
          26,
          30,
          36,
          26,
          48,
          24,
          18,
          33,
          23,
          41,
          38,
          23,
          26,
          27,
          35,
          22,
          23,
          25,
          22,
          24,
          28,
          23,
          22,
          23,
          59,
          16,
          23,
          25,
          29,
          33,
          23,
          28,
          27,
          21,
          21,
          21,
          27,
          26,
          33,
          24,
          46,
          22,
          23,
          23,
          25,
          25,
          29,
          20,
          23,
          27,
          24,
          28,
          17,
          21,
          18,
          22,
          26,
          30,
          20,
          27,
          31,
          25,
          24,
          25,
          29,
          18,
          24,
          26,
          30,
          34,
          19,
          23,
          27,
          18,
          22,
          26,
          30,
          27,
          25,
          29,
          24,
          28,
          17,
          18,
          17,
          21,
          23,
          27,
          26,
          20,
          27,
          31,
          20,
          28,
          36,
          26,
          27,
          31,
          33,
          27,
          27,
          25,
          29,
          22,
          24,
          28,
          32,
          23,
          27,
          32,
          26,
          38,
          20,
          28,
          32,
          25,
          21,
          27,
          31,
          35,
          29,
          27,
          18,
          22,
          24,
          34,
          24,
          21,
          20,
          24,
          27,
          23,
          27,
          26,
          20,
          24,
          28,
          20,
          26,
          22,
          26,
          23,
          23,
          27,
          27,
          22,
          26,
          24,
          28,
          29,
          27,
          40,
          56,
          22,
          24,
          28,
          32,
          25,
          29,
          16,
          20,
          24,
          23,
          22,
          26,
          23,
          22,
          24,
          29,
          33,
          42,
          21,
          25,
          23,
          28,
          23,
          19,
          22,
          21,
          47,
          25,
          30,
          34,
          22,
          25,
          17,
          25,
          29,
          26,
          19,
          20,
          32,
          25,
          23,
          27,
          31,
          20,
          62,
          25,
          25,
          29,
          22,
          20,
          25,
          21,
          23,
          30,
          22,
          18,
          22,
          30,
          44,
          24,
          28,
          32,
          36,
          40,
          23,
          21,
          23,
          25,
          21,
          42,
          50,
          54,
          22,
          25,
          22,
          25,
          29,
          28,
          44,
          48,
          52,
          37,
          41,
          45,
          28,
          32,
          40,
          20,
          18,
          22,
          27,
          29,
          26,
          30,
          22,
          17,
          21,
          25,
          21,
          25,
          36,
          40,
          21,
          25,
          29,
          23,
          17,
          29,
          33,
          31,
          20,
          28,
          24,
          19,
          28,
          33,
          36,
          27,
          30,
          23,
          28,
          19,
          21,
          25,
          43,
          47,
          28,
          20,
          24,
          22,
          24,
          22,
          26,
          19,
          22,
          23,
          27,
          27,
          35,
          39,
          23,
          21,
          26,
          20,
          35,
          24,
          30,
          34,
          21,
          20,
          21,
          19,
          23,
          23,
          22,
          26,
          29,
          17,
          21,
          25,
          24,
          28,
          25,
          29,
          27,
          23,
          31,
          29,
          25,
          27,
          28,
          25,
          36,
          40,
          25,
          22,
          29,
          30,
          21,
          25,
          24,
          22,
          20,
          26,
          31,
          27,
          24,
          28,
          14,
          18,
          34,
          29,
          38,
          24,
          24,
          28,
          24,
          35,
          22,
          32,
          42,
          24,
          28,
          39,
          28,
          25,
          30,
          26,
          30,
          34,
          26,
          30,
          24,
          25,
          29,
          18,
          27,
          20,
          30,
          25,
          20,
          27,
          22,
          40,
          37,
          20,
          16,
          20,
          26,
          30,
          22,
          24,
          19,
          23,
          24,
          38,
          32,
          23,
          31,
          24,
          29,
          21,
          25,
          24,
          30,
          29,
          26,
          22,
          21,
          25,
          29,
          33,
          23,
          23,
          22,
          27,
          26,
          30,
          38,
          28,
          32,
          23,
          28,
          21,
          25,
          29,
          33,
          26,
          37,
          22,
          28,
          23,
          35,
          24,
          32,
          36,
          34,
          21,
          20,
          25,
          25,
          29,
          33,
          18,
          21,
          25,
          24,
          26,
          34,
          38,
          42,
          29,
          33,
          26,
          30,
          24,
          28,
          20,
          24,
          28,
          21,
          25,
          25,
          29,
          21,
          21,
          25,
          20,
          24,
          28,
          32,
          36,
          24,
          22,
          24,
          28,
          28,
          26,
          19,
          23,
          27,
          19,
          25,
          19,
          21,
          23,
          27,
          25,
          23,
          26,
          30,
          34,
          29,
          37,
          22,
          19,
          19,
          24,
          18,
          22,
          25,
          29,
          22,
          18,
          22,
          18,
          22,
          20,
          24,
          28,
          25,
          25,
          23,
          26,
          27,
          31,
          19,
          23,
          27,
          31,
          22,
          27,
          32,
          23,
          23,
          27,
          30,
          34,
          27,
          18,
          22,
          17,
          25,
          32,
          23,
          28,
          23,
          22,
          26,
          18,
          24,
          23,
          25,
          34,
          25,
          47,
          34,
          25,
          29,
          33,
          23,
          26,
          30,
          40,
          30,
          45,
          27,
          18,
          19,
          23,
          25,
          29,
          33,
          23,
          20,
          24,
          27,
          35,
          39,
          29,
          30,
          43,
          38,
          17,
          24,
          21,
          29,
          25,
          26,
          20,
          26,
          32,
          20,
          41,
          18,
          22,
          21,
          25,
          23,
          27,
          31,
          35,
          25,
          25,
          28,
          25,
          24,
          25,
          20,
          28,
          21,
          17,
          21,
          20,
          31,
          36,
          19,
          14,
          18,
          22,
          18,
          23,
          27,
          29,
          21,
          29,
          33,
          37,
          24,
          20,
          23,
          25,
          26,
          30,
          32,
          19,
          23,
          20,
          24,
          20,
          15,
          19,
          23,
          22,
          21,
          22,
          24,
          28,
          25,
          22,
          35,
          25,
          28,
          21,
          28,
          28,
          33,
          24,
          28,
          20,
          22,
          26,
          25,
          22,
          30,
          34,
          38,
          21,
          25,
          23,
          29,
          29,
          33,
          22,
          26,
          27,
          18,
          22,
          26,
          24,
          25,
          29,
          23,
          27,
          19,
          34,
          38,
          23,
          23,
          19,
          23,
          28,
          27,
          26,
          29,
          20,
          22,
          26,
          23,
          20,
          25,
          29,
          24,
          44,
          23,
          20,
          42,
          26,
          22,
          20,
          21,
          27,
          17,
          21,
          29,
          33,
          24,
          23,
          16,
          27,
          24,
          26,
          34,
          23,
          24,
          31,
          22,
          66,
          27,
          23,
          27,
          24,
          28,
          32,
          27,
          21,
          26,
          25,
          29,
          33,
          43,
          47,
          24,
          25,
          24,
          20,
          24,
          28,
          57,
          22,
          21,
          21,
          25,
          29,
          41,
          36,
          34,
          23,
          21,
          22,
          25,
          27,
          30,
          20,
          39,
          20,
          36,
          23,
          20,
          24,
          21,
          33,
          27,
          23,
          29,
          21,
          25,
          23,
          21,
          25,
          21,
          22,
          23,
          27,
          31,
          22,
          36,
          33,
          60,
          64,
          72,
          26,
          30,
          34,
          33,
          23,
          27,
          22,
          22,
          27,
          25,
          33,
          35,
          39,
          32,
          24,
          27,
          23,
          35,
          39,
          44,
          23,
          27,
          31,
          21,
          26,
          23,
          27,
          31,
          22,
          18,
          26,
          34,
          25,
          29,
          33,
          37,
          41,
          45,
          49,
          15,
          23,
          27,
          23,
          19,
          50,
          26,
          24,
          32,
          36,
          40,
          44,
          25,
          28,
          17,
          21,
          25,
          25,
          24,
          29,
          29,
          22,
          22,
          27,
          48,
          17,
          24,
          20,
          24,
          28,
          32,
          34,
          42,
          46,
          50,
          54,
          23,
          21,
          20,
          24,
          20,
          24,
          20,
          24,
          21,
          24,
          28,
          32,
          33,
          30,
          22,
          34,
          24,
          28,
          23,
          22,
          28,
          25
         ],
         "xaxis": "x",
         "yaxis": "y"
        }
       ],
       "layout": {
        "barmode": "relative",
        "legend": {
         "tracegroupgap": 0
        },
        "template": {
         "data": {
          "bar": [
           {
            "error_x": {
             "color": "#2a3f5f"
            },
            "error_y": {
             "color": "#2a3f5f"
            },
            "marker": {
             "line": {
              "color": "#E5ECF6",
              "width": 0.5
             },
             "pattern": {
              "fillmode": "overlay",
              "size": 10,
              "solidity": 0.2
             }
            },
            "type": "bar"
           }
          ],
          "barpolar": [
           {
            "marker": {
             "line": {
              "color": "#E5ECF6",
              "width": 0.5
             },
             "pattern": {
              "fillmode": "overlay",
              "size": 10,
              "solidity": 0.2
             }
            },
            "type": "barpolar"
           }
          ],
          "carpet": [
           {
            "aaxis": {
             "endlinecolor": "#2a3f5f",
             "gridcolor": "white",
             "linecolor": "white",
             "minorgridcolor": "white",
             "startlinecolor": "#2a3f5f"
            },
            "baxis": {
             "endlinecolor": "#2a3f5f",
             "gridcolor": "white",
             "linecolor": "white",
             "minorgridcolor": "white",
             "startlinecolor": "#2a3f5f"
            },
            "type": "carpet"
           }
          ],
          "choropleth": [
           {
            "colorbar": {
             "outlinewidth": 0,
             "ticks": ""
            },
            "type": "choropleth"
           }
          ],
          "contour": [
           {
            "colorbar": {
             "outlinewidth": 0,
             "ticks": ""
            },
            "colorscale": [
             [
              0,
              "#0d0887"
             ],
             [
              0.1111111111111111,
              "#46039f"
             ],
             [
              0.2222222222222222,
              "#7201a8"
             ],
             [
              0.3333333333333333,
              "#9c179e"
             ],
             [
              0.4444444444444444,
              "#bd3786"
             ],
             [
              0.5555555555555556,
              "#d8576b"
             ],
             [
              0.6666666666666666,
              "#ed7953"
             ],
             [
              0.7777777777777778,
              "#fb9f3a"
             ],
             [
              0.8888888888888888,
              "#fdca26"
             ],
             [
              1,
              "#f0f921"
             ]
            ],
            "type": "contour"
           }
          ],
          "contourcarpet": [
           {
            "colorbar": {
             "outlinewidth": 0,
             "ticks": ""
            },
            "type": "contourcarpet"
           }
          ],
          "heatmap": [
           {
            "colorbar": {
             "outlinewidth": 0,
             "ticks": ""
            },
            "colorscale": [
             [
              0,
              "#0d0887"
             ],
             [
              0.1111111111111111,
              "#46039f"
             ],
             [
              0.2222222222222222,
              "#7201a8"
             ],
             [
              0.3333333333333333,
              "#9c179e"
             ],
             [
              0.4444444444444444,
              "#bd3786"
             ],
             [
              0.5555555555555556,
              "#d8576b"
             ],
             [
              0.6666666666666666,
              "#ed7953"
             ],
             [
              0.7777777777777778,
              "#fb9f3a"
             ],
             [
              0.8888888888888888,
              "#fdca26"
             ],
             [
              1,
              "#f0f921"
             ]
            ],
            "type": "heatmap"
           }
          ],
          "heatmapgl": [
           {
            "colorbar": {
             "outlinewidth": 0,
             "ticks": ""
            },
            "colorscale": [
             [
              0,
              "#0d0887"
             ],
             [
              0.1111111111111111,
              "#46039f"
             ],
             [
              0.2222222222222222,
              "#7201a8"
             ],
             [
              0.3333333333333333,
              "#9c179e"
             ],
             [
              0.4444444444444444,
              "#bd3786"
             ],
             [
              0.5555555555555556,
              "#d8576b"
             ],
             [
              0.6666666666666666,
              "#ed7953"
             ],
             [
              0.7777777777777778,
              "#fb9f3a"
             ],
             [
              0.8888888888888888,
              "#fdca26"
             ],
             [
              1,
              "#f0f921"
             ]
            ],
            "type": "heatmapgl"
           }
          ],
          "histogram": [
           {
            "marker": {
             "pattern": {
              "fillmode": "overlay",
              "size": 10,
              "solidity": 0.2
             }
            },
            "type": "histogram"
           }
          ],
          "histogram2d": [
           {
            "colorbar": {
             "outlinewidth": 0,
             "ticks": ""
            },
            "colorscale": [
             [
              0,
              "#0d0887"
             ],
             [
              0.1111111111111111,
              "#46039f"
             ],
             [
              0.2222222222222222,
              "#7201a8"
             ],
             [
              0.3333333333333333,
              "#9c179e"
             ],
             [
              0.4444444444444444,
              "#bd3786"
             ],
             [
              0.5555555555555556,
              "#d8576b"
             ],
             [
              0.6666666666666666,
              "#ed7953"
             ],
             [
              0.7777777777777778,
              "#fb9f3a"
             ],
             [
              0.8888888888888888,
              "#fdca26"
             ],
             [
              1,
              "#f0f921"
             ]
            ],
            "type": "histogram2d"
           }
          ],
          "histogram2dcontour": [
           {
            "colorbar": {
             "outlinewidth": 0,
             "ticks": ""
            },
            "colorscale": [
             [
              0,
              "#0d0887"
             ],
             [
              0.1111111111111111,
              "#46039f"
             ],
             [
              0.2222222222222222,
              "#7201a8"
             ],
             [
              0.3333333333333333,
              "#9c179e"
             ],
             [
              0.4444444444444444,
              "#bd3786"
             ],
             [
              0.5555555555555556,
              "#d8576b"
             ],
             [
              0.6666666666666666,
              "#ed7953"
             ],
             [
              0.7777777777777778,
              "#fb9f3a"
             ],
             [
              0.8888888888888888,
              "#fdca26"
             ],
             [
              1,
              "#f0f921"
             ]
            ],
            "type": "histogram2dcontour"
           }
          ],
          "mesh3d": [
           {
            "colorbar": {
             "outlinewidth": 0,
             "ticks": ""
            },
            "type": "mesh3d"
           }
          ],
          "parcoords": [
           {
            "line": {
             "colorbar": {
              "outlinewidth": 0,
              "ticks": ""
             }
            },
            "type": "parcoords"
           }
          ],
          "pie": [
           {
            "automargin": true,
            "type": "pie"
           }
          ],
          "scatter": [
           {
            "fillpattern": {
             "fillmode": "overlay",
             "size": 10,
             "solidity": 0.2
            },
            "type": "scatter"
           }
          ],
          "scatter3d": [
           {
            "line": {
             "colorbar": {
              "outlinewidth": 0,
              "ticks": ""
             }
            },
            "marker": {
             "colorbar": {
              "outlinewidth": 0,
              "ticks": ""
             }
            },
            "type": "scatter3d"
           }
          ],
          "scattercarpet": [
           {
            "marker": {
             "colorbar": {
              "outlinewidth": 0,
              "ticks": ""
             }
            },
            "type": "scattercarpet"
           }
          ],
          "scattergeo": [
           {
            "marker": {
             "colorbar": {
              "outlinewidth": 0,
              "ticks": ""
             }
            },
            "type": "scattergeo"
           }
          ],
          "scattergl": [
           {
            "marker": {
             "colorbar": {
              "outlinewidth": 0,
              "ticks": ""
             }
            },
            "type": "scattergl"
           }
          ],
          "scattermapbox": [
           {
            "marker": {
             "colorbar": {
              "outlinewidth": 0,
              "ticks": ""
             }
            },
            "type": "scattermapbox"
           }
          ],
          "scatterpolar": [
           {
            "marker": {
             "colorbar": {
              "outlinewidth": 0,
              "ticks": ""
             }
            },
            "type": "scatterpolar"
           }
          ],
          "scatterpolargl": [
           {
            "marker": {
             "colorbar": {
              "outlinewidth": 0,
              "ticks": ""
             }
            },
            "type": "scatterpolargl"
           }
          ],
          "scatterternary": [
           {
            "marker": {
             "colorbar": {
              "outlinewidth": 0,
              "ticks": ""
             }
            },
            "type": "scatterternary"
           }
          ],
          "surface": [
           {
            "colorbar": {
             "outlinewidth": 0,
             "ticks": ""
            },
            "colorscale": [
             [
              0,
              "#0d0887"
             ],
             [
              0.1111111111111111,
              "#46039f"
             ],
             [
              0.2222222222222222,
              "#7201a8"
             ],
             [
              0.3333333333333333,
              "#9c179e"
             ],
             [
              0.4444444444444444,
              "#bd3786"
             ],
             [
              0.5555555555555556,
              "#d8576b"
             ],
             [
              0.6666666666666666,
              "#ed7953"
             ],
             [
              0.7777777777777778,
              "#fb9f3a"
             ],
             [
              0.8888888888888888,
              "#fdca26"
             ],
             [
              1,
              "#f0f921"
             ]
            ],
            "type": "surface"
           }
          ],
          "table": [
           {
            "cells": {
             "fill": {
              "color": "#EBF0F8"
             },
             "line": {
              "color": "white"
             }
            },
            "header": {
             "fill": {
              "color": "#C8D4E3"
             },
             "line": {
              "color": "white"
             }
            },
            "type": "table"
           }
          ]
         },
         "layout": {
          "annotationdefaults": {
           "arrowcolor": "#2a3f5f",
           "arrowhead": 0,
           "arrowwidth": 1
          },
          "autotypenumbers": "strict",
          "coloraxis": {
           "colorbar": {
            "outlinewidth": 0,
            "ticks": ""
           }
          },
          "colorscale": {
           "diverging": [
            [
             0,
             "#8e0152"
            ],
            [
             0.1,
             "#c51b7d"
            ],
            [
             0.2,
             "#de77ae"
            ],
            [
             0.3,
             "#f1b6da"
            ],
            [
             0.4,
             "#fde0ef"
            ],
            [
             0.5,
             "#f7f7f7"
            ],
            [
             0.6,
             "#e6f5d0"
            ],
            [
             0.7,
             "#b8e186"
            ],
            [
             0.8,
             "#7fbc41"
            ],
            [
             0.9,
             "#4d9221"
            ],
            [
             1,
             "#276419"
            ]
           ],
           "sequential": [
            [
             0,
             "#0d0887"
            ],
            [
             0.1111111111111111,
             "#46039f"
            ],
            [
             0.2222222222222222,
             "#7201a8"
            ],
            [
             0.3333333333333333,
             "#9c179e"
            ],
            [
             0.4444444444444444,
             "#bd3786"
            ],
            [
             0.5555555555555556,
             "#d8576b"
            ],
            [
             0.6666666666666666,
             "#ed7953"
            ],
            [
             0.7777777777777778,
             "#fb9f3a"
            ],
            [
             0.8888888888888888,
             "#fdca26"
            ],
            [
             1,
             "#f0f921"
            ]
           ],
           "sequentialminus": [
            [
             0,
             "#0d0887"
            ],
            [
             0.1111111111111111,
             "#46039f"
            ],
            [
             0.2222222222222222,
             "#7201a8"
            ],
            [
             0.3333333333333333,
             "#9c179e"
            ],
            [
             0.4444444444444444,
             "#bd3786"
            ],
            [
             0.5555555555555556,
             "#d8576b"
            ],
            [
             0.6666666666666666,
             "#ed7953"
            ],
            [
             0.7777777777777778,
             "#fb9f3a"
            ],
            [
             0.8888888888888888,
             "#fdca26"
            ],
            [
             1,
             "#f0f921"
            ]
           ]
          },
          "colorway": [
           "#636efa",
           "#EF553B",
           "#00cc96",
           "#ab63fa",
           "#FFA15A",
           "#19d3f3",
           "#FF6692",
           "#B6E880",
           "#FF97FF",
           "#FECB52"
          ],
          "font": {
           "color": "#2a3f5f"
          },
          "geo": {
           "bgcolor": "white",
           "lakecolor": "white",
           "landcolor": "#E5ECF6",
           "showlakes": true,
           "showland": true,
           "subunitcolor": "white"
          },
          "hoverlabel": {
           "align": "left"
          },
          "hovermode": "closest",
          "mapbox": {
           "style": "light"
          },
          "paper_bgcolor": "white",
          "plot_bgcolor": "#E5ECF6",
          "polar": {
           "angularaxis": {
            "gridcolor": "white",
            "linecolor": "white",
            "ticks": ""
           },
           "bgcolor": "#E5ECF6",
           "radialaxis": {
            "gridcolor": "white",
            "linecolor": "white",
            "ticks": ""
           }
          },
          "scene": {
           "xaxis": {
            "backgroundcolor": "#E5ECF6",
            "gridcolor": "white",
            "gridwidth": 2,
            "linecolor": "white",
            "showbackground": true,
            "ticks": "",
            "zerolinecolor": "white"
           },
           "yaxis": {
            "backgroundcolor": "#E5ECF6",
            "gridcolor": "white",
            "gridwidth": 2,
            "linecolor": "white",
            "showbackground": true,
            "ticks": "",
            "zerolinecolor": "white"
           },
           "zaxis": {
            "backgroundcolor": "#E5ECF6",
            "gridcolor": "white",
            "gridwidth": 2,
            "linecolor": "white",
            "showbackground": true,
            "ticks": "",
            "zerolinecolor": "white"
           }
          },
          "shapedefaults": {
           "line": {
            "color": "#2a3f5f"
           }
          },
          "ternary": {
           "aaxis": {
            "gridcolor": "white",
            "linecolor": "white",
            "ticks": ""
           },
           "baxis": {
            "gridcolor": "white",
            "linecolor": "white",
            "ticks": ""
           },
           "bgcolor": "#E5ECF6",
           "caxis": {
            "gridcolor": "white",
            "linecolor": "white",
            "ticks": ""
           }
          },
          "title": {
           "x": 0.05
          },
          "xaxis": {
           "automargin": true,
           "gridcolor": "white",
           "linecolor": "white",
           "ticks": "",
           "title": {
            "standoff": 15
           },
           "zerolinecolor": "white",
           "zerolinewidth": 2
          },
          "yaxis": {
           "automargin": true,
           "gridcolor": "white",
           "linecolor": "white",
           "ticks": "",
           "title": {
            "standoff": 15
           },
           "zerolinecolor": "white",
           "zerolinewidth": 2
          }
         }
        },
        "title": {
         "text": "OS age distribution in Sweden"
        },
        "xaxis": {
         "anchor": "y",
         "domain": [
          0,
          1
         ],
         "title": {
          "text": "Age"
         }
        },
        "yaxis": {
         "anchor": "x",
         "domain": [
          0,
          1
         ],
         "title": {
          "text": "Number"
         }
        }
       }
      }
     },
     "metadata": {},
     "output_type": "display_data"
    }
   ],
   "source": [
    "# histogram över åldrar\n",
    "# gets swedish participants\n",
    "df_swedish_participants = df_data.loc[df_data[\"Team\"] == \"Sweden\"]\n",
    "\n",
    "# group the data where name is the same and creates a new dataframe with age and name.\n",
    "df_age = df_swedish_participants[[\"Age\", \"Name\"]].groupby([\"Name\", \"Age\"]).count().reset_index()\n",
    "\n",
    "# Plots the histogram \n",
    "fig = px.histogram(df_age, x= \"Age\", title=\"OS age distribution in Sweden\")\n",
    "fig.update_layout(\n",
    "        yaxis_title=\"Number\"\n",
    "    )\n",
    "fig.show()"
   ]
  },
  {
   "cell_type": "code",
   "execution_count": 6,
   "metadata": {},
   "outputs": [
    {
     "data": {
      "application/vnd.plotly.v1+json": {
       "config": {
        "plotlyServerURL": "https://plot.ly"
       },
       "data": [
        {
         "domain": {
          "x": [
           0,
           1
          ],
          "y": [
           0,
           1
          ]
         },
         "hovertemplate": "index=%{label}<br>Sex=%{value}<extra></extra>",
         "labels": [
          "F",
          "M"
         ],
         "legendgroup": "",
         "name": "",
         "showlegend": true,
         "type": "pie",
         "values": [
          747,
          2866
         ]
        }
       ],
       "layout": {
        "legend": {
         "tracegroupgap": 0
        },
        "margin": {
         "t": 60
        },
        "template": {
         "data": {
          "bar": [
           {
            "error_x": {
             "color": "#2a3f5f"
            },
            "error_y": {
             "color": "#2a3f5f"
            },
            "marker": {
             "line": {
              "color": "#E5ECF6",
              "width": 0.5
             },
             "pattern": {
              "fillmode": "overlay",
              "size": 10,
              "solidity": 0.2
             }
            },
            "type": "bar"
           }
          ],
          "barpolar": [
           {
            "marker": {
             "line": {
              "color": "#E5ECF6",
              "width": 0.5
             },
             "pattern": {
              "fillmode": "overlay",
              "size": 10,
              "solidity": 0.2
             }
            },
            "type": "barpolar"
           }
          ],
          "carpet": [
           {
            "aaxis": {
             "endlinecolor": "#2a3f5f",
             "gridcolor": "white",
             "linecolor": "white",
             "minorgridcolor": "white",
             "startlinecolor": "#2a3f5f"
            },
            "baxis": {
             "endlinecolor": "#2a3f5f",
             "gridcolor": "white",
             "linecolor": "white",
             "minorgridcolor": "white",
             "startlinecolor": "#2a3f5f"
            },
            "type": "carpet"
           }
          ],
          "choropleth": [
           {
            "colorbar": {
             "outlinewidth": 0,
             "ticks": ""
            },
            "type": "choropleth"
           }
          ],
          "contour": [
           {
            "colorbar": {
             "outlinewidth": 0,
             "ticks": ""
            },
            "colorscale": [
             [
              0,
              "#0d0887"
             ],
             [
              0.1111111111111111,
              "#46039f"
             ],
             [
              0.2222222222222222,
              "#7201a8"
             ],
             [
              0.3333333333333333,
              "#9c179e"
             ],
             [
              0.4444444444444444,
              "#bd3786"
             ],
             [
              0.5555555555555556,
              "#d8576b"
             ],
             [
              0.6666666666666666,
              "#ed7953"
             ],
             [
              0.7777777777777778,
              "#fb9f3a"
             ],
             [
              0.8888888888888888,
              "#fdca26"
             ],
             [
              1,
              "#f0f921"
             ]
            ],
            "type": "contour"
           }
          ],
          "contourcarpet": [
           {
            "colorbar": {
             "outlinewidth": 0,
             "ticks": ""
            },
            "type": "contourcarpet"
           }
          ],
          "heatmap": [
           {
            "colorbar": {
             "outlinewidth": 0,
             "ticks": ""
            },
            "colorscale": [
             [
              0,
              "#0d0887"
             ],
             [
              0.1111111111111111,
              "#46039f"
             ],
             [
              0.2222222222222222,
              "#7201a8"
             ],
             [
              0.3333333333333333,
              "#9c179e"
             ],
             [
              0.4444444444444444,
              "#bd3786"
             ],
             [
              0.5555555555555556,
              "#d8576b"
             ],
             [
              0.6666666666666666,
              "#ed7953"
             ],
             [
              0.7777777777777778,
              "#fb9f3a"
             ],
             [
              0.8888888888888888,
              "#fdca26"
             ],
             [
              1,
              "#f0f921"
             ]
            ],
            "type": "heatmap"
           }
          ],
          "heatmapgl": [
           {
            "colorbar": {
             "outlinewidth": 0,
             "ticks": ""
            },
            "colorscale": [
             [
              0,
              "#0d0887"
             ],
             [
              0.1111111111111111,
              "#46039f"
             ],
             [
              0.2222222222222222,
              "#7201a8"
             ],
             [
              0.3333333333333333,
              "#9c179e"
             ],
             [
              0.4444444444444444,
              "#bd3786"
             ],
             [
              0.5555555555555556,
              "#d8576b"
             ],
             [
              0.6666666666666666,
              "#ed7953"
             ],
             [
              0.7777777777777778,
              "#fb9f3a"
             ],
             [
              0.8888888888888888,
              "#fdca26"
             ],
             [
              1,
              "#f0f921"
             ]
            ],
            "type": "heatmapgl"
           }
          ],
          "histogram": [
           {
            "marker": {
             "pattern": {
              "fillmode": "overlay",
              "size": 10,
              "solidity": 0.2
             }
            },
            "type": "histogram"
           }
          ],
          "histogram2d": [
           {
            "colorbar": {
             "outlinewidth": 0,
             "ticks": ""
            },
            "colorscale": [
             [
              0,
              "#0d0887"
             ],
             [
              0.1111111111111111,
              "#46039f"
             ],
             [
              0.2222222222222222,
              "#7201a8"
             ],
             [
              0.3333333333333333,
              "#9c179e"
             ],
             [
              0.4444444444444444,
              "#bd3786"
             ],
             [
              0.5555555555555556,
              "#d8576b"
             ],
             [
              0.6666666666666666,
              "#ed7953"
             ],
             [
              0.7777777777777778,
              "#fb9f3a"
             ],
             [
              0.8888888888888888,
              "#fdca26"
             ],
             [
              1,
              "#f0f921"
             ]
            ],
            "type": "histogram2d"
           }
          ],
          "histogram2dcontour": [
           {
            "colorbar": {
             "outlinewidth": 0,
             "ticks": ""
            },
            "colorscale": [
             [
              0,
              "#0d0887"
             ],
             [
              0.1111111111111111,
              "#46039f"
             ],
             [
              0.2222222222222222,
              "#7201a8"
             ],
             [
              0.3333333333333333,
              "#9c179e"
             ],
             [
              0.4444444444444444,
              "#bd3786"
             ],
             [
              0.5555555555555556,
              "#d8576b"
             ],
             [
              0.6666666666666666,
              "#ed7953"
             ],
             [
              0.7777777777777778,
              "#fb9f3a"
             ],
             [
              0.8888888888888888,
              "#fdca26"
             ],
             [
              1,
              "#f0f921"
             ]
            ],
            "type": "histogram2dcontour"
           }
          ],
          "mesh3d": [
           {
            "colorbar": {
             "outlinewidth": 0,
             "ticks": ""
            },
            "type": "mesh3d"
           }
          ],
          "parcoords": [
           {
            "line": {
             "colorbar": {
              "outlinewidth": 0,
              "ticks": ""
             }
            },
            "type": "parcoords"
           }
          ],
          "pie": [
           {
            "automargin": true,
            "type": "pie"
           }
          ],
          "scatter": [
           {
            "fillpattern": {
             "fillmode": "overlay",
             "size": 10,
             "solidity": 0.2
            },
            "type": "scatter"
           }
          ],
          "scatter3d": [
           {
            "line": {
             "colorbar": {
              "outlinewidth": 0,
              "ticks": ""
             }
            },
            "marker": {
             "colorbar": {
              "outlinewidth": 0,
              "ticks": ""
             }
            },
            "type": "scatter3d"
           }
          ],
          "scattercarpet": [
           {
            "marker": {
             "colorbar": {
              "outlinewidth": 0,
              "ticks": ""
             }
            },
            "type": "scattercarpet"
           }
          ],
          "scattergeo": [
           {
            "marker": {
             "colorbar": {
              "outlinewidth": 0,
              "ticks": ""
             }
            },
            "type": "scattergeo"
           }
          ],
          "scattergl": [
           {
            "marker": {
             "colorbar": {
              "outlinewidth": 0,
              "ticks": ""
             }
            },
            "type": "scattergl"
           }
          ],
          "scattermapbox": [
           {
            "marker": {
             "colorbar": {
              "outlinewidth": 0,
              "ticks": ""
             }
            },
            "type": "scattermapbox"
           }
          ],
          "scatterpolar": [
           {
            "marker": {
             "colorbar": {
              "outlinewidth": 0,
              "ticks": ""
             }
            },
            "type": "scatterpolar"
           }
          ],
          "scatterpolargl": [
           {
            "marker": {
             "colorbar": {
              "outlinewidth": 0,
              "ticks": ""
             }
            },
            "type": "scatterpolargl"
           }
          ],
          "scatterternary": [
           {
            "marker": {
             "colorbar": {
              "outlinewidth": 0,
              "ticks": ""
             }
            },
            "type": "scatterternary"
           }
          ],
          "surface": [
           {
            "colorbar": {
             "outlinewidth": 0,
             "ticks": ""
            },
            "colorscale": [
             [
              0,
              "#0d0887"
             ],
             [
              0.1111111111111111,
              "#46039f"
             ],
             [
              0.2222222222222222,
              "#7201a8"
             ],
             [
              0.3333333333333333,
              "#9c179e"
             ],
             [
              0.4444444444444444,
              "#bd3786"
             ],
             [
              0.5555555555555556,
              "#d8576b"
             ],
             [
              0.6666666666666666,
              "#ed7953"
             ],
             [
              0.7777777777777778,
              "#fb9f3a"
             ],
             [
              0.8888888888888888,
              "#fdca26"
             ],
             [
              1,
              "#f0f921"
             ]
            ],
            "type": "surface"
           }
          ],
          "table": [
           {
            "cells": {
             "fill": {
              "color": "#EBF0F8"
             },
             "line": {
              "color": "white"
             }
            },
            "header": {
             "fill": {
              "color": "#C8D4E3"
             },
             "line": {
              "color": "white"
             }
            },
            "type": "table"
           }
          ]
         },
         "layout": {
          "annotationdefaults": {
           "arrowcolor": "#2a3f5f",
           "arrowhead": 0,
           "arrowwidth": 1
          },
          "autotypenumbers": "strict",
          "coloraxis": {
           "colorbar": {
            "outlinewidth": 0,
            "ticks": ""
           }
          },
          "colorscale": {
           "diverging": [
            [
             0,
             "#8e0152"
            ],
            [
             0.1,
             "#c51b7d"
            ],
            [
             0.2,
             "#de77ae"
            ],
            [
             0.3,
             "#f1b6da"
            ],
            [
             0.4,
             "#fde0ef"
            ],
            [
             0.5,
             "#f7f7f7"
            ],
            [
             0.6,
             "#e6f5d0"
            ],
            [
             0.7,
             "#b8e186"
            ],
            [
             0.8,
             "#7fbc41"
            ],
            [
             0.9,
             "#4d9221"
            ],
            [
             1,
             "#276419"
            ]
           ],
           "sequential": [
            [
             0,
             "#0d0887"
            ],
            [
             0.1111111111111111,
             "#46039f"
            ],
            [
             0.2222222222222222,
             "#7201a8"
            ],
            [
             0.3333333333333333,
             "#9c179e"
            ],
            [
             0.4444444444444444,
             "#bd3786"
            ],
            [
             0.5555555555555556,
             "#d8576b"
            ],
            [
             0.6666666666666666,
             "#ed7953"
            ],
            [
             0.7777777777777778,
             "#fb9f3a"
            ],
            [
             0.8888888888888888,
             "#fdca26"
            ],
            [
             1,
             "#f0f921"
            ]
           ],
           "sequentialminus": [
            [
             0,
             "#0d0887"
            ],
            [
             0.1111111111111111,
             "#46039f"
            ],
            [
             0.2222222222222222,
             "#7201a8"
            ],
            [
             0.3333333333333333,
             "#9c179e"
            ],
            [
             0.4444444444444444,
             "#bd3786"
            ],
            [
             0.5555555555555556,
             "#d8576b"
            ],
            [
             0.6666666666666666,
             "#ed7953"
            ],
            [
             0.7777777777777778,
             "#fb9f3a"
            ],
            [
             0.8888888888888888,
             "#fdca26"
            ],
            [
             1,
             "#f0f921"
            ]
           ]
          },
          "colorway": [
           "#636efa",
           "#EF553B",
           "#00cc96",
           "#ab63fa",
           "#FFA15A",
           "#19d3f3",
           "#FF6692",
           "#B6E880",
           "#FF97FF",
           "#FECB52"
          ],
          "font": {
           "color": "#2a3f5f"
          },
          "geo": {
           "bgcolor": "white",
           "lakecolor": "white",
           "landcolor": "#E5ECF6",
           "showlakes": true,
           "showland": true,
           "subunitcolor": "white"
          },
          "hoverlabel": {
           "align": "left"
          },
          "hovermode": "closest",
          "mapbox": {
           "style": "light"
          },
          "paper_bgcolor": "white",
          "plot_bgcolor": "#E5ECF6",
          "polar": {
           "angularaxis": {
            "gridcolor": "white",
            "linecolor": "white",
            "ticks": ""
           },
           "bgcolor": "#E5ECF6",
           "radialaxis": {
            "gridcolor": "white",
            "linecolor": "white",
            "ticks": ""
           }
          },
          "scene": {
           "xaxis": {
            "backgroundcolor": "#E5ECF6",
            "gridcolor": "white",
            "gridwidth": 2,
            "linecolor": "white",
            "showbackground": true,
            "ticks": "",
            "zerolinecolor": "white"
           },
           "yaxis": {
            "backgroundcolor": "#E5ECF6",
            "gridcolor": "white",
            "gridwidth": 2,
            "linecolor": "white",
            "showbackground": true,
            "ticks": "",
            "zerolinecolor": "white"
           },
           "zaxis": {
            "backgroundcolor": "#E5ECF6",
            "gridcolor": "white",
            "gridwidth": 2,
            "linecolor": "white",
            "showbackground": true,
            "ticks": "",
            "zerolinecolor": "white"
           }
          },
          "shapedefaults": {
           "line": {
            "color": "#2a3f5f"
           }
          },
          "ternary": {
           "aaxis": {
            "gridcolor": "white",
            "linecolor": "white",
            "ticks": ""
           },
           "baxis": {
            "gridcolor": "white",
            "linecolor": "white",
            "ticks": ""
           },
           "bgcolor": "#E5ECF6",
           "caxis": {
            "gridcolor": "white",
            "linecolor": "white",
            "ticks": ""
           }
          },
          "title": {
           "x": 0.05
          },
          "xaxis": {
           "automargin": true,
           "gridcolor": "white",
           "linecolor": "white",
           "ticks": "",
           "title": {
            "standoff": 15
           },
           "zerolinecolor": "white",
           "zerolinewidth": 2
          },
          "yaxis": {
           "automargin": true,
           "gridcolor": "white",
           "linecolor": "white",
           "ticks": "",
           "title": {
            "standoff": 15
           },
           "zerolinecolor": "white",
           "zerolinewidth": 2
          }
         }
        }
       }
      }
     },
     "metadata": {},
     "output_type": "display_data"
    }
   ],
   "source": [
    "# Kön fördelning i os för sverige \n",
    "\n",
    "# group by sex and name\n",
    "df_swe_sex = df_swedish_participants.groupby([\"Sex\", \"Name\"]).count().reset_index()\n",
    "\n",
    "#group by sex. \n",
    "df_swe_sex = df_swe_sex.groupby(\"Sex\")[\"Sex\"].count()\n",
    "\n",
    "# Plots graph\n",
    "fig = px.pie(df_swe_sex, names= df_swe_sex.index, values= \"Sex\", title= \"Gender\")\n",
    "fig.show()"
   ]
  },
  {
   "cell_type": "code",
   "execution_count": null,
   "metadata": {},
   "outputs": [],
   "source": []
  }
 ],
 "metadata": {
  "kernelspec": {
   "display_name": "Python 3.9.13 ('Databehandling-Daniel-Nilsson-esAQ05u4')",
   "language": "python",
   "name": "python3"
  },
  "language_info": {
   "codemirror_mode": {
    "name": "ipython",
    "version": 3
   },
   "file_extension": ".py",
   "mimetype": "text/x-python",
   "name": "python",
   "nbconvert_exporter": "python",
   "pygments_lexer": "ipython3",
   "version": "3.9.13"
  },
  "orig_nbformat": 4,
  "vscode": {
   "interpreter": {
    "hash": "2c026f9a4ffd2ee5a23e30db385042e828587791d51ac8ef89f88ac6abb0fa80"
   }
  }
 },
 "nbformat": 4,
 "nbformat_minor": 2
}
