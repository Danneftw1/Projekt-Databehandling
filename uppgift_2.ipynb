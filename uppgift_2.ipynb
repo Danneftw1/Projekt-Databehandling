{
 "cells": [
  {
   "cell_type": "code",
   "execution_count": null,
   "metadata": {},
   "outputs": [],
   "source": [
    "import pandas as pd\n",
    "import plotly_express as px\n",
    "import numpy as np\n",
    "import matplotlib.pyplot as plt\n",
    "from plotly.offline import download_plotlyjs, init_notebook_mode, plot, iplot\n",
    "\n",
    "athlete_events = pd.read_csv(\"../Data/athlete_events.csv\")\n",
    "\n",
    "ski_jumping = athlete_events[(athlete_events[\"Sport\"] == \"Ski Jumping\")]\n",
    "\n",
    "skiing_olympics = (\n",
    "    ski_jumping.groupby([\"Team\"])[\"Medal\"]\n",
    "    .count()\n",
    "    .reset_index(name=\"Count\") # new name for medal column\n",
    "    .sort_values([\"Count\"], ascending=False)\n",
    ")\n",
    "\n",
    "skiing_olympics.head(5)\n",
    "\n",
    "# top_countries_medals = ski_jumping[(ski_jumping[\"Team\"] == \"Austria\") | (ski_jumping[\"Team\"] == \"Norway\") | (ski_jumping[\"Team\"] == \"Finland\")]\n",
    "\n",
    "bronze_ski_jumping = ski_jumping[(ski_jumping[\"Medal\"] == \"Bronze\")]\n",
    "silver_ski_jumping = ski_jumping[(ski_jumping[\"Medal\"] == \"Silver\")]\n",
    "gold_ski_jumping = ski_jumping[(ski_jumping[\"Medal\"] == \"Gold\")]\n",
    "\n",
    "medals_per_country = ski_jumping.groupby(\"Team\")[\"Medal\"].value_counts(dropna=True)\n",
    "bronze_ski_jumping = bronze_ski_jumping.groupby(\"Team\")[\"Medal\"].value_counts(\n",
    "    dropna=False\n",
    ")\n",
    "silver_ski_jumping = silver_ski_jumping.groupby(\"Team\")[\"Medal\"].value_counts(\n",
    "    dropna=False\n",
    ")\n",
    "gold_ski_jumping = gold_ski_jumping.groupby(\"Team\")[\"Medal\"].value_counts(dropna=False)\n",
    "\n",
    "\n",
    "def plotly_bar_plot_with_labels_sublabels(\n",
    "    x, y, title, labels, sublabels,\n",
    "):\n",
    "\n",
    "    fig = px.bar(\n",
    "        x=x,\n",
    "        y=y,\n",
    "        barmode=\"group\",  # groups the bars next to eachother instead of stacking on eachother\n",
    "        labels=labels,\n",
    "        title=title,\n",
    "    )\n",
    "    newnames = sublabels\n",
    "    # To be able to change the sub titles for 'Antal doser' without changing the data source,\n",
    "    # you can switch the legendgroups name with a dict and map it onto existing subtitle names.\n",
    "    # I had to do this since I couldn't change it through 'labels=' like the other titles\n",
    "    # source: https://stackoverflow.com/questions/64371174/plotly-how-to-change-variable-label-names-for-the-legend-in-a-plotly-express-li\n",
    "    fig.for_each_trace(lambda t: t.update(name=newnames[t.name]))\n",
    "\n",
    "    fig.show()\n",
    "\n",
    "\n",
    "labels_skiing = {\n",
    "    \"value\": \"Medals won\",\n",
    "    \"variable\": \"Medals\",\n",
    "    \"x\": \"Teams\",\n",
    "}\n",
    "\n",
    "sublabels_skiing = {\n",
    "    \"wide_variable_0\": \"Bronze\",\n",
    "    \"wide_variable_1\": \"Silver\",\n",
    "    \"wide_variable_2\": \"Gold\",\n",
    "}\n",
    "\n",
    "plotly_bar_plot_with_labels_sublabels(\n",
    "    top_countries_medals.Team.unique(),\n",
    "    [bronze_ski_jumping, silver_ski_jumping, gold_ski_jumping],\n",
    "    'Top 3 Countries With Most Medals won in Ski Jumping',\n",
    "    labels_skiing,\n",
    "    sublabels_skiing\n",
    ")"
   ]
  },
  {
   "cell_type": "code",
   "execution_count": null,
   "metadata": {},
   "outputs": [
    {
     "data": {
      "text/plain": [
       "array(['Basketball', 'Judo', 'Football', 'Tug-Of-War', 'Speed Skating',\n",
       "       'Cross Country Skiing', 'Athletics', 'Ice Hockey', 'Swimming',\n",
       "       'Badminton', 'Sailing', 'Biathlon', 'Gymnastics',\n",
       "       'Art Competitions', 'Alpine Skiing', 'Handball', 'Weightlifting',\n",
       "       'Wrestling', 'Luge', 'Water Polo', 'Hockey', 'Rowing', 'Bobsleigh',\n",
       "       'Fencing', 'Equestrianism', 'Shooting', 'Boxing', 'Taekwondo',\n",
       "       'Cycling', 'Diving', 'Canoeing', 'Tennis', 'Modern Pentathlon',\n",
       "       'Figure Skating', 'Golf', 'Softball', 'Archery', 'Volleyball',\n",
       "       'Synchronized Swimming', 'Table Tennis', 'Nordic Combined',\n",
       "       'Baseball', 'Rhythmic Gymnastics', 'Freestyle Skiing',\n",
       "       'Rugby Sevens', 'Trampolining', 'Beach Volleyball', 'Triathlon',\n",
       "       'Ski Jumping', 'Curling', 'Snowboarding', 'Rugby',\n",
       "       'Short Track Speed Skating', 'Skeleton', 'Lacrosse', 'Polo',\n",
       "       'Cricket', 'Racquets', 'Motorboating', 'Military Ski Patrol',\n",
       "       'Croquet', 'Jeu De Paume', 'Roque', 'Alpinism', 'Basque Pelota',\n",
       "       'Aeronautics'], dtype=object)"
      ]
     },
     "execution_count": 47,
     "metadata": {},
     "output_type": "execute_result"
    }
   ],
   "source": [
    "athlete_events['Sport'].unique()"
   ]
  },
  {
   "cell_type": "code",
   "execution_count": null,
   "metadata": {},
   "outputs": [
    {
     "name": "stderr",
     "output_type": "stream",
     "text": [
      "C:\\Users\\b9ivn\\AppData\\Local\\Temp\\ipykernel_8808\\2793005554.py:34: FutureWarning:\n",
      "\n",
      "Dropping of nuisance columns in DataFrame reductions (with 'numeric_only=None') is deprecated; in a future version this will raise TypeError.  Select only valid columns before calling the reduction.\n",
      "\n"
     ]
    },
    {
     "data": {
      "application/vnd.plotly.v1+json": {
       "config": {
        "plotlyServerURL": "https://plot.ly"
       },
       "data": [
        {
         "alignmentgroup": "True",
         "hovertemplate": "Medals=wide_variable_0<br>Teams=%{x}<br>Medals won=%{y}<extra></extra>",
         "legendgroup": "wide_variable_0",
         "marker": {
          "color": "#636efa",
          "pattern": {
           "shape": ""
          }
         },
         "name": "Bronze",
         "offsetgroup": "wide_variable_0",
         "orientation": "v",
         "showlegend": true,
         "textposition": "auto",
         "type": "bar",
         "x": [
          "Austria",
          "Norway",
          "Finland",
          "Germany",
          "Japan",
          "Czechoslovakia",
          "East Germany",
          "Poland"
         ],
         "xaxis": "x",
         "y": [
          16,
          21,
          4,
          2,
          6,
          7,
          2,
          1
         ],
         "yaxis": "y"
        },
        {
         "alignmentgroup": "True",
         "hovertemplate": "Medals=wide_variable_1<br>Teams=%{x}<br>Medals won=%{y}<extra></extra>",
         "legendgroup": "wide_variable_1",
         "marker": {
          "color": "#EF553B",
          "pattern": {
           "shape": ""
          }
         },
         "name": "Silver",
         "offsetgroup": "wide_variable_1",
         "orientation": "v",
         "showlegend": true,
         "textposition": "auto",
         "type": "bar",
         "x": [
          "Austria",
          "Norway",
          "Finland",
          "Germany",
          "Japan",
          "Czechoslovakia",
          "East Germany",
          "Poland"
         ],
         "xaxis": "x",
         "y": [
          15,
          9,
          14,
          9,
          8,
          2,
          3,
          3
         ],
         "yaxis": "y"
        },
        {
         "alignmentgroup": "True",
         "hovertemplate": "Medals=wide_variable_2<br>Teams=%{x}<br>Medals won=%{y}<extra></extra>",
         "legendgroup": "wide_variable_2",
         "marker": {
          "color": "#00cc96",
          "pattern": {
           "shape": ""
          }
         },
         "name": "Gold",
         "offsetgroup": "wide_variable_2",
         "orientation": "v",
         "showlegend": true,
         "textposition": "auto",
         "type": "bar",
         "x": [
          "Austria",
          "Norway",
          "Finland",
          "Germany",
          "Japan",
          "Czechoslovakia",
          "East Germany",
          "Poland"
         ],
         "xaxis": "x",
         "y": [
          12,
          9,
          16,
          15,
          6,
          1,
          2,
          3
         ],
         "yaxis": "y"
        }
       ],
       "layout": {
        "barmode": "group",
        "legend": {
         "title": {
          "text": "Medals"
         },
         "tracegroupgap": 0
        },
        "template": {
         "data": {
          "bar": [
           {
            "error_x": {
             "color": "#2a3f5f"
            },
            "error_y": {
             "color": "#2a3f5f"
            },
            "marker": {
             "line": {
              "color": "#E5ECF6",
              "width": 0.5
             },
             "pattern": {
              "fillmode": "overlay",
              "size": 10,
              "solidity": 0.2
             }
            },
            "type": "bar"
           }
          ],
          "barpolar": [
           {
            "marker": {
             "line": {
              "color": "#E5ECF6",
              "width": 0.5
             },
             "pattern": {
              "fillmode": "overlay",
              "size": 10,
              "solidity": 0.2
             }
            },
            "type": "barpolar"
           }
          ],
          "carpet": [
           {
            "aaxis": {
             "endlinecolor": "#2a3f5f",
             "gridcolor": "white",
             "linecolor": "white",
             "minorgridcolor": "white",
             "startlinecolor": "#2a3f5f"
            },
            "baxis": {
             "endlinecolor": "#2a3f5f",
             "gridcolor": "white",
             "linecolor": "white",
             "minorgridcolor": "white",
             "startlinecolor": "#2a3f5f"
            },
            "type": "carpet"
           }
          ],
          "choropleth": [
           {
            "colorbar": {
             "outlinewidth": 0,
             "ticks": ""
            },
            "type": "choropleth"
           }
          ],
          "contour": [
           {
            "colorbar": {
             "outlinewidth": 0,
             "ticks": ""
            },
            "colorscale": [
             [
              0,
              "#0d0887"
             ],
             [
              0.1111111111111111,
              "#46039f"
             ],
             [
              0.2222222222222222,
              "#7201a8"
             ],
             [
              0.3333333333333333,
              "#9c179e"
             ],
             [
              0.4444444444444444,
              "#bd3786"
             ],
             [
              0.5555555555555556,
              "#d8576b"
             ],
             [
              0.6666666666666666,
              "#ed7953"
             ],
             [
              0.7777777777777778,
              "#fb9f3a"
             ],
             [
              0.8888888888888888,
              "#fdca26"
             ],
             [
              1,
              "#f0f921"
             ]
            ],
            "type": "contour"
           }
          ],
          "contourcarpet": [
           {
            "colorbar": {
             "outlinewidth": 0,
             "ticks": ""
            },
            "type": "contourcarpet"
           }
          ],
          "heatmap": [
           {
            "colorbar": {
             "outlinewidth": 0,
             "ticks": ""
            },
            "colorscale": [
             [
              0,
              "#0d0887"
             ],
             [
              0.1111111111111111,
              "#46039f"
             ],
             [
              0.2222222222222222,
              "#7201a8"
             ],
             [
              0.3333333333333333,
              "#9c179e"
             ],
             [
              0.4444444444444444,
              "#bd3786"
             ],
             [
              0.5555555555555556,
              "#d8576b"
             ],
             [
              0.6666666666666666,
              "#ed7953"
             ],
             [
              0.7777777777777778,
              "#fb9f3a"
             ],
             [
              0.8888888888888888,
              "#fdca26"
             ],
             [
              1,
              "#f0f921"
             ]
            ],
            "type": "heatmap"
           }
          ],
          "heatmapgl": [
           {
            "colorbar": {
             "outlinewidth": 0,
             "ticks": ""
            },
            "colorscale": [
             [
              0,
              "#0d0887"
             ],
             [
              0.1111111111111111,
              "#46039f"
             ],
             [
              0.2222222222222222,
              "#7201a8"
             ],
             [
              0.3333333333333333,
              "#9c179e"
             ],
             [
              0.4444444444444444,
              "#bd3786"
             ],
             [
              0.5555555555555556,
              "#d8576b"
             ],
             [
              0.6666666666666666,
              "#ed7953"
             ],
             [
              0.7777777777777778,
              "#fb9f3a"
             ],
             [
              0.8888888888888888,
              "#fdca26"
             ],
             [
              1,
              "#f0f921"
             ]
            ],
            "type": "heatmapgl"
           }
          ],
          "histogram": [
           {
            "marker": {
             "pattern": {
              "fillmode": "overlay",
              "size": 10,
              "solidity": 0.2
             }
            },
            "type": "histogram"
           }
          ],
          "histogram2d": [
           {
            "colorbar": {
             "outlinewidth": 0,
             "ticks": ""
            },
            "colorscale": [
             [
              0,
              "#0d0887"
             ],
             [
              0.1111111111111111,
              "#46039f"
             ],
             [
              0.2222222222222222,
              "#7201a8"
             ],
             [
              0.3333333333333333,
              "#9c179e"
             ],
             [
              0.4444444444444444,
              "#bd3786"
             ],
             [
              0.5555555555555556,
              "#d8576b"
             ],
             [
              0.6666666666666666,
              "#ed7953"
             ],
             [
              0.7777777777777778,
              "#fb9f3a"
             ],
             [
              0.8888888888888888,
              "#fdca26"
             ],
             [
              1,
              "#f0f921"
             ]
            ],
            "type": "histogram2d"
           }
          ],
          "histogram2dcontour": [
           {
            "colorbar": {
             "outlinewidth": 0,
             "ticks": ""
            },
            "colorscale": [
             [
              0,
              "#0d0887"
             ],
             [
              0.1111111111111111,
              "#46039f"
             ],
             [
              0.2222222222222222,
              "#7201a8"
             ],
             [
              0.3333333333333333,
              "#9c179e"
             ],
             [
              0.4444444444444444,
              "#bd3786"
             ],
             [
              0.5555555555555556,
              "#d8576b"
             ],
             [
              0.6666666666666666,
              "#ed7953"
             ],
             [
              0.7777777777777778,
              "#fb9f3a"
             ],
             [
              0.8888888888888888,
              "#fdca26"
             ],
             [
              1,
              "#f0f921"
             ]
            ],
            "type": "histogram2dcontour"
           }
          ],
          "mesh3d": [
           {
            "colorbar": {
             "outlinewidth": 0,
             "ticks": ""
            },
            "type": "mesh3d"
           }
          ],
          "parcoords": [
           {
            "line": {
             "colorbar": {
              "outlinewidth": 0,
              "ticks": ""
             }
            },
            "type": "parcoords"
           }
          ],
          "pie": [
           {
            "automargin": true,
            "type": "pie"
           }
          ],
          "scatter": [
           {
            "fillpattern": {
             "fillmode": "overlay",
             "size": 10,
             "solidity": 0.2
            },
            "type": "scatter"
           }
          ],
          "scatter3d": [
           {
            "line": {
             "colorbar": {
              "outlinewidth": 0,
              "ticks": ""
             }
            },
            "marker": {
             "colorbar": {
              "outlinewidth": 0,
              "ticks": ""
             }
            },
            "type": "scatter3d"
           }
          ],
          "scattercarpet": [
           {
            "marker": {
             "colorbar": {
              "outlinewidth": 0,
              "ticks": ""
             }
            },
            "type": "scattercarpet"
           }
          ],
          "scattergeo": [
           {
            "marker": {
             "colorbar": {
              "outlinewidth": 0,
              "ticks": ""
             }
            },
            "type": "scattergeo"
           }
          ],
          "scattergl": [
           {
            "marker": {
             "colorbar": {
              "outlinewidth": 0,
              "ticks": ""
             }
            },
            "type": "scattergl"
           }
          ],
          "scattermapbox": [
           {
            "marker": {
             "colorbar": {
              "outlinewidth": 0,
              "ticks": ""
             }
            },
            "type": "scattermapbox"
           }
          ],
          "scatterpolar": [
           {
            "marker": {
             "colorbar": {
              "outlinewidth": 0,
              "ticks": ""
             }
            },
            "type": "scatterpolar"
           }
          ],
          "scatterpolargl": [
           {
            "marker": {
             "colorbar": {
              "outlinewidth": 0,
              "ticks": ""
             }
            },
            "type": "scatterpolargl"
           }
          ],
          "scatterternary": [
           {
            "marker": {
             "colorbar": {
              "outlinewidth": 0,
              "ticks": ""
             }
            },
            "type": "scatterternary"
           }
          ],
          "surface": [
           {
            "colorbar": {
             "outlinewidth": 0,
             "ticks": ""
            },
            "colorscale": [
             [
              0,
              "#0d0887"
             ],
             [
              0.1111111111111111,
              "#46039f"
             ],
             [
              0.2222222222222222,
              "#7201a8"
             ],
             [
              0.3333333333333333,
              "#9c179e"
             ],
             [
              0.4444444444444444,
              "#bd3786"
             ],
             [
              0.5555555555555556,
              "#d8576b"
             ],
             [
              0.6666666666666666,
              "#ed7953"
             ],
             [
              0.7777777777777778,
              "#fb9f3a"
             ],
             [
              0.8888888888888888,
              "#fdca26"
             ],
             [
              1,
              "#f0f921"
             ]
            ],
            "type": "surface"
           }
          ],
          "table": [
           {
            "cells": {
             "fill": {
              "color": "#EBF0F8"
             },
             "line": {
              "color": "white"
             }
            },
            "header": {
             "fill": {
              "color": "#C8D4E3"
             },
             "line": {
              "color": "white"
             }
            },
            "type": "table"
           }
          ]
         },
         "layout": {
          "annotationdefaults": {
           "arrowcolor": "#2a3f5f",
           "arrowhead": 0,
           "arrowwidth": 1
          },
          "autotypenumbers": "strict",
          "coloraxis": {
           "colorbar": {
            "outlinewidth": 0,
            "ticks": ""
           }
          },
          "colorscale": {
           "diverging": [
            [
             0,
             "#8e0152"
            ],
            [
             0.1,
             "#c51b7d"
            ],
            [
             0.2,
             "#de77ae"
            ],
            [
             0.3,
             "#f1b6da"
            ],
            [
             0.4,
             "#fde0ef"
            ],
            [
             0.5,
             "#f7f7f7"
            ],
            [
             0.6,
             "#e6f5d0"
            ],
            [
             0.7,
             "#b8e186"
            ],
            [
             0.8,
             "#7fbc41"
            ],
            [
             0.9,
             "#4d9221"
            ],
            [
             1,
             "#276419"
            ]
           ],
           "sequential": [
            [
             0,
             "#0d0887"
            ],
            [
             0.1111111111111111,
             "#46039f"
            ],
            [
             0.2222222222222222,
             "#7201a8"
            ],
            [
             0.3333333333333333,
             "#9c179e"
            ],
            [
             0.4444444444444444,
             "#bd3786"
            ],
            [
             0.5555555555555556,
             "#d8576b"
            ],
            [
             0.6666666666666666,
             "#ed7953"
            ],
            [
             0.7777777777777778,
             "#fb9f3a"
            ],
            [
             0.8888888888888888,
             "#fdca26"
            ],
            [
             1,
             "#f0f921"
            ]
           ],
           "sequentialminus": [
            [
             0,
             "#0d0887"
            ],
            [
             0.1111111111111111,
             "#46039f"
            ],
            [
             0.2222222222222222,
             "#7201a8"
            ],
            [
             0.3333333333333333,
             "#9c179e"
            ],
            [
             0.4444444444444444,
             "#bd3786"
            ],
            [
             0.5555555555555556,
             "#d8576b"
            ],
            [
             0.6666666666666666,
             "#ed7953"
            ],
            [
             0.7777777777777778,
             "#fb9f3a"
            ],
            [
             0.8888888888888888,
             "#fdca26"
            ],
            [
             1,
             "#f0f921"
            ]
           ]
          },
          "colorway": [
           "#636efa",
           "#EF553B",
           "#00cc96",
           "#ab63fa",
           "#FFA15A",
           "#19d3f3",
           "#FF6692",
           "#B6E880",
           "#FF97FF",
           "#FECB52"
          ],
          "font": {
           "color": "#2a3f5f"
          },
          "geo": {
           "bgcolor": "white",
           "lakecolor": "white",
           "landcolor": "#E5ECF6",
           "showlakes": true,
           "showland": true,
           "subunitcolor": "white"
          },
          "hoverlabel": {
           "align": "left"
          },
          "hovermode": "closest",
          "mapbox": {
           "style": "light"
          },
          "paper_bgcolor": "white",
          "plot_bgcolor": "#E5ECF6",
          "polar": {
           "angularaxis": {
            "gridcolor": "white",
            "linecolor": "white",
            "ticks": ""
           },
           "bgcolor": "#E5ECF6",
           "radialaxis": {
            "gridcolor": "white",
            "linecolor": "white",
            "ticks": ""
           }
          },
          "scene": {
           "xaxis": {
            "backgroundcolor": "#E5ECF6",
            "gridcolor": "white",
            "gridwidth": 2,
            "linecolor": "white",
            "showbackground": true,
            "ticks": "",
            "zerolinecolor": "white"
           },
           "yaxis": {
            "backgroundcolor": "#E5ECF6",
            "gridcolor": "white",
            "gridwidth": 2,
            "linecolor": "white",
            "showbackground": true,
            "ticks": "",
            "zerolinecolor": "white"
           },
           "zaxis": {
            "backgroundcolor": "#E5ECF6",
            "gridcolor": "white",
            "gridwidth": 2,
            "linecolor": "white",
            "showbackground": true,
            "ticks": "",
            "zerolinecolor": "white"
           }
          },
          "shapedefaults": {
           "line": {
            "color": "#2a3f5f"
           }
          },
          "ternary": {
           "aaxis": {
            "gridcolor": "white",
            "linecolor": "white",
            "ticks": ""
           },
           "baxis": {
            "gridcolor": "white",
            "linecolor": "white",
            "ticks": ""
           },
           "bgcolor": "#E5ECF6",
           "caxis": {
            "gridcolor": "white",
            "linecolor": "white",
            "ticks": ""
           }
          },
          "title": {
           "x": 0.05
          },
          "xaxis": {
           "automargin": true,
           "gridcolor": "white",
           "linecolor": "white",
           "ticks": "",
           "title": {
            "standoff": 15
           },
           "zerolinecolor": "white",
           "zerolinewidth": 2
          },
          "yaxis": {
           "automargin": true,
           "gridcolor": "white",
           "linecolor": "white",
           "ticks": "",
           "title": {
            "standoff": 15
           },
           "zerolinecolor": "white",
           "zerolinewidth": 2
          }
         }
        },
        "title": {
         "text": "Top 3 Countries With Most Medals won in Ski Jumping"
        },
        "xaxis": {
         "anchor": "y",
         "domain": [
          0,
          1
         ],
         "title": {
          "text": "Teams"
         }
        },
        "yaxis": {
         "anchor": "x",
         "domain": [
          0,
          1
         ],
         "title": {
          "text": "Medals won"
         }
        }
       }
      }
     },
     "metadata": {},
     "output_type": "display_data"
    }
   ],
   "source": [
    "    \n",
    "def medal_distribution_per_sport(sport, df):\n",
    "\n",
    "    ski_jumping = df[(df[\"Sport\"] == sport)]\n",
    "\n",
    "    bronze_ski_jumping = ski_jumping[(ski_jumping[\"Medal\"] == \"Bronze\")]\n",
    "    silver_ski_jumping = ski_jumping[(ski_jumping[\"Medal\"] == \"Silver\")]\n",
    "    gold_ski_jumping = ski_jumping[(ski_jumping[\"Medal\"] == \"Gold\")]\n",
    "\n",
    "    bronze_ski_jumping = (\n",
    "        bronze_ski_jumping.groupby([\"Team\"])[\"Medal\"]\n",
    "        .count()\n",
    "        .reset_index(name=\"Bronze\") # new name for medal column\n",
    "        .sort_values([\"Bronze\"], ascending=False)\n",
    "    )\n",
    "\n",
    "    silver_ski_jumping = (\n",
    "        silver_ski_jumping.groupby([\"Team\"])[\"Medal\"]\n",
    "        .count()\n",
    "        .reset_index(name=\"Silver\") # new name for medal column\n",
    "        .sort_values([\"Silver\"], ascending=False)\n",
    "    )\n",
    "\n",
    "    gold_ski_jumping = (\n",
    "        gold_ski_jumping.groupby([\"Team\"])[\"Medal\"]\n",
    "        .count()\n",
    "        .reset_index(name=\"Gold\") # new name for medal column\n",
    "        .sort_values([\"Gold\"], ascending=False)\n",
    "    )\n",
    "\n",
    "    medal_total = [bronze_ski_jumping, silver_ski_jumping, gold_ski_jumping]\n",
    "    # Added a lambda function in order to merge 3 dataframes with only needed columns\n",
    "    df_final = ft.reduce(lambda left, right: pd.merge(left, right), medal_total)\n",
    "    # Creates a sum column with total medal sum, only for sorting purpose\n",
    "    df_final['Sum'] = df_final.sum(axis=1)\n",
    "    # sort by 'sum' column - highest to lowest\n",
    "    df_final.sort_values(by='Sum', ascending=False, inplace=True)\n",
    "\n",
    "    labels_skiing = {\n",
    "        \"value\": \"Medals won\",\n",
    "        \"variable\": \"Medals\",\n",
    "        \"x\": \"Teams\",\n",
    "    }\n",
    "\n",
    "    sublabels_skiing = {\n",
    "        \"wide_variable_0\": \"Bronze\",\n",
    "        \"wide_variable_1\": \"Silver\",\n",
    "        \"wide_variable_2\": \"Gold\",\n",
    "    }\n",
    "\n",
    "    fig = px.bar(\n",
    "        x=df_final[\"Team\"],\n",
    "        y=[df_final[\"Bronze\"],df_final[\"Silver\"], df_final[\"Gold\"]],\n",
    "        barmode=\"group\",  # groups the bars next to eachother instead of stacking on eachother\n",
    "        labels=labels_skiing,\n",
    "        title=f'Top 3 Countries With Most Medals won in {sport}',\n",
    "    )\n",
    "    newnames = sublabels_skiing\n",
    "    # To be able to change the sub titles for 'Antal doser' without changing the data source,\n",
    "    # you can switch the legendgroups name with a dict and map it onto existing subtitle names.\n",
    "    # I had to do this since I couldn't change it through 'labels=' like the other titles\n",
    "    # source: https://stackoverflow.com/questions/64371174/plotly-how-to-change-variable-label-names-for-the-legend-in-a-plotly-express-li\n",
    "    fig.for_each_trace(lambda t: t.update(name=newnames[t.name]))\n",
    "\n",
    "    return fig\n",
    "\n",
    "medal_distribution_per_sport(\"Ski Jumping\", athlete_events)"
   ]
  },
  {
   "cell_type": "code",
   "execution_count": 12,
   "metadata": {},
   "outputs": [
    {
     "ename": "NameError",
     "evalue": "name 'sport' is not defined",
     "output_type": "error",
     "traceback": [
      "\u001b[1;31m---------------------------------------------------------------------------\u001b[0m",
      "\u001b[1;31mNameError\u001b[0m                                 Traceback (most recent call last)",
      "Cell \u001b[1;32mIn [12], line 6\u001b[0m\n\u001b[0;32m      2\u001b[0m \u001b[39mimport\u001b[39;00m \u001b[39mfunctools\u001b[39;00m \u001b[39mas\u001b[39;00m \u001b[39mft\u001b[39;00m\n\u001b[0;32m      4\u001b[0m athlete_events \u001b[39m=\u001b[39m pd\u001b[39m.\u001b[39mread_csv(\u001b[39m\"\u001b[39m\u001b[39m../Projekt-Databehandling/Data/athlete_events.csv\u001b[39m\u001b[39m\"\u001b[39m)\n\u001b[1;32m----> 6\u001b[0m ski_jumping \u001b[39m=\u001b[39m athlete_events[(athlete_events[\u001b[39m\"\u001b[39m\u001b[39mSport\u001b[39m\u001b[39m\"\u001b[39m] \u001b[39m==\u001b[39m sport)]\n\u001b[0;32m      8\u001b[0m bronze_ski_jumping \u001b[39m=\u001b[39m ski_jumping[(ski_jumping[\u001b[39m\"\u001b[39m\u001b[39mMedal\u001b[39m\u001b[39m\"\u001b[39m] \u001b[39m==\u001b[39m \u001b[39m\"\u001b[39m\u001b[39mBronze\u001b[39m\u001b[39m\"\u001b[39m)]\n\u001b[0;32m      9\u001b[0m silver_ski_jumping \u001b[39m=\u001b[39m ski_jumping[(ski_jumping[\u001b[39m\"\u001b[39m\u001b[39mMedal\u001b[39m\u001b[39m\"\u001b[39m] \u001b[39m==\u001b[39m \u001b[39m\"\u001b[39m\u001b[39mSilver\u001b[39m\u001b[39m\"\u001b[39m)]\n",
      "\u001b[1;31mNameError\u001b[0m: name 'sport' is not defined"
     ]
    }
   ],
   "source": [
    "\n",
    "    # import tool for lambda func\n",
    "    import functools as ft\n",
    "\n",
    "    athlete_events = pd.read_csv(\"../Projekt-Databehandling/Data/athlete_events.csv\")\n",
    "\n",
    "    ski_jumping = athlete_events[(athlete_events[\"Sport\"] == sport)]\n",
    "\n",
    "    bronze_ski_jumping = ski_jumping[(ski_jumping[\"Medal\"] == \"Bronze\")]\n",
    "    silver_ski_jumping = ski_jumping[(ski_jumping[\"Medal\"] == \"Silver\")]\n",
    "    gold_ski_jumping = ski_jumping[(ski_jumping[\"Medal\"] == \"Gold\")]\n",
    "\n",
    "    bronze_ski_jumping = (\n",
    "        bronze_ski_jumping.groupby([\"Team\"])[\"Medal\"]\n",
    "        .count()\n",
    "        .reset_index(name=\"Bronze\") # new name for medal column\n",
    "        .sort_values([\"Bronze\"], ascending=False)\n",
    "    )\n",
    "\n",
    "    silver_ski_jumping = (\n",
    "        silver_ski_jumping.groupby([\"Team\"])[\"Medal\"]\n",
    "        .count()\n",
    "        .reset_index(name=\"Silver\") # new name for medal column\n",
    "        .sort_values([\"Silver\"], ascending=False)\n",
    "    )\n",
    "\n",
    "    gold_ski_jumping = (\n",
    "        gold_ski_jumping.groupby([\"Team\"])[\"Medal\"]\n",
    "        .count()\n",
    "        .reset_index(name=\"Gold\") # new name for medal column\n",
    "        .sort_values([\"Gold\"], ascending=False)\n",
    "    )\n",
    "\n",
    "    medal_total = [bronze_ski_jumping, silver_ski_jumping, gold_ski_jumping]\n",
    "    df_final = ft.reduce(lambda left, right: pd.merge(left, right), medal_total)\n",
    "    df_final['Sum'] = df_final.sum(axis=1)\n",
    "\n",
    "    def plotly_bar_plot_with_labels_sublabels(\n",
    "        x, y, title, labels, sublabels,\n",
    "    ):\n",
    "\n",
    "        fig = px.bar(\n",
    "            x=x,\n",
    "            y=y,\n",
    "            barmode=\"group\",  # groups the bars next to eachother instead of stacking on eachother\n",
    "            labels=labels,\n",
    "            title=title,\n",
    "        )\n",
    "        newnames = sublabels\n",
    "        # *** RE-USED SOURCE FROM LABB1 ***\n",
    "        # To be able to change the sub titles for 'Antal doser' without changing the data source,\n",
    "        # you can switch the legendgroups name with a dict and map it onto existing subtitle names.\n",
    "        # I had to do this since I couldn't change it through 'labels=' like the other titles\n",
    "        # source: https://stackoverflow.com/questions/64371174/plotly-how-to-change-variable-label-names-for-the-legend-in-a-plotly-express-li\n",
    "        fig.for_each_trace(lambda t: t.update(name=newnames[t.name]))\n",
    "\n",
    "        fig.show()\n",
    "\n",
    "\n",
    "    labels_skiing = {\n",
    "        \"value\": \"Medals won\",\n",
    "        \"variable\": \"Medals\",\n",
    "        \"x\": \"Teams\",\n",
    "    }\n",
    "\n",
    "    sublabels_skiing = {\n",
    "        \"wide_variable_0\": \"Bronze\",\n",
    "        \"wide_variable_1\": \"Silver\",\n",
    "        \"wide_variable_2\": \"Gold\",\n",
    "    }\n",
    "\n",
    "    plotly_bar_plot_with_labels_sublabels(df_final.head(5)\n",
    "        [df_final.Team.unique()],\n",
    "        [\"Bronze\", \"Silver\", \"Gold\"],\n",
    "        f'Top 3 Countries With Most Medals won in {sport}',\n",
    "        labels_skiing,\n",
    "        sublabels_skiing\n",
    "    )\n",
    "\n",
    "medal_distribution_per_sport(\"Ski Jumping\")"
   ]
  },
  {
   "cell_type": "code",
   "execution_count": null,
   "metadata": {},
   "outputs": [
    {
     "ename": "NameError",
     "evalue": "name 'pd' is not defined",
     "output_type": "error",
     "traceback": [
      "\u001b[1;31m---------------------------------------------------------------------------\u001b[0m",
      "\u001b[1;31mNameError\u001b[0m                                 Traceback (most recent call last)",
      "Cell \u001b[1;32mIn [2], line 4\u001b[0m\n\u001b[0;32m      1\u001b[0m \u001b[39m# import tool for lambda func\u001b[39;00m\n\u001b[0;32m      2\u001b[0m \u001b[39mimport\u001b[39;00m \u001b[39mfunctools\u001b[39;00m \u001b[39mas\u001b[39;00m \u001b[39mft\u001b[39;00m\n\u001b[1;32m----> 4\u001b[0m athlete_events \u001b[39m=\u001b[39m pd\u001b[39m.\u001b[39mread_csv(\u001b[39m\"\u001b[39m\u001b[39m../Projekt-Databehandling/Data/athlete_events.csv\u001b[39m\u001b[39m\"\u001b[39m)\n\u001b[0;32m      6\u001b[0m ski_jumping \u001b[39m=\u001b[39m athlete_events[(athlete_events[\u001b[39m\"\u001b[39m\u001b[39mSport\u001b[39m\u001b[39m\"\u001b[39m] \u001b[39m==\u001b[39m sport)]\n\u001b[0;32m      8\u001b[0m bronze_ski_jumping \u001b[39m=\u001b[39m ski_jumping[(ski_jumping[\u001b[39m\"\u001b[39m\u001b[39mMedal\u001b[39m\u001b[39m\"\u001b[39m] \u001b[39m==\u001b[39m \u001b[39m\"\u001b[39m\u001b[39mBronze\u001b[39m\u001b[39m\"\u001b[39m)]\n",
      "\u001b[1;31mNameError\u001b[0m: name 'pd' is not defined"
     ]
    }
   ],
   "source": [
    "    # import tool for lambda func\n",
    "    import functools as ft\n",
    "\n",
    "    athlete_events = pd.read_csv(\"../Projekt-Databehandling/Data/athlete_events.csv\")\n",
    "\n",
    "    ski_jumping = athlete_events[(athlete_events[\"Sport\"] == sport)]\n",
    "\n",
    "    bronze_ski_jumping = ski_jumping[(ski_jumping[\"Medal\"] == \"Bronze\")]\n",
    "    silver_ski_jumping = ski_jumping[(ski_jumping[\"Medal\"] == \"Silver\")]\n",
    "    gold_ski_jumping = ski_jumping[(ski_jumping[\"Medal\"] == \"Gold\")]\n",
    "\n",
    "    bronze_ski_jumping = (\n",
    "        bronze_ski_jumping.groupby([\"Team\"])[\"Medal\"]\n",
    "        .count()\n",
    "        .reset_index(name=\"Bronze\") # new name for medal column\n",
    "        .sort_values([\"Bronze\"], ascending=False)\n",
    "    )\n",
    "\n",
    "    silver_ski_jumping = (\n",
    "        silver_ski_jumping.groupby([\"Team\"])[\"Medal\"]\n",
    "        .count()\n",
    "        .reset_index(name=\"Silver\") # new name for medal column\n",
    "        .sort_values([\"Silver\"], ascending=False)\n",
    "    )\n",
    "\n",
    "    gold_ski_jumping = (\n",
    "        gold_ski_jumping.groupby([\"Team\"])[\"Medal\"]\n",
    "        .count()\n",
    "        .reset_index(name=\"Gold\") # new name for medal column\n",
    "        .sort_values([\"Gold\"], ascending=False)\n",
    "    )\n",
    "\n",
    "    medal_total = [bronze_ski_jumping, silver_ski_jumping, gold_ski_jumping]\n",
    "    df_final = ft.reduce(lambda left, right: pd.merge(left, right), medal_total)\n",
    "    df_final['Sum'] = df_final.sum(axis=1)"
   ]
  },
  {
   "cell_type": "code",
   "execution_count": 13,
   "metadata": {},
   "outputs": [
    {
     "data": {
      "application/vnd.plotly.v1+json": {
       "config": {
        "plotlyServerURL": "https://plot.ly"
       },
       "data": [
        {
         "branchvalues": "total",
         "customdata": [
          [
           "Argentina",
           72
          ],
          [
           "Australia",
           313
          ],
          [
           "Austria",
           66
          ],
          [
           "Brazil",
           101
          ],
          [
           "Canada",
           350
          ],
          [
           "China",
           308
          ],
          [
           "Cuba",
           155
          ],
          [
           "Denmark",
           98
          ],
          [
           "East Germany",
           368
          ],
          [
           "Finland",
           178
          ],
          [
           "France",
           279
          ],
          [
           "Germany",
           508
          ],
          [
           "Great Britain",
           321
          ],
          [
           "Hungary",
           289
          ],
          [
           "Italy",
           302
          ],
          [
           "Japan",
           226
          ],
          [
           "Netherlands",
           218
          ],
          [
           "New Zealand",
           83
          ],
          [
           "Norway",
           173
          ],
          [
           "Poland",
           114
          ],
          [
           "Romania",
           155
          ],
          [
           "Russia",
           356
          ],
          [
           "South Korea",
           184
          ],
          [
           "Soviet Union",
           961
          ],
          [
           "Spain",
           81
          ],
          [
           "Sweden",
           194
          ],
          [
           "Unified Team",
           100
          ],
          [
           "United States",
           2075
          ],
          [
           "West Germany",
           155
          ],
          [
           "Yugoslavia",
           122
          ]
         ],
         "domain": {
          "x": [
           0,
           1
          ],
          "y": [
           0,
           1
          ]
         },
         "hovertemplate": "labels=%{label}<br>Count_sum=%{value}<br>parent=%{parent}<br>id=%{id}<br>Team=%{customdata[0]}<br>Count=%{color}<extra></extra>",
         "ids": [
          "Argentina",
          "Australia",
          "Austria",
          "Brazil",
          "Canada",
          "China",
          "Cuba",
          "Denmark",
          "East Germany",
          "Finland",
          "France",
          "Germany",
          "Great Britain",
          "Hungary",
          "Italy",
          "Japan",
          "Netherlands",
          "New Zealand",
          "Norway",
          "Poland",
          "Romania",
          "Russia",
          "South Korea",
          "Soviet Union",
          "Spain",
          "Sweden",
          "Unified Team",
          "United States",
          "West Germany",
          "Yugoslavia"
         ],
         "labels": [
          "Argentina",
          "Australia",
          "Austria",
          "Brazil",
          "Canada",
          "China",
          "Cuba",
          "Denmark",
          "East Germany",
          "Finland",
          "France",
          "Germany",
          "Great Britain",
          "Hungary",
          "Italy",
          "Japan",
          "Netherlands",
          "New Zealand",
          "Norway",
          "Poland",
          "Romania",
          "Russia",
          "South Korea",
          "Soviet Union",
          "Spain",
          "Sweden",
          "Unified Team",
          "United States",
          "West Germany",
          "Yugoslavia"
         ],
         "marker": {
          "coloraxis": "coloraxis",
          "colors": [
           72,
           313,
           66,
           101,
           350,
           308,
           155,
           98,
           368,
           178,
           279,
           508,
           321,
           289,
           302,
           226,
           218,
           83,
           173,
           114,
           155,
           356,
           184,
           961,
           81,
           194,
           100,
           2075,
           155,
           122
          ]
         },
         "name": "",
         "parents": [
          "",
          "",
          "",
          "",
          "",
          "",
          "",
          "",
          "",
          "",
          "",
          "",
          "",
          "",
          "",
          "",
          "",
          "",
          "",
          "",
          "",
          "",
          "",
          "",
          "",
          "",
          "",
          "",
          "",
          ""
         ],
         "type": "treemap",
         "values": [
          72,
          313,
          66,
          101,
          350,
          308,
          155,
          98,
          368,
          178,
          279,
          508,
          321,
          289,
          302,
          226,
          218,
          83,
          173,
          114,
          155,
          356,
          184,
          961,
          81,
          194,
          100,
          2075,
          155,
          122
         ]
        }
       ],
       "layout": {
        "coloraxis": {
         "colorbar": {
          "title": {
           "text": "Count"
          }
         },
         "colorscale": [
          [
           0,
           "#0d0887"
          ],
          [
           0.1111111111111111,
           "#46039f"
          ],
          [
           0.2222222222222222,
           "#7201a8"
          ],
          [
           0.3333333333333333,
           "#9c179e"
          ],
          [
           0.4444444444444444,
           "#bd3786"
          ],
          [
           0.5555555555555556,
           "#d8576b"
          ],
          [
           0.6666666666666666,
           "#ed7953"
          ],
          [
           0.7777777777777778,
           "#fb9f3a"
          ],
          [
           0.8888888888888888,
           "#fdca26"
          ],
          [
           1,
           "#f0f921"
          ]
         ]
        },
        "legend": {
         "tracegroupgap": 0
        },
        "template": {
         "data": {
          "bar": [
           {
            "error_x": {
             "color": "#2a3f5f"
            },
            "error_y": {
             "color": "#2a3f5f"
            },
            "marker": {
             "line": {
              "color": "#E5ECF6",
              "width": 0.5
             },
             "pattern": {
              "fillmode": "overlay",
              "size": 10,
              "solidity": 0.2
             }
            },
            "type": "bar"
           }
          ],
          "barpolar": [
           {
            "marker": {
             "line": {
              "color": "#E5ECF6",
              "width": 0.5
             },
             "pattern": {
              "fillmode": "overlay",
              "size": 10,
              "solidity": 0.2
             }
            },
            "type": "barpolar"
           }
          ],
          "carpet": [
           {
            "aaxis": {
             "endlinecolor": "#2a3f5f",
             "gridcolor": "white",
             "linecolor": "white",
             "minorgridcolor": "white",
             "startlinecolor": "#2a3f5f"
            },
            "baxis": {
             "endlinecolor": "#2a3f5f",
             "gridcolor": "white",
             "linecolor": "white",
             "minorgridcolor": "white",
             "startlinecolor": "#2a3f5f"
            },
            "type": "carpet"
           }
          ],
          "choropleth": [
           {
            "colorbar": {
             "outlinewidth": 0,
             "ticks": ""
            },
            "type": "choropleth"
           }
          ],
          "contour": [
           {
            "colorbar": {
             "outlinewidth": 0,
             "ticks": ""
            },
            "colorscale": [
             [
              0,
              "#0d0887"
             ],
             [
              0.1111111111111111,
              "#46039f"
             ],
             [
              0.2222222222222222,
              "#7201a8"
             ],
             [
              0.3333333333333333,
              "#9c179e"
             ],
             [
              0.4444444444444444,
              "#bd3786"
             ],
             [
              0.5555555555555556,
              "#d8576b"
             ],
             [
              0.6666666666666666,
              "#ed7953"
             ],
             [
              0.7777777777777778,
              "#fb9f3a"
             ],
             [
              0.8888888888888888,
              "#fdca26"
             ],
             [
              1,
              "#f0f921"
             ]
            ],
            "type": "contour"
           }
          ],
          "contourcarpet": [
           {
            "colorbar": {
             "outlinewidth": 0,
             "ticks": ""
            },
            "type": "contourcarpet"
           }
          ],
          "heatmap": [
           {
            "colorbar": {
             "outlinewidth": 0,
             "ticks": ""
            },
            "colorscale": [
             [
              0,
              "#0d0887"
             ],
             [
              0.1111111111111111,
              "#46039f"
             ],
             [
              0.2222222222222222,
              "#7201a8"
             ],
             [
              0.3333333333333333,
              "#9c179e"
             ],
             [
              0.4444444444444444,
              "#bd3786"
             ],
             [
              0.5555555555555556,
              "#d8576b"
             ],
             [
              0.6666666666666666,
              "#ed7953"
             ],
             [
              0.7777777777777778,
              "#fb9f3a"
             ],
             [
              0.8888888888888888,
              "#fdca26"
             ],
             [
              1,
              "#f0f921"
             ]
            ],
            "type": "heatmap"
           }
          ],
          "heatmapgl": [
           {
            "colorbar": {
             "outlinewidth": 0,
             "ticks": ""
            },
            "colorscale": [
             [
              0,
              "#0d0887"
             ],
             [
              0.1111111111111111,
              "#46039f"
             ],
             [
              0.2222222222222222,
              "#7201a8"
             ],
             [
              0.3333333333333333,
              "#9c179e"
             ],
             [
              0.4444444444444444,
              "#bd3786"
             ],
             [
              0.5555555555555556,
              "#d8576b"
             ],
             [
              0.6666666666666666,
              "#ed7953"
             ],
             [
              0.7777777777777778,
              "#fb9f3a"
             ],
             [
              0.8888888888888888,
              "#fdca26"
             ],
             [
              1,
              "#f0f921"
             ]
            ],
            "type": "heatmapgl"
           }
          ],
          "histogram": [
           {
            "marker": {
             "pattern": {
              "fillmode": "overlay",
              "size": 10,
              "solidity": 0.2
             }
            },
            "type": "histogram"
           }
          ],
          "histogram2d": [
           {
            "colorbar": {
             "outlinewidth": 0,
             "ticks": ""
            },
            "colorscale": [
             [
              0,
              "#0d0887"
             ],
             [
              0.1111111111111111,
              "#46039f"
             ],
             [
              0.2222222222222222,
              "#7201a8"
             ],
             [
              0.3333333333333333,
              "#9c179e"
             ],
             [
              0.4444444444444444,
              "#bd3786"
             ],
             [
              0.5555555555555556,
              "#d8576b"
             ],
             [
              0.6666666666666666,
              "#ed7953"
             ],
             [
              0.7777777777777778,
              "#fb9f3a"
             ],
             [
              0.8888888888888888,
              "#fdca26"
             ],
             [
              1,
              "#f0f921"
             ]
            ],
            "type": "histogram2d"
           }
          ],
          "histogram2dcontour": [
           {
            "colorbar": {
             "outlinewidth": 0,
             "ticks": ""
            },
            "colorscale": [
             [
              0,
              "#0d0887"
             ],
             [
              0.1111111111111111,
              "#46039f"
             ],
             [
              0.2222222222222222,
              "#7201a8"
             ],
             [
              0.3333333333333333,
              "#9c179e"
             ],
             [
              0.4444444444444444,
              "#bd3786"
             ],
             [
              0.5555555555555556,
              "#d8576b"
             ],
             [
              0.6666666666666666,
              "#ed7953"
             ],
             [
              0.7777777777777778,
              "#fb9f3a"
             ],
             [
              0.8888888888888888,
              "#fdca26"
             ],
             [
              1,
              "#f0f921"
             ]
            ],
            "type": "histogram2dcontour"
           }
          ],
          "mesh3d": [
           {
            "colorbar": {
             "outlinewidth": 0,
             "ticks": ""
            },
            "type": "mesh3d"
           }
          ],
          "parcoords": [
           {
            "line": {
             "colorbar": {
              "outlinewidth": 0,
              "ticks": ""
             }
            },
            "type": "parcoords"
           }
          ],
          "pie": [
           {
            "automargin": true,
            "type": "pie"
           }
          ],
          "scatter": [
           {
            "fillpattern": {
             "fillmode": "overlay",
             "size": 10,
             "solidity": 0.2
            },
            "type": "scatter"
           }
          ],
          "scatter3d": [
           {
            "line": {
             "colorbar": {
              "outlinewidth": 0,
              "ticks": ""
             }
            },
            "marker": {
             "colorbar": {
              "outlinewidth": 0,
              "ticks": ""
             }
            },
            "type": "scatter3d"
           }
          ],
          "scattercarpet": [
           {
            "marker": {
             "colorbar": {
              "outlinewidth": 0,
              "ticks": ""
             }
            },
            "type": "scattercarpet"
           }
          ],
          "scattergeo": [
           {
            "marker": {
             "colorbar": {
              "outlinewidth": 0,
              "ticks": ""
             }
            },
            "type": "scattergeo"
           }
          ],
          "scattergl": [
           {
            "marker": {
             "colorbar": {
              "outlinewidth": 0,
              "ticks": ""
             }
            },
            "type": "scattergl"
           }
          ],
          "scattermapbox": [
           {
            "marker": {
             "colorbar": {
              "outlinewidth": 0,
              "ticks": ""
             }
            },
            "type": "scattermapbox"
           }
          ],
          "scatterpolar": [
           {
            "marker": {
             "colorbar": {
              "outlinewidth": 0,
              "ticks": ""
             }
            },
            "type": "scatterpolar"
           }
          ],
          "scatterpolargl": [
           {
            "marker": {
             "colorbar": {
              "outlinewidth": 0,
              "ticks": ""
             }
            },
            "type": "scatterpolargl"
           }
          ],
          "scatterternary": [
           {
            "marker": {
             "colorbar": {
              "outlinewidth": 0,
              "ticks": ""
             }
            },
            "type": "scatterternary"
           }
          ],
          "surface": [
           {
            "colorbar": {
             "outlinewidth": 0,
             "ticks": ""
            },
            "colorscale": [
             [
              0,
              "#0d0887"
             ],
             [
              0.1111111111111111,
              "#46039f"
             ],
             [
              0.2222222222222222,
              "#7201a8"
             ],
             [
              0.3333333333333333,
              "#9c179e"
             ],
             [
              0.4444444444444444,
              "#bd3786"
             ],
             [
              0.5555555555555556,
              "#d8576b"
             ],
             [
              0.6666666666666666,
              "#ed7953"
             ],
             [
              0.7777777777777778,
              "#fb9f3a"
             ],
             [
              0.8888888888888888,
              "#fdca26"
             ],
             [
              1,
              "#f0f921"
             ]
            ],
            "type": "surface"
           }
          ],
          "table": [
           {
            "cells": {
             "fill": {
              "color": "#EBF0F8"
             },
             "line": {
              "color": "white"
             }
            },
            "header": {
             "fill": {
              "color": "#C8D4E3"
             },
             "line": {
              "color": "white"
             }
            },
            "type": "table"
           }
          ]
         },
         "layout": {
          "annotationdefaults": {
           "arrowcolor": "#2a3f5f",
           "arrowhead": 0,
           "arrowwidth": 1
          },
          "autotypenumbers": "strict",
          "coloraxis": {
           "colorbar": {
            "outlinewidth": 0,
            "ticks": ""
           }
          },
          "colorscale": {
           "diverging": [
            [
             0,
             "#8e0152"
            ],
            [
             0.1,
             "#c51b7d"
            ],
            [
             0.2,
             "#de77ae"
            ],
            [
             0.3,
             "#f1b6da"
            ],
            [
             0.4,
             "#fde0ef"
            ],
            [
             0.5,
             "#f7f7f7"
            ],
            [
             0.6,
             "#e6f5d0"
            ],
            [
             0.7,
             "#b8e186"
            ],
            [
             0.8,
             "#7fbc41"
            ],
            [
             0.9,
             "#4d9221"
            ],
            [
             1,
             "#276419"
            ]
           ],
           "sequential": [
            [
             0,
             "#0d0887"
            ],
            [
             0.1111111111111111,
             "#46039f"
            ],
            [
             0.2222222222222222,
             "#7201a8"
            ],
            [
             0.3333333333333333,
             "#9c179e"
            ],
            [
             0.4444444444444444,
             "#bd3786"
            ],
            [
             0.5555555555555556,
             "#d8576b"
            ],
            [
             0.6666666666666666,
             "#ed7953"
            ],
            [
             0.7777777777777778,
             "#fb9f3a"
            ],
            [
             0.8888888888888888,
             "#fdca26"
            ],
            [
             1,
             "#f0f921"
            ]
           ],
           "sequentialminus": [
            [
             0,
             "#0d0887"
            ],
            [
             0.1111111111111111,
             "#46039f"
            ],
            [
             0.2222222222222222,
             "#7201a8"
            ],
            [
             0.3333333333333333,
             "#9c179e"
            ],
            [
             0.4444444444444444,
             "#bd3786"
            ],
            [
             0.5555555555555556,
             "#d8576b"
            ],
            [
             0.6666666666666666,
             "#ed7953"
            ],
            [
             0.7777777777777778,
             "#fb9f3a"
            ],
            [
             0.8888888888888888,
             "#fdca26"
            ],
            [
             1,
             "#f0f921"
            ]
           ]
          },
          "colorway": [
           "#636efa",
           "#EF553B",
           "#00cc96",
           "#ab63fa",
           "#FFA15A",
           "#19d3f3",
           "#FF6692",
           "#B6E880",
           "#FF97FF",
           "#FECB52"
          ],
          "font": {
           "color": "#2a3f5f"
          },
          "geo": {
           "bgcolor": "white",
           "lakecolor": "white",
           "landcolor": "#E5ECF6",
           "showlakes": true,
           "showland": true,
           "subunitcolor": "white"
          },
          "hoverlabel": {
           "align": "left"
          },
          "hovermode": "closest",
          "mapbox": {
           "style": "light"
          },
          "paper_bgcolor": "white",
          "plot_bgcolor": "#E5ECF6",
          "polar": {
           "angularaxis": {
            "gridcolor": "white",
            "linecolor": "white",
            "ticks": ""
           },
           "bgcolor": "#E5ECF6",
           "radialaxis": {
            "gridcolor": "white",
            "linecolor": "white",
            "ticks": ""
           }
          },
          "scene": {
           "xaxis": {
            "backgroundcolor": "#E5ECF6",
            "gridcolor": "white",
            "gridwidth": 2,
            "linecolor": "white",
            "showbackground": true,
            "ticks": "",
            "zerolinecolor": "white"
           },
           "yaxis": {
            "backgroundcolor": "#E5ECF6",
            "gridcolor": "white",
            "gridwidth": 2,
            "linecolor": "white",
            "showbackground": true,
            "ticks": "",
            "zerolinecolor": "white"
           },
           "zaxis": {
            "backgroundcolor": "#E5ECF6",
            "gridcolor": "white",
            "gridwidth": 2,
            "linecolor": "white",
            "showbackground": true,
            "ticks": "",
            "zerolinecolor": "white"
           }
          },
          "shapedefaults": {
           "line": {
            "color": "#2a3f5f"
           }
          },
          "ternary": {
           "aaxis": {
            "gridcolor": "white",
            "linecolor": "white",
            "ticks": ""
           },
           "baxis": {
            "gridcolor": "white",
            "linecolor": "white",
            "ticks": ""
           },
           "bgcolor": "#E5ECF6",
           "caxis": {
            "gridcolor": "white",
            "linecolor": "white",
            "ticks": ""
           }
          },
          "title": {
           "x": 0.05
          },
          "xaxis": {
           "automargin": true,
           "gridcolor": "white",
           "linecolor": "white",
           "ticks": "",
           "title": {
            "standoff": 15
           },
           "zerolinecolor": "white",
           "zerolinewidth": 2
          },
          "yaxis": {
           "automargin": true,
           "gridcolor": "white",
           "linecolor": "white",
           "ticks": "",
           "title": {
            "standoff": 15
           },
           "zerolinecolor": "white",
           "zerolinewidth": 2
          }
         }
        },
        "title": {
         "text": "Top 30 Countries With Most Gold Medals Won"
        }
       }
      }
     },
     "metadata": {},
     "output_type": "display_data"
    }
   ],
   "source": [
    "def treemap_most_x_medals_won(medal, df):\n",
    "  gold_athlete = df[(df['Medal'] == medal)].dropna()\n",
    "  #gold_athlete = gold_athlete[['Team', 'Medal']].sort_values(by=['Team'])\n",
    "  gold_athlete = gold_athlete.groupby(['Team'])['Medal'].count().reset_index(\n",
    "    name='Count').sort_values(['Count'], ascending=False)\n",
    "\n",
    "  fig = px.treemap(gold_athlete.head(30), path=['Team'], values='Count',\n",
    "                    color='Count', hover_data=['Team'], title=f'Top 30 Countries With Most {medal} Medals Won')\n",
    "  return fig\n",
    "\n",
    "treemap_most_x_medals_won(\"Gold\", athlete_events)"
   ]
  }
 ],
 "metadata": {
  "kernelspec": {
   "display_name": "Python 3.9.13 ('Databehandling-Daniel-Nilsson-esAQ05u4')",
   "language": "python",
   "name": "python3"
  },
  "language_info": {
   "codemirror_mode": {
    "name": "ipython",
    "version": 3
   },
   "file_extension": ".py",
   "mimetype": "text/x-python",
   "name": "python",
   "nbconvert_exporter": "python",
   "pygments_lexer": "ipython3",
   "version": "3.9.13"
  },
  "orig_nbformat": 4,
  "vscode": {
   "interpreter": {
    "hash": "2c026f9a4ffd2ee5a23e30db385042e828587791d51ac8ef89f88ac6abb0fa80"
   }
  }
 },
 "nbformat": 4,
 "nbformat_minor": 2
}
